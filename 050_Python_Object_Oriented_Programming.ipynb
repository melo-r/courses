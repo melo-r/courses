{
  "nbformat": 4,
  "nbformat_minor": 0,
  "metadata": {
    "colab": {
      "name": "050_Python Object-Oriented Programming.ipynb",
      "provenance": []
    },
    "kernelspec": {
      "name": "python3",
      "display_name": "Python 3"
    },
    "language_info": {
      "name": "python"
    }
  },
  "cells": [
    {
      "cell_type": "markdown",
      "metadata": {
        "id": "jM8C7vvBSHtO"
      },
      "source": [
        "**Python Object-Oriented Programming-Joe Marini** \n",
        "\n",
        "https://www.linkedin.com/learning/python-object-oriented-programming"
      ]
    },
    {
      "cell_type": "markdown",
      "metadata": {
        "id": "TMp8bFEdSDfN"
      },
      "source": [
        "# 1-Objected-Oriented Python - 2 Basic class definition"
      ]
    },
    {
      "cell_type": "code",
      "metadata": {
        "id": "lZMB91LKSRS3"
      },
      "source": [
        "#definition_start.py"
      ],
      "execution_count": null,
      "outputs": []
    },
    {
      "cell_type": "code",
      "metadata": {
        "id": "RtzbSHXXMgnQ"
      },
      "source": [
        "#create a basic class\n",
        "class Book:\n",
        "    def __init__(self, title):\n",
        "        self.title = title\n"
      ],
      "execution_count": null,
      "outputs": []
    },
    {
      "cell_type": "code",
      "metadata": {
        "id": "ZA2jULt_M9nW"
      },
      "source": [
        "# create instances of the class\n",
        "b1 = Book(\"Brave New World\")\n",
        "b2 = Book(\"War and Peace\")\n"
      ],
      "execution_count": null,
      "outputs": []
    },
    {
      "cell_type": "code",
      "metadata": {
        "colab": {
          "base_uri": "https://localhost:8080/"
        },
        "id": "CKnGvFEONAHM",
        "outputId": "9a96b67b-c7cf-4e94-d43e-72eb788784fb"
      },
      "source": [
        "# print the class and property\n",
        "print(b1)\n",
        "print(b1.title)"
      ],
      "execution_count": null,
      "outputs": [
        {
          "output_type": "stream",
          "text": [
            "<__main__.Book object at 0x7fedbc076050>\n",
            "Brave New World\n"
          ],
          "name": "stdout"
        }
      ]
    },
    {
      "cell_type": "markdown",
      "metadata": {
        "id": "6Vg3j9glSJrf"
      },
      "source": [
        "# 1-Objected-Oriented Python - 2 Basic class definition"
      ]
    },
    {
      "cell_type": "code",
      "metadata": {
        "colab": {
          "base_uri": "https://localhost:8080/"
        },
        "id": "nCTc6BrySLWG",
        "outputId": "9a434fad-cb15-47ab-9be6-479b41ababea"
      },
      "source": [
        "#definition_start.py\n",
        "\n",
        "#create a basic class\n",
        "class Book:\n",
        "    def __init__(self, title, author, pages, price):\n",
        "        self.title = title\n",
        "        self.author = author\n",
        "        self.pages = pages\n",
        "        self.price = price\n",
        "\n",
        "    # create instance methods\n",
        "    def getprice(self):\n",
        "        '''\n",
        "        Let's modify the getprice function to use the discount if it's defined. \n",
        "        Now since discount was not defined during the init function we can't rely on it being present because setdiscount might not have been called yet. \n",
        "        So we need to test for it by using the has attribute function. So I'll call if has attribute and I'm going to test my object to see if the discount attribute is present. \n",
        "        So if it's there I'm going to return self.price minus self.price times self._discount. Otherwise just return self.price. \n",
        "        All right. So let's try that function out. So we'll go ahead and print book two's price. And then we'll set the discount to be 0.25 percent. And then we'll try printing the price again. \n",
        "        '''\n",
        "        if hasattr(self, \"_discount\"):\n",
        "           return self.price - (self.price * self._discount)\n",
        "        else:\n",
        "           return self.price\n",
        "\n",
        "    def setdiscount(self, amount):\n",
        "        ''' Now notice how I have an underscore in front of the attribute name. \n",
        "        The reason for this is to give other developers who use this class a hint that this attribute is considered internal to the class and should not be accessed from outside the class's logic. \n",
        "        Other languages like Java or C# have a way of declaring attributes that are only intended to be used within the logic of the class where they're defined. \n",
        "        But Python doesn't have a formal way of enforcing this. The underscore in the name basically tells other programmers hey, this attribute can't be relied on to stay this name so don't use it in your code. \n",
        "        So now that we've defined the attribute, we can use it elsewhere in the class. '''\n",
        "        self._discount = amount\n",
        "\n",
        "# create instances of the class\n",
        "b1 = Book(\"War and Peace\",\"Leo\", 1225, 39.95)\n",
        "b2 = Book(\"The Catcher in the Rye\",\"JD\", 234, 29.95)\n",
        "\n",
        "# print the price of book1\n",
        "print(b1.getprice())\n",
        "\n",
        "# try setting the discount\n",
        "print(b2.getprice())\n",
        "b2.setdiscount(0.25)\n",
        "print(b2.getprice())"
      ],
      "execution_count": null,
      "outputs": [
        {
          "output_type": "stream",
          "text": [
            "39.95\n",
            "29.95\n",
            "22.4625\n"
          ],
          "name": "stdout"
        }
      ]
    },
    {
      "cell_type": "markdown",
      "metadata": {
        "id": "hVeW_Uo7TQ8p"
      },
      "source": [
        "# 1-Objected-Oriented Python - 3 Instance methods and attributes"
      ]
    },
    {
      "cell_type": "code",
      "metadata": {
        "colab": {
          "base_uri": "https://localhost:8080/",
          "height": 197
        },
        "id": "fjjhAYITTUDv",
        "outputId": "d707e230-b91f-43c4-e398-69e09b1bfc50"
      },
      "source": [
        "#definition_start.py\n",
        "\n",
        "#create a basic class\n",
        "class Book:\n",
        "    def __init__(self, title, author, pages, price):\n",
        "        self.title = title\n",
        "        self.author = author\n",
        "        self.pages = pages\n",
        "        self.price = price\n",
        "        self.__secret = \"This is a secret attribute\"\n",
        "\n",
        "    # create instance methods\n",
        "    def getprice(self):\n",
        "        if hasattr(self, \"_discount\"):\n",
        "           return self.price - (self.price * self._discount)\n",
        "        else:\n",
        "           return self.price\n",
        "\n",
        "    def setdiscount(self, amount):\n",
        "        ''' notice the underscore  in this function, the  reason for this is to give other developers\n",
        "        who use this class a hint, that this attribute is considered internal to the class and should\n",
        "        not be accessed from outside the class's logic '''\n",
        "        self._discount = amount\n",
        "\n",
        "# create instances of the class\n",
        "b1 = Book(\"War and Peace\",\"Leo\", 1225, 39.95)\n",
        "b2 = Book(\"The Catcher in the Rye\",\"JD\", 234, 29.95)\n",
        "\n",
        "# properties with double underscores are hidden by the interpreter\n",
        "print(b2.__secret)"
      ],
      "execution_count": null,
      "outputs": [
        {
          "output_type": "error",
          "ename": "AttributeError",
          "evalue": "ignored",
          "traceback": [
            "\u001b[0;31m---------------------------------------------------------------------------\u001b[0m",
            "\u001b[0;31mAttributeError\u001b[0m                            Traceback (most recent call last)",
            "\u001b[0;32m<ipython-input-10-5b3a2bd3fb60>\u001b[0m in \u001b[0;36m<module>\u001b[0;34m()\u001b[0m\n\u001b[1;32m     28\u001b[0m \u001b[0;34m\u001b[0m\u001b[0m\n\u001b[1;32m     29\u001b[0m \u001b[0;31m# properties with double underscores are hidden by the interpreter\u001b[0m\u001b[0;34m\u001b[0m\u001b[0;34m\u001b[0m\u001b[0;34m\u001b[0m\u001b[0m\n\u001b[0;32m---> 30\u001b[0;31m \u001b[0mprint\u001b[0m\u001b[0;34m(\u001b[0m\u001b[0mb2\u001b[0m\u001b[0;34m.\u001b[0m\u001b[0m__secret\u001b[0m\u001b[0;34m)\u001b[0m\u001b[0;34m\u001b[0m\u001b[0;34m\u001b[0m\u001b[0m\n\u001b[0m",
            "\u001b[0;31mAttributeError\u001b[0m: 'Book' object has no attribute '__secret'"
          ]
        }
      ]
    },
    {
      "cell_type": "markdown",
      "metadata": {
        "id": "g6f3ryEiVmlA"
      },
      "source": [
        "And you can see that I'm getting an error because that property can't be seen outside the class. You can see it say attribute error and then the book object has no attribute double underscore secret. However, this is not a perfect mechanism. So the way that Python does this is by prefixing the name of the attribute with the class name. This is called name mangling. The reason for this feature is to prevent sub classes, which we'll learn about later, from inadvertently overriding the attribute, but other classes can subvert this simply by using the class name. So if I go back to the code and just simply put underscore book in front of this and then save it, I'm going to run this again. "
      ]
    },
    {
      "cell_type": "code",
      "metadata": {
        "colab": {
          "base_uri": "https://localhost:8080/"
        },
        "id": "hbtEEsiGVSEX",
        "outputId": "1fbefeed-70ad-44ec-a7ac-4a1b4006ab55"
      },
      "source": [
        "# properties with double underscores are hidden by the interpreter\n",
        "print(b2._Book__secret)"
      ],
      "execution_count": null,
      "outputs": [
        {
          "output_type": "stream",
          "text": [
            "This is a secret attribute\n"
          ],
          "name": "stdout"
        }
      ]
    },
    {
      "cell_type": "markdown",
      "metadata": {
        "id": "KJ_EyxeTWDV4"
      },
      "source": [
        "All right, well there's the print out, right. It says now this is a secret attribute. You can see now that I can access the property. So it's not a perfect solution, but you can use this approach to make sure that subclasses don't use the same name for an attribute that you've already used. Now in some cases that's exactly what you want. You do want subclasses to overwrite things sometimes. But if you need to make sure that they don't, then the double underscore can prevent that."
      ]
    },
    {
      "cell_type": "markdown",
      "metadata": {
        "id": "M-OkI7zzX_Eh"
      },
      "source": [
        "# 1-Objected-Oriented Python - 4 Checking instance types"
      ]
    },
    {
      "cell_type": "markdown",
      "metadata": {
        "id": "37MeqFE8aLPo"
      },
      "source": [
        "Checking instance types\n",
        "\n",
        "Sometimes it's useful to be able to check, during runtime, what type or class a given object is, and in Python we can do this with the type function and the isinstance function. Let's open up typecheck_start to see how this works. \n"
      ]
    },
    {
      "cell_type": "code",
      "metadata": {
        "colab": {
          "base_uri": "https://localhost:8080/"
        },
        "id": "n2f6yA_SYBnw",
        "outputId": "dfdf3717-6278-45ad-ae9d-da33cfe405c8"
      },
      "source": [
        "#typecheck_start.py\n",
        "\n",
        "#create a basic class\n",
        "class Book:\n",
        "    def __init__(self, title):\n",
        "        self.title = title\n",
        "\n",
        "class Newspaper:\n",
        "    def __init__(self, name):\n",
        "        self.name = name\n",
        "\n",
        "# create some instances of the classes\n",
        "b1 = Book(\"The Catcher in the Rye\")\n",
        "b2 = Book(\"The Grapes of Wrath\")\n",
        "n1 = Newspaper(\"The Washington Post\")\n",
        "n2 = Newspaper(\"The New York Times\")\n",
        "\n",
        "# use type() to inspect the object type\n",
        "print(type(b1))\n",
        "print(type(n1))"
      ],
      "execution_count": null,
      "outputs": [
        {
          "output_type": "stream",
          "text": [
            "<class '__main__.Book'>\n",
            "<class '__main__.Newspaper'>\n"
          ],
          "name": "stdout"
        }
      ]
    },
    {
      "cell_type": "markdown",
      "metadata": {
        "id": "Upy6drwWaxwC"
      },
      "source": [
        "So here in my code you can see that we have two classes defined. One is called Book and one is called Newspaper, and there's also some code that creates some object instances of each type. So, let's first use the type function to see what type a given object is. So I'll print and then call type and then pass in b1 and I'll copy that and try the same thing with n1, which is a Newspaper. So b1 is a Book, n1 is a Newspaper, and I'm going to go ahead and run this. And you can see that when I run this that b1 is of type Book, right here Class Book, and the other one is called Class Newspaper. Now the type function is useful because you can use it to compare two different objects to see if they are the same type."
      ]
    },
    {
      "cell_type": "code",
      "metadata": {
        "colab": {
          "base_uri": "https://localhost:8080/"
        },
        "id": "wb8VNLwWay54",
        "outputId": "9eeb3833-f280-4bc0-991c-1a02d20668ca"
      },
      "source": [
        "'''I can say print and call type of Book One and check to see if it's the same type as b2, \n",
        "and just for completeness, let's try comparing Book One with Newspaper Two, all right. '''\n",
        "\n",
        "# compare two types together\n",
        "print(type(b1) == type(b2))\n",
        "print(type(b1) == type(n2))"
      ],
      "execution_count": null,
      "outputs": [
        {
          "output_type": "stream",
          "text": [
            "True\n",
            "False\n"
          ],
          "name": "stdout"
        }
      ]
    },
    {
      "cell_type": "markdown",
      "metadata": {
        "id": "ZACEdpkLbyOh"
      },
      "source": [
        "And you can see that the two Book objects are of the same type, whereas the Book and the Newspaper are obviously different types. So, to see if a given object is an instance of a particular class, it's much cleaner to use the isinstance function rather than trying to parse the type string, which you can do, but there's a function that's already built in for this. \n"
      ]
    },
    {
      "cell_type": "code",
      "metadata": {
        "colab": {
          "base_uri": "https://localhost:8080/"
        },
        "id": "gF0LlyQVcATJ",
        "outputId": "7481f9e1-ab11-4f63-e9a4-b00613148701"
      },
      "source": [
        "'''So let's go ahead and try that out. I'm going to print out and I'm going to call isinstance and \n",
        "I'll pass in the Book object and then the Book class. Not in a string, not in quotes or anything, \n",
        "just the actual class itself, and then I'll do the same thing. I'll check to see if n1 is a Newspaper and then \n",
        "I'll try that one more time, and I'll try checking n2 against the Book class. \n",
        "Now, it's also possible to use this on subclasses and we haven't really covered inheritance in subclasses yet, \n",
        "but in Python everything is a subclass of the Object class, so we can try that as well. \n",
        "So I'll print isinstance and check the Newspaper against the built in object type.'''\n",
        "\n",
        "# use isinstance to compare a specific instance to a known type\n",
        "print(isinstance(b1, Book))\n",
        "print(isinstance(n1, Newspaper))\n",
        "print(isinstance(n2, Book))\n",
        "print(isinstance(n2, object))"
      ],
      "execution_count": null,
      "outputs": [
        {
          "output_type": "stream",
          "text": [
            "True\n",
            "True\n",
            "False\n",
            "True\n"
          ],
          "name": "stdout"
        }
      ]
    },
    {
      "cell_type": "markdown",
      "metadata": {
        "id": "NUsvgK7rc6YS"
      },
      "source": [
        "So I'll save and I'll run and you can see that in the first case, let me scroll the code down here. So, b1 is an instance of Book, n1 is an instance of Newspaper, n2 is not an instance of Book, but n2 is an instance of Object of which every Python object is a type because all classes in Python derive from Object."
      ]
    },
    {
      "cell_type": "markdown",
      "metadata": {
        "id": "1jytY5BVc7d1"
      },
      "source": [
        "# 1-Objected-Oriented Python - 5 Class methods and members"
      ]
    },
    {
      "cell_type": "markdown",
      "metadata": {
        "id": "yXTkI2Cic-MC"
      },
      "source": [
        "Let's finish up this chapter by examining two more kinds of methods and attributes. So we're going to look at class and static methods and attributes in this example. So here in my editor I have opened up the class_start.py file. And there's already some code filled out for the book class. So I'll just collapse this down. So we've already seen how the init function works. And we've already learned about instance functions. And we know for example that setTitle is an instance function that sets the book's title in this case. And the title attribute itself is an instance attribute because its value is associated with each instance of the object that gets created from this class. So now let's start with class-level methods and attributes. These are different from their instance versions because they are shared at the class level across all instances of that class. Now that might sound a little confusing so let's take a look at a concrete example. Suppose we wanted to make sure that each book object was assigned a specific book type when it was created such as hard cover or paperback or ebook. Now we could define an instance attribute that enumerates these values but since it's going to apply to all the book objects it would make more sense to just define it once. What I can do is create an attribute at the class level outside of any of the instance methods and I'm going to use all caps here to indicate that this is a class attribute. And I'll call it Book_Types and I'm going to initialize it to a tuple that contains hardcover, paperback, and ebook. So then I can have the init method take the book type parameter and then I can check to make sure that the given type is one of the values that the class allows. So I'll write if not and then booktype in and then to refer to the class variable I use the class name. So it's book.book_types. Then I'm going to raise a ValueError and we're going to use my format string here to say that booktype is not a valid book type. Otherwise we'll just go ahead and set self.booktype equal to booktype. Okay. Let's also add a class method that returns the booktypes list. So to do this I create a method and I use the classmethod decorator. And I'll define the method called getbooktypes. And this works on a class instance not an object instance. So I'm going to return the classes BOOK_TYPES constant. And then let's go ahead and print out the result of our class attributes. So we're going to go ahead and call print and I'll write book types and once again I use the class name to call the class method. All right. So actually I need to change my object code here where I create the books. So let's make the first one a hard cover. And then let's make the other one a comic. Okay, so let's go ahead and run. And here in my terminal you'll see that we successfully print out the book types. So that's this line of code right here. But then I get an error, right, because it says COMIC is not a valid book type. It's not one of the pre-defined book types that I've defined. So let's go ahead and change that. Let's make this paperback. All right. And then let's run again. And now we see that everything is fine. Okay, so let's go ahead and take a look at static methods now. So where instance methods work on specific objects and class methods work on the entire class, static methods are different in that they don't modify the state of either the class or a specific object instance. And I should point out here that there aren't really that many great use cases for static methods. They are useful, however, for scenarios where you don't need to access any properties of a particular object or the class itself but where it makes sense for the method to belong to the class. In other words it's a good way of name spacing certain kinds of methods. Whereas you might in another way create a global function, this is a way of taking a global function and just putting it in the classes namespace. So one good example of static methods is to implement a singleton design pattern. And remember, the singleton design pattern let's us make sure that only one instance of a particular variable or object is ever created. So let's imagine that we wanted to have book class to be responsible for keeping track of a list of books. Now we could create a global variable to hold all the books but it might be a better approach to encapsulate that behavior within the book class. So what I'm going to do here is create a double underscore attribute named booklist. And remember, the double underscore essentially makes this a private variable. And we saw this previously in the chapter. And then I'll define a static method that exposes this property to the consumers of the book class. So I'll initialize this to none and then I'll create a static method to access it. So to create a static method I need to use the static method decorator. And then I'll define my method. I'll call it getbooklist. So then I can check to see if the booklist attribute is null and create a new list. So if book.__booklist is none then I'll just create a new one. And if it's already been created, then we'll just return the existing one. So now let's use this feature to add our books to a list. So I'm going to scroll down to the bottom here and I'll write some code. So I'll create a books variable and I'll assign it to the result of getbooklist. Now remember, this is a static function. It's on the book class, but it doesn't actually modify the class's state. So then I'll write thebooks and I'll append book one and then I'll append book two and then we'll print out thebooks. All right, so let's go ahead and run this. And here in the output we can see that our books are being added to the list. And remember, we've ensured in our logic that only one of these will ever be created. Right, so if it's none, then we create it. Otherwise we just return the existing one. So we've namespaced what would otherwise be a global function to our booklist and this is one of the good uses of a static method. There are some other ones, but more the most part they're really useful for namespacing what would otherwise be a global function into the namespace of a class."
      ]
    },
    {
      "cell_type": "code",
      "metadata": {
        "colab": {
          "base_uri": "https://localhost:8080/"
        },
        "id": "St1LKluWkKY7",
        "outputId": "702e2e42-2112-41d8-e5ea-a8f971552739"
      },
      "source": [
        "# Using class-level and static methods\n",
        "\n",
        "class Book:\n",
        "    # properties defined at class level are shared by all instances\n",
        "    BOOK_TYPES = (\"HARDCOVER\",\"PAPERBACK\",\"EBOOK\")\n",
        "\n",
        "    #double-underscore properties are hidden from other classes\n",
        "    __booklist = None\n",
        "\n",
        "    # create a class method\n",
        "    @classmethod\n",
        "    def getbooktypes(cls):\n",
        "        return cls.BOOK_TYPES\n",
        "\n",
        "    # create a static method\n",
        "    @staticmethod\n",
        "    def getbooklist():\n",
        "        if Book.__booklist == None:\n",
        "            Book.__booklist = []\n",
        "        return Book.__booklist\n",
        "\n",
        "    # instance methods receive a specific object instance as an argument\n",
        "    # and operate on data specific to that object instance\n",
        "    def setTitle(self, newtitle):\n",
        "        self.title = newtitle\n",
        "    \n",
        "    def __init__(self, title, booktype):\n",
        "        self.title = title\n",
        "        if (not booktype in Book.BOOK_TYPES):\n",
        "            raise ValueError(f\"{booktype} is not a valid book type\")\n",
        "        else:\n",
        "            self.booktype = booktype\n",
        "\n",
        "# access the class attribute\n",
        "print(\"Book types: \", Book.getbooktypes())\n",
        "\n",
        "# create some book instances\n",
        "b1 = Book(\"Title 1\", \"HARDCOVER\")\n",
        "b2 = Book(\"Title 2\", \"PAPERBACK\")\n",
        "\n",
        "# use the static method to access a singleton object\n",
        "thebooks = Book.getbooklist()\n",
        "thebooks.append(b1)\n",
        "thebooks.append(b2)\n",
        "print(thebooks)"
      ],
      "execution_count": null,
      "outputs": [
        {
          "output_type": "stream",
          "text": [
            "Book types:  ('HARDCOVER', 'PAPERBACK', 'EBOOK')\n",
            "[<__main__.Book object at 0x7fedbc007b10>, <__main__.Book object at 0x7fedbc007c10>]\n"
          ],
          "name": "stdout"
        }
      ]
    },
    {
      "cell_type": "markdown",
      "metadata": {
        "id": "n57JHflCnvgG"
      },
      "source": [
        "# 2-Inheritance and Composition - 1 Understanding inheritance"
      ]
    },
    {
      "cell_type": "markdown",
      "metadata": {
        "id": "wnfNuT92p10u"
      },
      "source": [
        "One of the core concepts of object-oriented programming is the notion of inheritance, and in this example, we're going to see how that works in Python. Inheritance defines a way for a given class to inherit attributes and methods from one or more base classes. This makes it easy to centralize common functionality and data in one place instead of having it spread out and duplicated across multiple classes. Let's go ahead and open up our inheritance_start file, and in this example, you can see that I have three classes. There's a book, magazine, and newspaper class. Each one of these classes represents a type of publication, and each of them has a set of attributes that are relevant to that publication type. So books have a title and a price along with the author's name and their number of pages. A newspaper also has a title and a price, but they are published on a periodical basis and have a publisher instead of an author. Magazines have a title and price too and have a recurring publishing period and a publisher, and you can also see down here that there's some code that creates each kind of object, and then, accesses some data on each of them. So let's go ahead and run this as is. Alright, and you can see that in the output, we have the book's author, which is this line of code right here, we have the newspaper publisher's name, and then the prices of each one. Now at the moment, each of these is a standalone implementation of it's own class, but let's go back to the code, and you can see that there's a considerable amount of duplication among the data that each class holds."
      ]
    },
    {
      "cell_type": "code",
      "metadata": {
        "colab": {
          "base_uri": "https://localhost:8080/"
        },
        "id": "hxj5uXYS7cQ6",
        "outputId": "e91078e0-5743-4154-af1d-90200ad905dd"
      },
      "source": [
        "# Understanding class inheritance\n",
        "class Book:\n",
        "    def __init__(self, title, author, pages, price):\n",
        "        self.title = title\n",
        "        self.author = author\n",
        "        self.pages = pages\n",
        "        self.price = price\n",
        "\n",
        "class Magazine:\n",
        "    def __init__(self, title, publisher, price, period):\n",
        "        self.title = title\n",
        "        self.publisher = publisher\n",
        "        self.price = price\n",
        "        self.period = period\n",
        " \n",
        "class Newspaper:\n",
        "    def __init__(self, title, publisher, price, period):\n",
        "        self.title = title\n",
        "        self.publisher = publisher\n",
        "        self.price = price\n",
        "        self.period = period\n",
        "\n",
        "b1 = Book(\"Brave New World\",\"Aldous\", 311, 29.0)\n",
        "m1 = Magazine(\"Scientific\",\"Springer Nature\", 5.99, \"Monthly\")\n",
        "n1 = Newspaper(\"NY Times\",\"New Times Company\", 6.0, \"Daily\")\n",
        "\n",
        "print(b1.author)\n",
        "print(m1.publisher)\n",
        "print(n1.publisher)\n",
        "print(b1.price, n1.price, m1.price)"
      ],
      "execution_count": null,
      "outputs": [
        {
          "output_type": "stream",
          "text": [
            "Aldous\n",
            "Springer Nature\n",
            "New Times Company\n",
            "29.0 6.0 5.99\n"
          ],
          "name": "stdout"
        }
      ]
    },
    {
      "cell_type": "markdown",
      "metadata": {
        "id": "Qz-7-SQx97lD"
      },
      "source": [
        "So, for example, all three classes have attributes for title and price, and the newspaper and magazine classes also have the same attributes for period and publisher. So we can improve the organization of these classes and make it easier to introduce new classes by implementing some inheritance and class hierarchy. So let's start with the most obvious duplication, which is the title and price attributes. So one way we can handle this is by defining a new base class called publication, and then, have that class define some common attributes. So I'll put my init function in here, and we'll give that a title and price, parameters, and then we'll just set self.title equals to title, and then the same thing for price. Alright, so now, we can fix the book class and have it inherit from the publication class, and then we're going to put the name of the base class in the parenthesis here, and now what we need to do is call these super classes init function, and then, we can just take off the title and price, and then just have the book specific attributes in the book class. Now we could do the same thing with newspaper and magazine classes, but there's some duplication here too. Both of these classes have period and publisher attributes, so that's a pretty good hint that we can collect those in a superclass too. So let's go ahead and make another base class and we'll call this one periodical, and we'll have that class based on publication, and then, once again, we'll create the init, and a periodical will have it's self, title, price, period, and publisher, so then we call the superclasses init for the title and the price, and then, we'll have the periodical class to find the period and the publisher. Alright, so let's go ahead and save that. Okay, so now, we have a class hierarchy with publication at the top, and book inherits from that, and then we have periodical, and then, that inherits from publication as well, and now we have to fix magazine and publisher to inherit from periodical. So let's go ahead and do that, so now we have the base classes, and what we're going to do is call the superclass to init each of these, and we'll pass in the title, price, period, and publisher, and then we no longer need these, and then I can just do the same thing here for the newspaper class. Alright, so now, we should be able to run our original code that creates these objects and accesses the data without any changes, so let's go ahead and try that, and when I execute the code, you can see that the output is the same as before. So we're getting the same results, but with much better code organization, which is one of the main benefits of inheritance. So I can now add properties that are specific to each kind of publication just in one place and I only have one place to edit them if I want to change the names of any of these attributes going forward."
      ]
    },
    {
      "cell_type": "code",
      "metadata": {
        "colab": {
          "base_uri": "https://localhost:8080/"
        },
        "id": "MaNFIWWk9_ji",
        "outputId": "8cbcf86b-0991-4b75-e369-849d0fea4a2e"
      },
      "source": [
        "class Publication:\n",
        "    def __init__(self, title, price):\n",
        "        self.title = title\n",
        "        self.price = price\n",
        "\n",
        "class Periodical(Publication):\n",
        "    def __init__(self, title, price, period, publisher):\n",
        "        super().__init__(title, price)\n",
        "        self.period = period\n",
        "        self.publisher = publisher\n",
        "\n",
        "\n",
        "class Book(Publication):\n",
        "    def __init__(self, title, author, pages, price):\n",
        "        super().__init__(title, price)\n",
        "        self.author = author\n",
        "        self.pages = pages\n",
        "\n",
        "class Magazine(Periodical):\n",
        "    def __init__(self, title, publisher, price, period):\n",
        "        super().__init__(title, price, period, publisher)\n",
        " \n",
        "class Newspaper(Periodical):\n",
        "    def __init__(self, title, publisher, price, period):\n",
        "        super().__init__(title, price, period, publisher)\n",
        "\n",
        "b1 = Book(\"Brave New World\",\"Aldous\", 311, 29.0)\n",
        "m1 = Magazine(\"Scientific\",\"Springer Nature\", 5.99, \"Monthly\")\n",
        "n1 = Newspaper(\"NY Times\",\"New Times Company\", 6.0, \"Daily\")\n",
        "\n",
        "print(b1.author)\n",
        "print(m1.publisher)\n",
        "print(n1.publisher)\n",
        "print(b1.price, n1.price, m1.price)"
      ],
      "execution_count": null,
      "outputs": [
        {
          "output_type": "stream",
          "text": [
            "Aldous\n",
            "Springer Nature\n",
            "New Times Company\n",
            "29.0 6.0 5.99\n"
          ],
          "name": "stdout"
        }
      ]
    },
    {
      "cell_type": "markdown",
      "metadata": {
        "id": "ZFUQ2xjcAXJT"
      },
      "source": [
        "# 2-Inheritance and Composition - 2 Abstract base classes"
      ]
    },
    {
      "cell_type": "markdown",
      "metadata": {
        "id": "t-2frnOhAkSM"
      },
      "source": [
        "So now that we've seen how inheritance works in Python, let's move on to a related topic called abstract base classes. There's a fairly common design pattern programming where you want to provide a base class that defines a template for other classes to inherit from, but with a couple of twists. So first, you don't want consumers of your base class to be able to create instances of the base class itself. Because it's just intended to be a blueprint. It's just an idea. And you want subclasses to provide concrete implementations of that idea. And then second, you want to enforce the constraint that there are certain methods in the base class that subclasses have to implement. And this is where abstract base classes become really useful. So let's go ahead and open up the abstract underscore start file. Let's imagine that we're building a drawing program that lets the user create different kinds of two dimensional shapes. And we want the program to be extensible so that new shape types can be added. So you can see here that I've defined a base class called graphic shape, and it has a function called calcArea that is currently empty, right? There's no implementation here. And then I have two subclasses, circle and square, both of which inherit from graphics shape. So the scenario here is that we want each shape to inherit from graphic shape. We want to enforce that every shape implements the calcArea function, and we want to prevent the graphic shape class itself from being instantiated on its own. Now, if I run the existing code that I have here, you'll see that none of these constraints are currently enforced. So I can instantiate the graphic shape. And if I run this, you'll see that the calcArea function returns nothing, right? Because we didn't override that in the subclasses."
      ]
    },
    {
      "cell_type": "code",
      "metadata": {
        "colab": {
          "base_uri": "https://localhost:8080/"
        },
        "id": "yB3dUMIOC0Qa",
        "outputId": "a18dae01-2fd1-4f72-dc1e-8bddfe4a3328"
      },
      "source": [
        "#abstract_start.py\n",
        "\n",
        "# Using Abstract Base Classes to enforce class constraints\n",
        "\n",
        "class GraphicShape:\n",
        "    def __init__(self):\n",
        "        super().__init__()\n",
        "\n",
        "    def calcArea(self):\n",
        "        pass\n",
        "\n",
        "class Circle(GraphicShape):\n",
        "    def __init__(self, radius):\n",
        "        self.radius = radius\n",
        "\n",
        "class Square(GraphicShape):\n",
        "    def __init__(self, side):\n",
        "        self.side = side\n",
        "\n",
        "g = GraphicShape()\n",
        "\n",
        "c = Circle(10)\n",
        "print(c.calcArea())\n",
        "s = Square(12)\n",
        "print(s.calcArea())"
      ],
      "execution_count": null,
      "outputs": [
        {
          "output_type": "stream",
          "text": [
            "None\n",
            "None\n"
          ],
          "name": "stdout"
        }
      ]
    },
    {
      "cell_type": "markdown",
      "metadata": {
        "id": "6n5IYMRkDFWa"
      },
      "source": [
        "So to fix this, let's go back to the code, I'm going to use the ABC module from the standard library. So what I'm going to do is from ABC, I'm going to import ABC. And I'm going to use abstract method. Alright, so the first thing I'm going to do is have graphic shape inherit from the ABC base class. And that stands for abstract base class. Then I'm going to use the abstract method decorator to indicate that the calcArea function is an abstract method. So this tells Python that there's no implementation in the base class. And each subclass has to override this method. So now you'll see if I run this, well, now I get an error from trying to instantiate the graphic shape right? It says can't instantiate abstract class graphic shape. So let's go ahead and comment that out. All right, and now let's try it again. Now I'm getting another error, right? It says that my subclass didn't override the calcArea method. So now I need to fix that too. Let's go back to the code. And so for the circle, I'm going to write def calcArea. And that's going to return 3.14, which is pi, right? Times the radius of the circle squared. And then for the square, I'll do the same thing. And that's going to return self dot side times self dot side, okay? All right, so now I've satisfied all the conditions. I'm no longer trying to instantiate the graphic shape by itself, and now both of my subclasses, override calcArea. So let's run this again. And now you can see that everything is working. So abstract base classes can be a very useful tool for enforcing a set of constraints among the consumers of your classes. So it's worth taking the time to experiment with these and understand their benefits."
      ]
    },
    {
      "cell_type": "code",
      "metadata": {
        "colab": {
          "base_uri": "https://localhost:8080/"
        },
        "id": "aZIEu4RMDINz",
        "outputId": "813d8816-c908-444d-dee8-1afda633842b"
      },
      "source": [
        "from abc import ABC, abstractmethod\n",
        "\n",
        "class GraphicShape:\n",
        "    def __init__(self):\n",
        "        super().__init__()\n",
        "\n",
        "    @abstractmethod\n",
        "    def calcArea(self):\n",
        "        pass\n",
        "\n",
        "class Circle(GraphicShape):\n",
        "    def __init__(self, radius):\n",
        "        self.radius = radius\n",
        "\n",
        "    def calcArea(self):\n",
        "        return 3.14 * (self.radius ** 2)\n",
        "\n",
        "class Square(GraphicShape):\n",
        "    def __init__(self, side):\n",
        "        self.side = side\n",
        "\n",
        "    def calcArea(self):\n",
        "        return self.side * self.side\n",
        "\n",
        "c = Circle(10)\n",
        "print(c.calcArea())\n",
        "s = Square(12)\n",
        "print(s.calcArea())"
      ],
      "execution_count": null,
      "outputs": [
        {
          "output_type": "stream",
          "text": [
            "314.0\n",
            "144\n"
          ],
          "name": "stdout"
        }
      ]
    },
    {
      "cell_type": "markdown",
      "metadata": {
        "id": "_DC_ff1FAhDh"
      },
      "source": [
        "# 2-Inheritance and Composition - 3 Using multiple inheritance"
      ]
    },
    {
      "cell_type": "markdown",
      "metadata": {
        "id": "hiHOGa40EK96"
      },
      "source": [
        "Unlike some other popular programming languages, Python lets you define classes that can inherit from more than one base class. This is called multiple inheritance and while it can be a useful tool, it can also cause a lot of problems if you don't use it carefully. So let's open up the multiple_start file and see how it works. So here in my code I have two classes, Class A and Class B, each of which define an attribute. So, in Class A we have foo and in Class B we have bar. Then I have a third class named Class C, which lists both Class A and Class B as base classes, separated by a comma, and this is how you inherit from more than one class at the same time. So, let's go ahead and add a method to Class C to print out those attributes. So I'm going to call the method showprops and I'm going to print out self.foo and then I'm going to print out self.bar, each of which is inherited. And then let's call that method after the C object is created. All right, so let's go ahead and run this code. And in the output you can see that the two properties are being printed, right, so there's foo and there's bar. So everything seems fine. But what happens when each of the two superclasses define the same attribute? "
      ]
    },
    {
      "cell_type": "code",
      "metadata": {
        "colab": {
          "base_uri": "https://localhost:8080/"
        },
        "id": "y04iOywgGTet",
        "outputId": "a906ccfc-7ad7-460f-f1ee-dbe5700cd8a2"
      },
      "source": [
        "# Understading multiple inheritance\n",
        "\n",
        "class A:\n",
        "    def __init__(self):\n",
        "        super().__init__()\n",
        "        self.foo = \"foo\"\n",
        "\n",
        "class B:\n",
        "    def __init__(self):\n",
        "        super().__init__()\n",
        "        self.bar = \"bar\"\n",
        "\n",
        "class C(A, B):\n",
        "    def __init__(self):\n",
        "        super().__init__()\n",
        "    \n",
        "    def showprops(self):\n",
        "        print(self.foo)\n",
        "        print(self.bar)\n",
        "\n",
        "c = C()\n",
        "c.showprops()"
      ],
      "execution_count": null,
      "outputs": [
        {
          "output_type": "stream",
          "text": [
            "foo\n",
            "bar\n"
          ],
          "name": "stdout"
        }
      ]
    },
    {
      "cell_type": "markdown",
      "metadata": {
        "id": "kTSZVI90GXcj"
      },
      "source": [
        "So, let's go ahead and add an attribute to each one. Let's have self.name equals Class A and then let's have self.name in B equal to Class B, and now let's print this out in the showprops method. So now, I'll print out self.name. So now, let's run the code again. "
      ]
    },
    {
      "cell_type": "code",
      "metadata": {
        "colab": {
          "base_uri": "https://localhost:8080/"
        },
        "id": "-6r32k5mGygt",
        "outputId": "8ef021d2-5aa2-4af0-fb52-fb7878345196"
      },
      "source": [
        "class A:\n",
        "    def __init__(self):\n",
        "        super().__init__()\n",
        "        self.foo = \"foo\"\n",
        "        self.name = \"Class A\"\n",
        "\n",
        "class B:\n",
        "    def __init__(self):\n",
        "        super().__init__()\n",
        "        self.bar = \"bar\"\n",
        "        self.name = \"Class B\"\n",
        "\n",
        "class C(A, B):\n",
        "    def __init__(self):\n",
        "        super().__init__()\n",
        "    \n",
        "    def showprops(self):\n",
        "        print(self.foo)\n",
        "        print(self.bar)\n",
        "        print(self.name)\n",
        "\n",
        "c = C()\n",
        "c.showprops()"
      ],
      "execution_count": null,
      "outputs": [
        {
          "output_type": "stream",
          "text": [
            "foo\n",
            "bar\n",
            "Class A\n"
          ],
          "name": "stdout"
        }
      ]
    },
    {
      "cell_type": "markdown",
      "metadata": {
        "id": "srPxnLvSHMYs"
      },
      "source": [
        "So we'll save and we'll run, and now we see foo bar and okay, I guess Class A is somehow the winner? But why is that? So, when you call a method or access an attribute in Python the Python interpreter uses something called the method resolution order to look it up in the class. So the lookup starts in the current class, in this case Class C, which doesn't define the name attribute. So then Python looks in the superclasses in the order in which they are defined from left to right. So since Class A is listed first, that's why we're seeing the Class A string in the output. So if I change the order to be B and then A, and then I'll save and then I'll run the code again. "
      ]
    },
    {
      "cell_type": "code",
      "metadata": {
        "colab": {
          "base_uri": "https://localhost:8080/"
        },
        "id": "cX_7QQjAHNLD",
        "outputId": "ac80f875-f728-4881-e5e9-dd40d7654654"
      },
      "source": [
        "class A:\n",
        "    def __init__(self):\n",
        "        super().__init__()\n",
        "        self.foo = \"foo\"\n",
        "        self.name = \"Class A\"\n",
        "\n",
        "class B:\n",
        "    def __init__(self):\n",
        "        super().__init__()\n",
        "        self.bar = \"bar\"\n",
        "        self.name = \"Class B\"\n",
        "\n",
        "class C(B, A):\n",
        "    def __init__(self):\n",
        "        super().__init__()\n",
        "    \n",
        "    def showprops(self):\n",
        "        print(self.foo)\n",
        "        print(self.bar)\n",
        "        print(self.name)\n",
        "\n",
        "c = C()\n",
        "c.showprops()"
      ],
      "execution_count": null,
      "outputs": [
        {
          "output_type": "stream",
          "text": [
            "foo\n",
            "bar\n",
            "Class B\n"
          ],
          "name": "stdout"
        }
      ]
    },
    {
      "cell_type": "markdown",
      "metadata": {
        "id": "pk8W62QiHnjj"
      },
      "source": [
        "And so now you can see that the function prints out Class B because that's the one that's being looked up first because it comes first in the order. Now, it turns out that you can actually inspect the method resolution order by looking at a special class attribute called mro. So let's go ahead and add that. I'm going to print the C classes underscore underscore mro attribute and now when I run this you can see that the method resolution order is first it's Class C, right, then it's Class B because that comes first in the order, then Class A because that's next, and then the Object class which is the implicit superclass for all objects in Python. So this added complexity is one of the main reasons why you don't see a whole lot of multiple inheritance in real world projects, but there is a place where they actually are very useful and that is in implementing a programming construct called an interface, and we'll see how that works in the next video."
      ]
    },
    {
      "cell_type": "code",
      "metadata": {
        "colab": {
          "base_uri": "https://localhost:8080/"
        },
        "id": "wFyfrCI8HoZ2",
        "outputId": "846a99ee-f9d3-4fc3-ad4e-3a0600c1c8fb"
      },
      "source": [
        "# Understading multiple inheritance\n",
        "\n",
        "class A:\n",
        "    def __init__(self):\n",
        "        super().__init__()\n",
        "        self.foo = \"foo\"\n",
        "        self.name = \"Class A\"\n",
        "\n",
        "class B:\n",
        "    def __init__(self):\n",
        "        super().__init__()\n",
        "        self.bar = \"bar\"\n",
        "        self.name = \"Class B\"\n",
        "\n",
        "class C(A, B):\n",
        "    def __init__(self):\n",
        "        super().__init__()\n",
        "    \n",
        "    def showprops(self):\n",
        "        print(self.foo)\n",
        "        print(self.bar)\n",
        "        print(self.name)\n",
        "\n",
        "c = C()\n",
        "c.showprops()\n",
        "print(C.__mro__)"
      ],
      "execution_count": null,
      "outputs": [
        {
          "output_type": "stream",
          "text": [
            "foo\n",
            "bar\n",
            "Class A\n",
            "(<class '__main__.C'>, <class '__main__.A'>, <class '__main__.B'>, <class 'object'>)\n"
          ],
          "name": "stdout"
        }
      ]
    },
    {
      "cell_type": "markdown",
      "metadata": {
        "id": "leJCEyTlEJRM"
      },
      "source": [
        "# 2-Inheritance and Composition - 4 Interfaces"
      ]
    },
    {
      "cell_type": "markdown",
      "metadata": {
        "id": "_OYrCrJWEKTY"
      },
      "source": [
        "In this example, we're going to see how to use a combination of multiple inheritance and abstract base classes to implement a type of programming feature called an interface. Some languages like C sharp and Java, provide this feature as a built-in part of the language. But Python doesn't have explicit language support for this. You can think of an interface as a kind of promise. By implementing an interface, a particular class makes a promise or a contract, as it's often called in software engineering, to provide a certain kind of behavior or capability. So, let's go ahead and open up the interface_start file, and we'll see how this works. So, you can see that this is now a simplified version of the abstract base class example that we used earlier with the shapes. So, suppose we wanted our concrete shape objects to be able to represent themselves as JSON. Now, we could just make that a part of the graphic shape base class, but if we had a variety of other objects in our program that we also wanted to have that function, then we would need to add that to each of those base classes as well. And that's just a lot of needless duplication. So, what we can do instead is create another abstract base class, and we'll call it JSONify. So, let's go ahead and create that. And I'll have it inherit from the abstract base class. And then we will have this class to find a single abstract method called toJSON. So, we'll define toJSON, and put an empty implementation in that class. So, now notice, this method does not provide any implementation itself. It just defines the name of the method. So, we can then add this new class to the definition of the circle class. Not the base class, not the graphic shape, we're going to put it on the circle. So remember, this has the effect of requiring that the circle class has to override and implement the toJSON abstract method. Otherwise, it's an error. So, let's go ahead and run this, and you'll see, sure enough, we get the error because we haven't implemented the toJSON method. Let's go back and add that to the class. And I'll put that below the calc area. I'll name it toJSON. And I'm just going to return a formatted string, and we'll put in some JSON here, and then we'll close that off. Alright, and then I will call that function down here in the exercise code. So I'll write print c dot toJSON. Okay. So, what I've essentially done is created a method that I have to override, called toJSON, and I've mixed that in on my subclass by having two base classes here, then I override that method to provide a string that's just a JSON representation of my object. So, it's going to have, actually it shouldn't be square, it should be circle. Whoops. There we go. Okay, so go ahead and run this. Alright, and there you can see in the output, we have the results of the calc area function, and then we have the results of the JSON right here. So, what we've essentially done is created a very small, focused class, right here called JSONify. that we can now use whenever we want another class to be able to indicate that it knows how to represent itself in JSON. We didn't have to modify the graphic shape base class in order to do this, which gives us the flexibility to apply this new class, which is serving the function of an interface, anywhere it's needed. So, interfaces are really useful for declaring that a class has a capability that it knows how to provide. And even though Python doesn't have explicit language support for it, it's flexible enough to be able to implement it with abstract base classes and multiple inheritance."
      ]
    },
    {
      "cell_type": "code",
      "metadata": {
        "colab": {
          "base_uri": "https://localhost:8080/"
        },
        "id": "ByyK0bd_KQnN",
        "outputId": "ad21765e-7325-4d67-eaa2-7168ff83d4c3"
      },
      "source": [
        "# interface_start.py\n",
        "\n",
        "from abc import ABC, abstractmethod\n",
        "\n",
        "class JSONify(ABC):\n",
        "    @abstractmethod\n",
        "    def toJSON(self):\n",
        "        pass\n",
        "\n",
        "class GraphicShape:\n",
        "    def __init__(self):\n",
        "        super().__init__()\n",
        "    \n",
        "    @abstractmethod\n",
        "    def calcArea(self):\n",
        "        pass\n",
        "\n",
        "class Circle(GraphicShape, JSONify):\n",
        "    def __init__(self, radius):\n",
        "        self.radius = radius\n",
        "\n",
        "    def calcArea(self):\n",
        "        return 3.14 * (self.radius ** 2)\n",
        "\n",
        "    def toJSON(self):\n",
        "        return f\"{{\\\" Circle\\\" : {str(self.calcArea())} }}\"\n",
        "\n",
        "c = Circle(10)\n",
        "print(c.calcArea())\n",
        "print(c.toJSON())"
      ],
      "execution_count": null,
      "outputs": [
        {
          "output_type": "stream",
          "text": [
            "314.0\n",
            "{\" Circle\" : 314.0 }\n"
          ],
          "name": "stdout"
        }
      ]
    },
    {
      "cell_type": "markdown",
      "metadata": {
        "id": "L8z9BOOgHxnN"
      },
      "source": [
        "# 2-Inheritance and Composition - 5 Understanding composition"
      ]
    },
    {
      "cell_type": "markdown",
      "metadata": {
        "id": "f7hRuOjRwmNy"
      },
      "source": [
        "Earlier in the chapter, we learned about how Python implements the concept of inheritance, to create class hierarchies. In this example, we'll see how we can use a concept called composition, to create complex objects out of simpler ones. So you might recall that inheritance models and is type of relationship. So here in this class diagram, a book object is a publication because it inherits from the publication base class, and picks up all the attributes and methods from the base class as well. So we can also say that magazine is a periodical, and we can see that magazine is a publication because again, it has the same common base class. Composition works a little differently. When using composition, we build objects out of other objects, and this model is more of a has relationship. So in the diagram on the right, the book object, has an author object, which contains information about the author. Rather than defining all of the author related information, directly within the book class hierarchy. This type of model lets us extract distinct ideas, and put them into their own classes. Now, inheritance and composition are not exclusive, you can combine both depending on what your applications needs are. So let's apply this concept in some real code, to see how it works. Well here in VS code, let's go ahead and open up the composition underscore start. And I've defined a book class that's a little bit different than the one we've been using so far. So there's the title and the price, along with some author information, the first and last name, and there's an attribute to hold the list of chapter information. There's also a method to add chapters to the book, and it takes the name of the chapter and the pages count and just adds a tuple to this collection right here. Now, this particular class definition is all fine and good, but it's pretty monolithic. There are pieces of information like the author, and maybe the chapter information that might make sense to treat as separate entities. It's not hard to imagine a scenario where we might want to work with just a group of authors or get information about specific book chapters. So we can use composition to separate these discrete pieces of information from the overall book object. So let's start by extracting the author information into its own class. "
      ]
    },
    {
      "cell_type": "code",
      "metadata": {
        "colab": {
          "base_uri": "https://localhost:8080/"
        },
        "id": "4aXhNmIhwmpY",
        "outputId": "981c7213-81a7-4466-8ed1-13f4a5884c9c"
      },
      "source": [
        "# composition_start.py\n",
        "\n",
        "# Using composition to build complex objects\n",
        "class Book:\n",
        "    def __init__(self, title, price, authorfname, authorlname):\n",
        "        self.title = title\n",
        "        self.price = price\n",
        "\n",
        "        self.authorfname = authorfname \n",
        "        self.authorlname = authorlname\n",
        "\n",
        "        self.chapters = []\n",
        "\n",
        "    def addchapter(self, name, pages):\n",
        "        self.chapters.append((name, pages))\n",
        "\n",
        "b1 = Book(\"War and Peace\", 39.0, \"Leo\", \"Tolstoy\")\n",
        "\n",
        "b1.addchapter(\"Chapter 1\", 125)\n",
        "b1.addchapter(\"Chapter 2\", 97)\n",
        "b1.addchapter(\"Chapter 3\", 143)\n",
        "\n",
        "print(b1.title)"
      ],
      "execution_count": null,
      "outputs": [
        {
          "output_type": "stream",
          "text": [
            "War and Peace\n"
          ],
          "name": "stdout"
        }
      ]
    },
    {
      "cell_type": "markdown",
      "metadata": {
        "id": "dyI0DgwAxL2_"
      },
      "source": [
        "So I'll make a class called author, and we'll go ahead and implement the init method, and that will take a first and last name, and we'll just go ahead and store that on some attributes. Okay? And while we're at it, let's go ahead and give that author class A nice string representation, and we'll learn more about this when we get to the chapter on magic methods. But I'm going to override this string method, and I'm going to return just a nicely formatted string consisting of the first name, and the last name. So then I have to modify the book class, to take an author object as an argument. So I'll go ahead and replace this with author, and that's going to default to none. And then I can get rid of these two, and replace that with self dot author equals author. So now, we've created a relationship where a book has an author associated with it, instead of keeping that implementation details of the author data, wrapped up within the book class. We can do the same thing with the chapter information. So let's go ahead and create a separate class for the chapters. And I'll create chapter objects and I'll, implement the init method for that. And that's going to take a chapter name and a page count. And we'll just go ahead and set those properties. All right. And now we have to modify the add chapter, method in the book class 'cause it no longer takes separate name and pages, it takes a chapter, and our chapters collection, just adds that chapter to the list. And so here again, we've now created a relationship where a book has a collection of chapter objects. We can even add a new method, and we'll call this get book page count, whereby the book can calculate its own page count. So we'll start off with zero and we'll just iterate over each one of the chapters, and then we'll add up the chapter page count, and then we'll return that result. All right. So now let's clean up the code that uses these classes down here. So for the book, I now need to pass an author constructor in here, so I'll just go ahead and create an author. All right, and we'll pass that in as the second argument here. Alright, and now we have to add chapter objects to the book. So this is going to become a chapter object. Alright and I'm going to just copy and paste that each time, and we'll close that off. Looks like they've added an extra one. There we go. Okay, so now we get some nice separation of responsibilities. So for example, printing the full name of the author, is done within the author class. So we can print out the books author, and we'll leave the title alone. And calculating the book size is done by using the data, that's in the chapter class. So we'll print out the page count. Alright, so it looks like everything is now in place. We've got our extracted chapter and author objects, and we've updated the book class to use that data instead. So let's go ahead and run our updated code. And you can see, right here, so the title is unchanged, and now here is the author information being printed out from the author class, and there is the total page count. So what we've done is taken a monolithic class definition, and made it more extensible and flexible, by composing it from simpler class objects, each of which is responsible, for its own features and data."
      ]
    },
    {
      "cell_type": "code",
      "metadata": {
        "colab": {
          "base_uri": "https://localhost:8080/"
        },
        "id": "Y0rXAXQnxOwo",
        "outputId": "1a1bdafe-e18d-4fb9-a57f-a0db557af72e"
      },
      "source": [
        "class Book:\n",
        "    def __init__(self, title, price, author=None):\n",
        "        self.title = title\n",
        "        self.price = price\n",
        "\n",
        "        self.author = author\n",
        "\n",
        "        self.chapters = []\n",
        "\n",
        "    def addchapter(self, chapter):\n",
        "        self.chapters.append((chapter))\n",
        "\n",
        "    def getbookpagecount(self):\n",
        "        result = 0\n",
        "        for ch in self.chapters:\n",
        "            result += ch.pagecount\n",
        "        return result\n",
        "        \n",
        "class Author:\n",
        "    def __init__(self, fname, lname):\n",
        "        self.fname = fname\n",
        "        self.lname = lname\n",
        "\n",
        "    def __str__(self):\n",
        "        return f\"{self.fname} {self.lname}\"\n",
        "\n",
        "class Chapter:\n",
        "    def __init__(self, name, pagecount):\n",
        "        self.name = name\n",
        "        self.pagecount = pagecount\n",
        "\n",
        "auth = Author(\"Leo\", \"Tolstoy\")\n",
        "b1 = Book(\"War and Peace\", 39.0, auth)\n",
        "\n",
        "b1.addchapter(Chapter(\"Chapter 1\", 125))\n",
        "b1.addchapter(Chapter(\"Chapter 2\", 97))\n",
        "b1.addchapter(Chapter(\"Chapter 3\", 143))\n",
        "\n",
        "print(b1.author)\n",
        "print(b1.title)\n",
        "print(b1.getbookpagecount())"
      ],
      "execution_count": null,
      "outputs": [
        {
          "output_type": "stream",
          "text": [
            "Leo Tolstoy\n",
            "War and Peace\n",
            "365\n"
          ],
          "name": "stdout"
        }
      ]
    },
    {
      "cell_type": "markdown",
      "metadata": {
        "id": "dXDE1sDLyCvQ"
      },
      "source": [
        "# 3-Magic Object Methods - 2 String representation"
      ]
    },
    {
      "cell_type": "markdown",
      "metadata": {
        "id": "lLmq0ge1yEbi"
      },
      "source": [
        "The first set of magic methods that we're going to learn about are the ones that Python uses to generate string representations of objects, and we saw a little bit of a peek of this in the prior chapter when we worked on object composition, but we're going to see much more of it now. So let's go ahead and open up the magicstr_start file, and you can see that I have my book class defined with some properties, along with a couple of statements to create some book objects. So there are two magic string functions, one is called str and one is called repr. The str function is used to provide a user-friendly string description of the object, and is usually intended to be displayed to the user. The repr function is used to generate a more developer-facing string that ideally, can be used to recreate the object in its current state. It's commonly used for debugging purposes, so it gets used to display a lot of detailed information. So these functions get invoked on an object in a variety of ways. So for example, when you call the print function and pass in the object, or when you use the str or repr casting functions, these methods will get called. So let's run our code as it currently is before we override these functions. You can see that I'm creating two book objects and then printing them out. So let's go ahead and run this. "
      ]
    },
    {
      "cell_type": "code",
      "metadata": {
        "colab": {
          "base_uri": "https://localhost:8080/"
        },
        "id": "LqxOFp42yEte",
        "outputId": "f8f94446-23c5-4e7b-988f-750042f8152e"
      },
      "source": [
        "# magicstr_start.py\n",
        "\n",
        "# Using the __str__ and __repr__ magic methods\n",
        "class Book:\n",
        "    def __init__(self, title, author, price):\n",
        "        super().__init__()\n",
        "        self.title = title\n",
        "        self.author = author\n",
        "        self.price = price\n",
        "\n",
        "b1 = Book(\"War and Peace\",\"Leo\", 39.95)\n",
        "b2 = Book(\"The Catcher\", \"JD\", 29.95)\n",
        "\n",
        "print(b1)\n",
        "print(b2)"
      ],
      "execution_count": 5,
      "outputs": [
        {
          "output_type": "stream",
          "text": [
            "<__main__.Book object at 0x7f463148dbd0>\n",
            "<__main__.Book object at 0x7f463148dd10>\n"
          ],
          "name": "stdout"
        }
      ]
    },
    {
      "cell_type": "markdown",
      "metadata": {
        "id": "rrAu7Omb2C2-"
      },
      "source": [
        "And so here, in the output, you can see that when I print each object, I just get a vague string that identifies the class name and its location in memory. So let's make that a little bit better. Let's go ahead and add the str function, and you can see that these are double underscore function names, indicating that they are Python magic functions. So when I override the str function, I get to decide what the string representation looks like. So I'm going to return a formatted string, in this case it's going to be self.title by, and then it's going to be self.author, and it costs self.price. All right, so now let's rerun the code. "
      ]
    },
    {
      "cell_type": "code",
      "metadata": {
        "colab": {
          "base_uri": "https://localhost:8080/"
        },
        "id": "MDEyLAgn2DHo",
        "outputId": "37c3f383-4b61-400b-e4b1-6826bdfcbbab"
      },
      "source": [
        "class Book:\n",
        "    def __init__(self, title, author, price):\n",
        "        super().__init__()\n",
        "        self.title = title\n",
        "        self.author = author\n",
        "        self.price = price\n",
        " \n",
        "    # use the __str__ method to return a string\n",
        "    def __str__(self):\n",
        "        return f\"{self.title} by {self.author}, costs {self.price}\"\n",
        "\n",
        "b1 = Book(\"War and Peace\",\"Leo\", 39.95)\n",
        "b2 = Book(\"The Catcher\", \"JD\", 29.95)\n",
        "\n",
        "print(b1)\n",
        "print(b2)"
      ],
      "execution_count": 7,
      "outputs": [
        {
          "output_type": "stream",
          "text": [
            "War and Peace by Leo, costs 39.95\n",
            "The Catcher by JD, costs 29.95\n"
          ],
          "name": "stdout"
        }
      ]
    },
    {
      "cell_type": "markdown",
      "metadata": {
        "id": "obbZZ9hF28xX"
      },
      "source": [
        "Now you can see that when I print these objects out, there's a much nicer string representation of each book object, containing their realtime data. All right, so let's go back to the code. Now let's add the repr function, and it's going to return a slightly different string. So this is going to return a formatted string as well, and just a whole bunch of properties. It's going to say title equals self.title, and then author equals, and then I'll just print the author information, and then price. All right, and now let's add a couple of more function calls to convert the book objects to strings by using str and repr directly. So for the first example, I'm actually going to call the str function on b1, and then I'll use repr on b2. All right, so let's go ahead and save, and now let's run the code again. All right, so now you can see that when I print the objects or call str directly, the str function gets used. And when I call the repr function, that causes my double underscore version of repr to be used instead. So each of these functions is totally optional for you to override, but it's usually a pretty good idea to at least define the repr function for classes that you create in order to make debugging easier.\n"
      ]
    },
    {
      "cell_type": "code",
      "metadata": {
        "colab": {
          "base_uri": "https://localhost:8080/"
        },
        "id": "KSKxbKyc29Dr",
        "outputId": "a110e1d0-751a-494a-df56-40a6e946fd56"
      },
      "source": [
        "class Book:\n",
        "    def __init__(self, title, author, price):\n",
        "        super().__init__()\n",
        "        self.title = title\n",
        "        self.author = author\n",
        "        self.price = price\n",
        " \n",
        "    # use the __str__ method to return a string\n",
        "    def __str__(self):\n",
        "        return f\"{self.title} by {self.author}, costs {self.price}\"\n",
        "\n",
        "    # use the __repr__ method to return an obj representation \n",
        "    def __repr__(self):\n",
        "        return f\"title={self.title}, author={self.author}, price={self.price}\"\n",
        "    \n",
        "b1 = Book(\"War and Peace\",\"Leo\", 39.95)\n",
        "b2 = Book(\"The Catcher\", \"JD\", 29.95)\n",
        "\n",
        "print(b1)\n",
        "print(b2)\n",
        "print(str(b1))\n",
        "print(repr(b2))"
      ],
      "execution_count": 8,
      "outputs": [
        {
          "output_type": "stream",
          "text": [
            "War and Peace by Leo, costs 39.95\n",
            "The Catcher by JD, costs 29.95\n",
            "War and Peace by Leo, costs 39.95\n",
            "title=The Catcher, author=JD, price=29.95\n"
          ],
          "name": "stdout"
        }
      ]
    },
    {
      "cell_type": "markdown",
      "metadata": {
        "id": "xWXnGj8g4UFX"
      },
      "source": [
        "# 3-Magic Object Methods - 3 Equality and comparison"
      ]
    },
    {
      "cell_type": "markdown",
      "metadata": {
        "id": "Iv49fkBs4VDe"
      },
      "source": [
        "Plain objects in Python, by default, don't know how to compare themselves to each other. But we can teach them how to do so by using the equality and comparison magic methods. So, let's go ahead and open up the magiceq_start file. And let's see how to do this. So, once again, we have a book class defined with some attributes, and then a few variables that create some book objects. So b one and b three, both contain the same information. But watch what happens when I try to compare them to each other. So, I'm going to write print, and then b one double equals b three. Now, when I run this, you can see that the output is false, which is weird, because all the attribute values are the same as each other. So, the title is the same, the prices is the same, the author is the same. The reason this happens is because Python doesn't do an attribute by attribute comparison on objects. It just compares two different instances to each other and sees that they're not the exact same object in memory. And therefore it says, oh false, they're not equal to each other. So, Python's flexibility gives us an easy object-oriented way of addressing this problem. The magic method named eq, gets called on your object when it is compared to another object. So, let's go ahead and implement that. And override the eq method, And that takes my object as well as the objects it's being compared to. So, to see if two books are equal, we can just compare the attributes of each one. So, I'm going to return if self dot title is equal to value title, and self dot author is equal to the other objects, author and the price is equal to the other objects price. Okay. We should also make sure that we throw an exception, if we're past an object that's not a book to compare against. So, let me just do that right now. So, I'm going to say if not, is instance, and I'm going to take the value that were passed and compare it to the book class. And if it's not, I'm going to raise a value error that says can't compare book to a non-book. Alright, so now we have that code in place, we can perform the comparison again. And let's add one that we also know is false. So, we'll print b one is equal to b two, and those attributes are different. So, the first one should be true and the second one should be false. So, let's go ahead and run.\n",
        "\n",
        "Alright, sure enough, we have true and we have false. So, what we've essentially done is add the equality check behavior to our book object. And if I try to compare a book to something else, if I say print b one, is equal to 42. Let's run that. And you can see that I'm raising a value error here because I can't compare a book to something that's not a book. Alright, so we can also perform other kinds of comparisons by overriding the corresponding magic method. So, let's add the ability to perform comparisons to our book class. Suppose we wanted to be able to perform a greater than or equal to operation like this. We want to be able to say b two is greater than or equal to b one."
      ]
    },
    {
      "cell_type": "code",
      "metadata": {
        "colab": {
          "base_uri": "https://localhost:8080/"
        },
        "id": "z5H9k0706qas",
        "outputId": "32912de2-034f-4765-eba2-f0cc1974a825"
      },
      "source": [
        "class Book:\n",
        "    def __init__(self, title, author, price):\n",
        "        super().__init__()\n",
        "        self.title = title\n",
        "        self.author = author\n",
        "        self.price = price\n",
        "    \n",
        "    # the __eq__ method checks for equality between two objetcs\n",
        "    def __eq__(self, value):\n",
        "        if not isinstance(value, Book):\n",
        "           raise ValueError(\"Cant compare book to a non-book\")\n",
        "     \n",
        "        return (self.title  == value.title and\n",
        "                self.author == value.author and  \n",
        "                self.price  == value.price)\n",
        "\n",
        "b1 = Book(\"War and Peace\",\"Leo\", 39.95)\n",
        "b2 = Book(\"The Catcher\", \"JD\", 29.95)\n",
        "b3 = Book(\"War and Peace\",\"Leo\", 39.95)\n",
        "b4 = Book(\"To Kill\",\"Harper\", 24.95)\n",
        "\n",
        "# check for equality\n",
        "print(b1 == b3)\n",
        "print(b1 == b2)"
      ],
      "execution_count": 9,
      "outputs": [
        {
          "output_type": "stream",
          "text": [
            "True\n",
            "False\n"
          ],
          "name": "stdout"
        }
      ]
    },
    {
      "cell_type": "markdown",
      "metadata": {
        "id": "KltSieZV6wvE"
      },
      "source": [
        "Or suppose we wanted to be able to do a less than comparison. Suppose we wanted to be able to say, hey, is b two less than b one. So, there are magic methods that correspond to all the different kinds of logical operators. Greater than, less than, greater than or equal to, so on. Now, that's a lot of methods. So, I'm not going to demonstrate all of them. But let's go ahead and add support for both of these. So, I'll scroll back up, and I'll override the greater than or equal to function. And that takes my object and the comparison one. And then once again, we'll just copy to make sure that we're comparing to a book. And what we'll do here is we'll just return self dot price is greater than or equal to value price. So, let's do a comparison based upon price alone. And then let's do the same thing for less than, so I'll just go ahead and copy this code and paste it in down here, change this to lt. And then once again, I'll change this operator to less than. Okay, so now let's run that code. And let's comment out our prior example for the equality check. So, I'm going to run this."
      ]
    },
    {
      "cell_type": "code",
      "metadata": {
        "colab": {
          "base_uri": "https://localhost:8080/"
        },
        "id": "gHV6HTAK7XM_",
        "outputId": "e62ffe35-8867-4f4d-e228-111084cfcef1"
      },
      "source": [
        "class Book:\n",
        "    def __init__(self, title, author, price):\n",
        "        super().__init__()\n",
        "        self.title = title\n",
        "        self.author = author\n",
        "        self.price = price\n",
        "    \n",
        "    # the __eq__ method checks for equality between two objetcs\n",
        "    def __eq__(self, value):\n",
        "        if not isinstance(value, Book):\n",
        "           raise ValueError(\"Cant compare book to a non-book\")\n",
        "     \n",
        "        return (self.title  == value.title and\n",
        "                self.author == value.author and  \n",
        "                self.price  == value.price)\n",
        "\n",
        "    # the __ge__ establishes >= relationship another obj\n",
        "    def __ge__(self, value):\n",
        "        if not isinstance(value, Book):\n",
        "           raise ValueError(\"Cant compare book to a non-book\")\n",
        "        \n",
        "        return self.price >= value.price\n",
        "\n",
        "    # the __lt__ establishes < relationship with another obj\n",
        "    def __lt__(self, value):\n",
        "        if not isinstance(value, Book):\n",
        "           raise ValueError(\"Cant compare book to a non-book\")\n",
        "        \n",
        "        return self.price < value.price\n",
        "\n",
        "b1 = Book(\"War and Peace\",\"Leo\", 39.95)\n",
        "b2 = Book(\"The Catcher\", \"JD\", 29.95)\n",
        "b3 = Book(\"War and Peace\",\"Leo\", 39.95)\n",
        "b4 = Book(\"To Kill\",\"Harper\", 24.95)\n",
        "\n",
        "# check for greater and lesser value\n",
        "print(b2 >= b1)\n",
        "print(b2 <  b1)"
      ],
      "execution_count": 10,
      "outputs": [
        {
          "output_type": "stream",
          "text": [
            "False\n",
            "True\n"
          ],
          "name": "stdout"
        }
      ]
    },
    {
      "cell_type": "markdown",
      "metadata": {
        "id": "Q2VJRHaF8Q4j"
      },
      "source": [
        "Alright, and we can see that b two's price is 29.95, and that is not greater than b one's price which is 39.95, that evaluates to false. And b two is less than b one based upon price. So, now we have the ability to do comparisons of book objects. And what's really neat about this is that, now that we have added the less than support, we automatically gained the ability to have our books be sortable. So, let's go back to the code, and let's make a quick list of our books in some random order that we know is not sorted. Alright, so the built-in sort function, uses the less than operator to perform sorting. So, now we can do this, we can write books dot sort, and then I can print out each book title in the newly sorted list. And I'll use a comprehension for this. So, I'll print book title for book in books. Alright, so let's go ahead and comment that out. And now when I run this code, we can see that the books are now all sorted in order from low to high, based on price. And like I said, there are a lot of these methods you can implement in your base classes, and they're documented in Python's data model. And that's this right here. So, the documentation for the data model, contains all of these methods. If you just go ahead and click on the Special method names, heading over here, if you scroll down, you'll see a lot of these special magic method names. These are all the comparison ones right here. So, just go ahead and click on that Special names link in the sidebar, and you can read through these at your own pace."
      ]
    },
    {
      "cell_type": "code",
      "metadata": {
        "colab": {
          "base_uri": "https://localhost:8080/"
        },
        "id": "fjY8hH2C8W4F",
        "outputId": "1cb14702-7182-45bf-e222-0fab85df2c09"
      },
      "source": [
        "class Book:\n",
        "    def __init__(self, title, author, price):\n",
        "        super().__init__()\n",
        "        self.title = title\n",
        "        self.author = author\n",
        "        self.price = price\n",
        "    \n",
        "    # the __eq__ method checks for equality between two objetcs\n",
        "    def __eq__(self, value):\n",
        "        if not isinstance(value, Book):\n",
        "           raise ValueError(\"Cant compare book to a non-book\")\n",
        "     \n",
        "        return (self.title  == value.title and\n",
        "                self.author == value.author and  \n",
        "                self.price  == value.price)\n",
        "\n",
        "    # the __ge__ establishes >= relationship another obj\n",
        "    def __ge__(self, value):\n",
        "        if not isinstance(value, Book):\n",
        "           raise ValueError(\"Cant compare book to a non-book\")\n",
        "        \n",
        "        return self.price >= value.price\n",
        "\n",
        "    # the __lt__ establishes < relationship with another obj\n",
        "    def __lt__(self, value):\n",
        "        if not isinstance(value, Book):\n",
        "           raise ValueError(\"Cant compare book to a non-book\")\n",
        "        \n",
        "        return self.price < value.price\n",
        "\n",
        "b1 = Book(\"War and Peace\",\"Leo\", 39.95)\n",
        "b2 = Book(\"The Catcher\", \"JD\", 29.95)\n",
        "b3 = Book(\"War and Peace\",\"Leo\", 39.95)\n",
        "b4 = Book(\"To Kill\",\"Harper\", 24.95)\n",
        "\n",
        "# now we can sort them too\n",
        "books = [b1, b3, b2, b4]\n",
        "books.sort()\n",
        "print([book.title for book in books])"
      ],
      "execution_count": 17,
      "outputs": [
        {
          "output_type": "stream",
          "text": [
            "['To Kill', 'The Catcher', 'War and Peace', 'War and Peace']\n"
          ],
          "name": "stdout"
        }
      ]
    },
    {
      "cell_type": "markdown",
      "metadata": {
        "id": "R0Xx-SFE4X_-"
      },
      "source": [
        "# 3-Magic Object Methods - 5 Callable objects"
      ]
    },
    {
      "cell_type": "markdown",
      "metadata": {
        "id": "hGvksSXW4ZRB"
      },
      "source": [
        "To finish up this chapter, we'll take a look at the magic method that enables Python objects to be callable just like any other function. Now that might sound a little bit weird, but it's easy to understand when you see it in action. So let's go ahead and open up the magiccall_start file, and once again, you can see that I have my book class, and it's already implementing the str magic function that learned about earlier. And I've got some code that creates a couple of book instances with titles, and authors, and prices. So what I'm going to do is this, I'm going to override the call function that lets me treat the instance of the object like a function. And I'll define the function to take the same parameters as the init function. Now you can also define the function to take a variable number of arguments, but that's a little more advanced, and I want to focus here on the feature itself. So I'm going to define call, and this method will be invoked when I call my object. So it gets a copy of the object, and then I'll pass in the title, the author, and the price, and then for the function body, I'll just assign the parameters to the object attributes, pretty much just like I have here in my init function. So I'll just go ahead and do that. Okay, so now let's try this out. So first what I'm going to do is print book1's values, then I'm going to call the object like a function to change the values of the object's attributes. So I'll write b1, and then I'm going to call it, just like a function. And this time I'll change the title to something else, and then author's going to stay the same, and the price is going to change, and then I'll print the book again, and remember, this will use the str method to do so. Okay. So let's try this out. And when I run the code, you can see here that I'm changing the value of the object's attributes by calling the object as if it were a function. So here's the original version, and here is the version after I've changed the values. And that's one of the benefits of this technique is if you have objects whose attributes change frequently, or are often modified together, this can result in more compact code that's also easier to read."
      ]
    },
    {
      "cell_type": "code",
      "metadata": {
        "colab": {
          "base_uri": "https://localhost:8080/"
        },
        "id": "6QgmM3Ek7oWV",
        "outputId": "b1b315aa-7765-4a6d-d13e-4d7f7df100ff"
      },
      "source": [
        "#magiccall_start.py\n",
        "\n",
        "class Book:\n",
        "    def __init__(self, title, author, price):\n",
        "        super().__init__()\n",
        "        self.title = title\n",
        "        self.author = author\n",
        "        self.price = price\n",
        "\n",
        "    def __str__(self):\n",
        "        return f\"{self.title} by {self.author}, costs {self.price}\"\n",
        "\n",
        "    def __call__(self, title, author, price):\n",
        "        self.title = title\n",
        "        self.author = author\n",
        "        self.price = price\n",
        "\n",
        "b1 = Book(\"War and Peace\",\"Leo\", 39.95)\n",
        "b2 = Book(\"Catcher\",\"JD\", 29.95)\n",
        "\n",
        "# call the object as if it were a function\n",
        "print(b1)\n",
        "b1(\"Anna Karenina\",\"Leo\", 49.95)\n",
        "print(b1)"
      ],
      "execution_count": 1,
      "outputs": [
        {
          "output_type": "stream",
          "text": [
            "War and Peace by Leo, costs 39.95\n",
            "Anna Karenina by Leo, costs 49.95\n"
          ],
          "name": "stdout"
        }
      ]
    },
    {
      "cell_type": "markdown",
      "metadata": {
        "id": "Cn6U_CUF4Znl"
      },
      "source": [
        "# 4-Data Classes - 1 Defining a data class "
      ]
    },
    {
      "cell_type": "markdown",
      "metadata": {
        "id": "8v1XbWJ28bQX"
      },
      "source": [
        "As we've been working through this course, you may have noticed a pattern with each of our examples so far. And that is that one of the main use cases for creating classes in Python is to contain and represent data. Our code creates classes like this book class here in the data class start file and then uses the init function to store values on the instance of the class. And you might be wondering, well, if this is such a common pattern, then why doesn't Python just automate this? Why do I have to explicitly store each argument on the object by setting attributes on the self parameter? Well, starting in Python 3.7, you actually don't. In 3.7, Python introduced a new feature called the data class, which helps to automate the creation and managing of classes that mostly exist just to hold data. And that's what we're going to focus on in this chapter. You can read more about data classes at this link in the Python docs. But for now, let's go back to our code, and let's begin by converting our book class into a version that uses a data class."
      ]
    },
    {
      "cell_type": "code",
      "metadata": {
        "colab": {
          "base_uri": "https://localhost:8080/"
        },
        "id": "Yd8fYbbJ8ayV",
        "outputId": "7d34ce52-6ea5-4727-def8-78250b84b581"
      },
      "source": [
        "#dataclass_start.py\n",
        "class Book:\n",
        "    def __init__(self, title, author, pages, price):\n",
        "        self.title = title\n",
        "        self.author = author\n",
        "        self.pages = pages\n",
        "        self.price = price\n",
        "\n",
        "# create some instances\n",
        "b1 = Book(\"War and Peace\",\"Leo\", 1225, 39.95)\n",
        "b2 = Book(\"The Catcher\",\"JD\", 234, 29.95)\n",
        "\n",
        "# access fields\n",
        "print(b1.title)\n",
        "print(b2.title)"
      ],
      "execution_count": 3,
      "outputs": [
        {
          "output_type": "stream",
          "text": [
            "War and Peace\n",
            "The Catcher\n"
          ],
          "name": "stdout"
        }
      ]
    },
    {
      "cell_type": "markdown",
      "metadata": {
        "id": "Z_P1h2ZW-M61"
      },
      "source": [
        "So to do that, the first thing we need to do is import the data class from the data classes module. So from dataclasses we're going to import dataclass. And again, this only works in 3.7 and later, so make sure you have at least that version of Python on your computer. Next, we're going to use the dataclass decorator to indicate that the book class is going to be a dataclass. Then, we get rid of the init function, and let's go ahead and fix the indenting here. And we're going to get rid of each of these self keywords, because there's no more self keyword right now. And then we need to annotate each of these attributes with the new type hints that were introduced in Python 3.5. So I'm going to get rid of each of the equal signs, I'm going to write title, and then colon str. And then the author is also going to be a string, so that's a str. Pages is going to be an int. And price is going to be a float. And guess what? That's pretty much all we have to do. Now, there's quite a bit going on here, so let me explain. At first glance, it looks like what we're doing is defining class attributes instead of instance attributes. But what's going to happen behind the scenes is that the dataclass decorator code will actually rewrite this class to automatically add the init function where each of these attributes will be initialized on the object instance. And the second thing you notice here is these type hints. These are required for data classes to work. But in keeping with Python's philosophy of being flexible, their type isn't actually enforced. So you can see here, we have some existing code that creates some book instances and then accesses some fields. And we don't even need to change our existing code as long as the parameters are passed in the same order and they are. We've got title, author, pages, and price. So everything looks fine. So let's go ahead and run what we have. I'm going to save and then run this. "
      ]
    },
    {
      "cell_type": "code",
      "metadata": {
        "colab": {
          "base_uri": "https://localhost:8080/"
        },
        "id": "gvOgw12i-YFw",
        "outputId": "eb8c99f9-28b0-4ec7-c155-51357e8fdf2e"
      },
      "source": [
        "from dataclasses import dataclass\n",
        "\n",
        "@dataclass\n",
        "class Book:\n",
        "    title: str\n",
        "    author: str\n",
        "    pages: int\n",
        "    price: float\n",
        "\n",
        "# create some instances\n",
        "b1 = Book(\"War and Peace\",\"Leo\", 1225, 39.95)\n",
        "b2 = Book(\"The Catcher\",\"JD\", 234, 29.95)\n",
        "\n",
        "# access fields\n",
        "print(b1.title)\n",
        "print(b2.title)"
      ],
      "execution_count": 4,
      "outputs": [
        {
          "output_type": "stream",
          "text": [
            "War and Peace\n",
            "The Catcher\n"
          ],
          "name": "stdout"
        }
      ]
    },
    {
      "cell_type": "markdown",
      "metadata": {
        "id": "HQ0R2EOl_UmM"
      },
      "source": [
        "So here in the output you can see we've got the title and the author of what is that, book one and book two, right. So, we can access attributes on the object just as we could before. But dataclasses have more benefits than just concise code. They also automatically implement both the repr and eq magic methods we learned about earlier in the course. So, for example, I can add a print statement here to just print out book one. And we can compare two objects with each other, so I'm going to make another book that has the same values as book one. And I'll call that book three. And then I'll add a comparison to see if book one is equal to book three. All right, so, now let's go ahead and run again. And you can see that the printed output of the book object automatically contains all of the data attributes and the equality comparison also just automatically works. All right, so one more thing to demonstrate for our intro to data classes. So they are just like any other Python classes. There's nothing really special about them. They're a Python class just like any other Python class. So if I want to add a regular Python method to my class, it's really straightforward to do so. So I can just go ahead and create a method called bookinfo, and I'll just return some formatted string that contains self.title and self.author. And then let's go ahead and modify some attributes of one of the books. And then let's go ahead and call that method, b1.bookinfo. All right, so let's go ahead and comment out some of these others. Okay, so let's go ahead and run this. And there you can see that our book info method works just as expected. So data classes let you write a lot more concise code and skip a lot of the boilerplate that comes along with the init method and initializing object instances but at the same time, they're just regular Python classes and you can use them just as you would any other Python class."
      ]
    },
    {
      "cell_type": "code",
      "metadata": {
        "colab": {
          "base_uri": "https://localhost:8080/"
        },
        "id": "6wXJ2Xg4ANKT",
        "outputId": "70c99096-59fc-493b-e058-a152f8683487"
      },
      "source": [
        "from dataclasses import dataclass\n",
        "\n",
        "@dataclass\n",
        "class Book:\n",
        "    title: str\n",
        "    author: str\n",
        "    pages: int\n",
        "    price: float\n",
        "\n",
        "    def bookinfo(self):\n",
        "        return f\"{self:title}, by {self:author}\"\n",
        "\n",
        "\n",
        "# create some instances\n",
        "b1 = Book(\"War and Peace\",\"Leo\", 1225, 39.95)\n",
        "b2 = Book(\"The Catcher\",\"JD\", 234, 29.95)\n",
        "b3 = Book(\"War and Peace\",\"Leo\", 1225, 39.95)\n",
        "\n",
        "# change some fields\n",
        "b1.title = \"Anna Karenina\"\n",
        "b1.pages = 864\n",
        "print(b1.bookinfo)"
      ],
      "execution_count": 13,
      "outputs": [
        {
          "output_type": "stream",
          "text": [
            "<bound method Book.bookinfo of Book(title='Anna Karenina', author='Leo', pages=864, price=39.95)>\n"
          ],
          "name": "stdout"
        }
      ]
    },
    {
      "cell_type": "markdown",
      "metadata": {
        "id": "oZ1MlZaBCReq"
      },
      "source": [
        "# 4-Data Classes - 4 Immutable data classes"
      ]
    },
    {
      "cell_type": "markdown",
      "metadata": {
        "id": "sgQ-lg0YClnr"
      },
      "source": [
        "Occasionally you'll want to create classes whose data can't be changed. In other words, you want the data within them to be immutable. Python data classes make this possible by specifying an argument to the data class decorator. So let's go ahead and open up the immutable_start file, and you can see here I have a simple data class definition with a couple of attributes, along with some code that creates the object and prints out an attribute value. So let's go ahead and runt his to make sure it works. And in the output you can see that it works, my class gets created, and then value1 gets printed out. "
      ]
    },
    {
      "cell_type": "code",
      "metadata": {
        "colab": {
          "base_uri": "https://localhost:8080/"
        },
        "id": "_T9RU_00CpC9",
        "outputId": "02a0dda4-5266-4893-dc8d-1c69bc278234"
      },
      "source": [
        "# immutable_start.py\n",
        "\n",
        "# Creating immutable data classes\n",
        "\n",
        "from dataclasses import dataclass\n",
        "\n",
        "# the frozen parameter makes the class immutable\n",
        "@dataclass()\n",
        "class ImmutableClass:\n",
        "    value1: str = \"Value 1\"\n",
        "    value2: int = 0\n",
        "\n",
        "obj = ImmutableClass()\n",
        "print(obj.value1)"
      ],
      "execution_count": 15,
      "outputs": [
        {
          "output_type": "stream",
          "text": [
            "Value 1\n"
          ],
          "name": "stdout"
        }
      ]
    },
    {
      "cell_type": "markdown",
      "metadata": {
        "id": "9CL52vbECpMj"
      },
      "source": [
        "So let's go ahead back to the code. To make this class immutable, I can set the frozen argument to true in the data class decorator. So I'll just simply write frozen equals true. So this now prevents any of the attributes in the class definition from being modified. So I'll try to add some code now to do exactly that. So I'll go ahead and put obj1, and then I'll try to change the value of the value1 attribute to another value. And then we'll print that out. So let's go ahead and try to run the code now."
      ]
    },
    {
      "cell_type": "code",
      "metadata": {
        "colab": {
          "base_uri": "https://localhost:8080/",
          "height": 265
        },
        "id": "tTpmqRg_CpUc",
        "outputId": "782190c3-1ad9-4da0-9a52-f1d608402c9c"
      },
      "source": [
        "from dataclasses import dataclass\n",
        "\n",
        "# the frozen parameter makes the class immutable\n",
        "@dataclass(frozen=True)\n",
        "class ImmutableClass:\n",
        "    value1: str = \"Value 1\"\n",
        "    value2: int = 0\n",
        "\n",
        "obj = ImmutableClass()\n",
        "print(obj.value1)\n",
        "\n",
        "# attempting to change the value of an immutable class throws an exception\n",
        "obj.value1 = \"Another Value\"\n",
        "print(obj.value1)"
      ],
      "execution_count": 16,
      "outputs": [
        {
          "output_type": "stream",
          "text": [
            "Value 1\n"
          ],
          "name": "stdout"
        },
        {
          "output_type": "error",
          "ename": "FrozenInstanceError",
          "evalue": "ignored",
          "traceback": [
            "\u001b[0;31m---------------------------------------------------------------------------\u001b[0m",
            "\u001b[0;31mFrozenInstanceError\u001b[0m                       Traceback (most recent call last)",
            "\u001b[0;32m<ipython-input-16-5a2deff33578>\u001b[0m in \u001b[0;36m<module>\u001b[0;34m()\u001b[0m\n\u001b[1;32m     11\u001b[0m \u001b[0;34m\u001b[0m\u001b[0m\n\u001b[1;32m     12\u001b[0m \u001b[0;31m# attempting to change the value of an immutable class throws an exception\u001b[0m\u001b[0;34m\u001b[0m\u001b[0;34m\u001b[0m\u001b[0;34m\u001b[0m\u001b[0m\n\u001b[0;32m---> 13\u001b[0;31m \u001b[0mobj\u001b[0m\u001b[0;34m.\u001b[0m\u001b[0mvalue1\u001b[0m \u001b[0;34m=\u001b[0m \u001b[0;34m\"Another Value\"\u001b[0m\u001b[0;34m\u001b[0m\u001b[0;34m\u001b[0m\u001b[0m\n\u001b[0m\u001b[1;32m     14\u001b[0m \u001b[0mprint\u001b[0m\u001b[0;34m(\u001b[0m\u001b[0mobj\u001b[0m\u001b[0;34m.\u001b[0m\u001b[0mvalue1\u001b[0m\u001b[0;34m)\u001b[0m\u001b[0;34m\u001b[0m\u001b[0;34m\u001b[0m\u001b[0m\n",
            "\u001b[0;32m<string>\u001b[0m in \u001b[0;36m__setattr__\u001b[0;34m(self, name, value)\u001b[0m\n",
            "\u001b[0;31mFrozenInstanceError\u001b[0m: cannot assign to field 'value1'"
          ]
        }
      ]
    },
    {
      "cell_type": "markdown",
      "metadata": {
        "id": "QzAy0-I8FH-1"
      },
      "source": [
        "And when I try to run the code, you can see that I get a frozen instance error, and you can see the explanation says cannot assign value to field value1. So this also prevents modification within the class itself, not just from outside the class. Let's go ahead and add a function to the class, and I'll define a method named somefunc, and then I'll take the object and a new value, and we'll set some new attribute value on value2. All right, and then down here we'll try to call the function with a new value. And let's go ahead and comment that out, because we know that that doesn't work. So I'm going to save this, and I'm going to run it once more. And then once again, you can see I'm getting the same frozen instance error. So creating frozen data classes can be useful when you want the class to represent data that you know isn't going to change, and with a data class decorator, that's really easy to do."
      ]
    },
    {
      "cell_type": "code",
      "metadata": {
        "colab": {
          "base_uri": "https://localhost:8080/",
          "height": 367
        },
        "id": "dzlWYPTCFqQe",
        "outputId": "7c6a53ba-0d39-4850-fb2b-58b3982bd3e8"
      },
      "source": [
        "from dataclasses import dataclass\n",
        "\n",
        "# the frozen parameter makes the class immutable\n",
        "@dataclass(frozen=True)\n",
        "class ImmutableClass:\n",
        "    value1: str = \"Value 1\"\n",
        "    value2: int = 0\n",
        "\n",
        "    def somefunc(self, newval):\n",
        "        self.value2 = newval\n",
        "\n",
        "obj = ImmutableClass()\n",
        "print(obj.value1)\n",
        "\n",
        "# even functions within the class cant change anything\n",
        "obj.somefunc(20)"
      ],
      "execution_count": 17,
      "outputs": [
        {
          "output_type": "stream",
          "text": [
            "Value 1\n"
          ],
          "name": "stdout"
        },
        {
          "output_type": "error",
          "ename": "FrozenInstanceError",
          "evalue": "ignored",
          "traceback": [
            "\u001b[0;31m---------------------------------------------------------------------------\u001b[0m",
            "\u001b[0;31mFrozenInstanceError\u001b[0m                       Traceback (most recent call last)",
            "\u001b[0;32m<ipython-input-17-bb463ae334a7>\u001b[0m in \u001b[0;36m<module>\u001b[0;34m()\u001b[0m\n\u001b[1;32m     14\u001b[0m \u001b[0;34m\u001b[0m\u001b[0m\n\u001b[1;32m     15\u001b[0m \u001b[0;31m# even functions within the class cant change anything\u001b[0m\u001b[0;34m\u001b[0m\u001b[0;34m\u001b[0m\u001b[0;34m\u001b[0m\u001b[0m\n\u001b[0;32m---> 16\u001b[0;31m \u001b[0mobj\u001b[0m\u001b[0;34m.\u001b[0m\u001b[0msomefunc\u001b[0m\u001b[0;34m(\u001b[0m\u001b[0;36m20\u001b[0m\u001b[0;34m)\u001b[0m\u001b[0;34m\u001b[0m\u001b[0;34m\u001b[0m\u001b[0m\n\u001b[0m",
            "\u001b[0;32m<ipython-input-17-bb463ae334a7>\u001b[0m in \u001b[0;36msomefunc\u001b[0;34m(self, newval)\u001b[0m\n\u001b[1;32m      8\u001b[0m \u001b[0;34m\u001b[0m\u001b[0m\n\u001b[1;32m      9\u001b[0m     \u001b[0;32mdef\u001b[0m \u001b[0msomefunc\u001b[0m\u001b[0;34m(\u001b[0m\u001b[0mself\u001b[0m\u001b[0;34m,\u001b[0m \u001b[0mnewval\u001b[0m\u001b[0;34m)\u001b[0m\u001b[0;34m:\u001b[0m\u001b[0;34m\u001b[0m\u001b[0;34m\u001b[0m\u001b[0m\n\u001b[0;32m---> 10\u001b[0;31m         \u001b[0mself\u001b[0m\u001b[0;34m.\u001b[0m\u001b[0mvalue2\u001b[0m \u001b[0;34m=\u001b[0m \u001b[0mnewval\u001b[0m\u001b[0;34m\u001b[0m\u001b[0;34m\u001b[0m\u001b[0m\n\u001b[0m\u001b[1;32m     11\u001b[0m \u001b[0;34m\u001b[0m\u001b[0m\n\u001b[1;32m     12\u001b[0m \u001b[0mobj\u001b[0m \u001b[0;34m=\u001b[0m \u001b[0mImmutableClass\u001b[0m\u001b[0;34m(\u001b[0m\u001b[0;34m)\u001b[0m\u001b[0;34m\u001b[0m\u001b[0;34m\u001b[0m\u001b[0m\n",
            "\u001b[0;32m<string>\u001b[0m in \u001b[0;36m__setattr__\u001b[0;34m(self, name, value)\u001b[0m\n",
            "\u001b[0;31mFrozenInstanceError\u001b[0m: cannot assign to field 'value2'"
          ]
        }
      ]
    }
  ]
}