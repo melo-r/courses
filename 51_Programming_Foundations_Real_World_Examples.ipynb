{
  "nbformat": 4,
  "nbformat_minor": 0,
  "metadata": {
    "colab": {
      "name": "51_Programming_Foundations_Real-World_Examples.ipynb",
      "provenance": []
    },
    "kernelspec": {
      "name": "python3",
      "display_name": "Python 3"
    },
    "language_info": {
      "name": "python"
    }
  },
  "cells": [
    {
      "cell_type": "markdown",
      "metadata": {
        "id": "zaEEccbBpJMw"
      },
      "source": [
        "https://www.linkedin.com/learning/programming-foundations-real-world-examples"
      ]
    },
    {
      "cell_type": "markdown",
      "metadata": {
        "id": "EvbuHcqApLmO"
      },
      "source": [
        "# 1.Functions"
      ]
    },
    {
      "cell_type": "code",
      "metadata": {
        "colab": {
          "base_uri": "https://localhost:8080/"
        },
        "id": "ITWyaKGpoxAk",
        "outputId": "8c932a66-e880-4209-8a68-f2b166a1f727"
      },
      "source": [
        "'''A Functional Breakfast '''\n",
        "\n",
        "print('Mixing the ingredients')\n",
        "print('Pouring the mixture into a frying pan')\n",
        "print('Cooking the first side')\n",
        "print('Flipping it!')\n",
        "print('Cooking the other side')\n",
        "omelette='a tasty omelette'"
      ],
      "execution_count": null,
      "outputs": [
        {
          "output_type": "stream",
          "text": [
            "Mixing the ingredients\n",
            "Pouring the mixture into a frying pan\n",
            "Cooking the first side\n",
            "Flipping it!\n",
            "Cooking the other side\n"
          ],
          "name": "stdout"
        }
      ]
    },
    {
      "cell_type": "code",
      "metadata": {
        "id": "coGb3s0NqkQf"
      },
      "source": [
        "'''A Functional Breakfast '''\n",
        "\n",
        "def make_omelette():\n",
        "    print('Mixing the ingredients')\n",
        "    print('Pouring the mixture into a frying pan')\n",
        "    print('Cooking the first side')\n",
        "    print('Flipping it!')\n",
        "    print('Cooking the other side')\n",
        "    omelette = 'a tasty omelette'\n",
        "    return omelette"
      ],
      "execution_count": null,
      "outputs": []
    },
    {
      "cell_type": "code",
      "metadata": {
        "colab": {
          "base_uri": "https://localhost:8080/"
        },
        "id": "QWHQcxU9sr1B",
        "outputId": "d8f305d0-93d6-4bd5-ebec-52f7182b99e9"
      },
      "source": [
        "make_omelette()"
      ],
      "execution_count": null,
      "outputs": [
        {
          "output_type": "stream",
          "text": [
            "Mixing the ingredients\n",
            "Pouring the mixture into a frying pan\n",
            "Cooking the first side\n",
            "Flipping it!\n",
            "Cooking the other side\n"
          ],
          "name": "stdout"
        },
        {
          "output_type": "execute_result",
          "data": {
            "application/vnd.google.colaboratory.intrinsic+json": {
              "type": "string"
            },
            "text/plain": [
              "'a tasty omelette'"
            ]
          },
          "metadata": {
            "tags": []
          },
          "execution_count": 12
        }
      ]
    },
    {
      "cell_type": "code",
      "metadata": {
        "id": "YThFbiMrrAu2"
      },
      "source": [
        "'''A Functional Breakfast '''\n",
        "\n",
        "def make_omelette():\n",
        "    print('Mixing the ingredients')\n",
        "    print('Pouring the mixture into a frying pan')\n",
        "    print('Cooking the first side')\n",
        "    print('Flipping it!')\n",
        "    print('Cooking the other side')\n",
        "    omelette = 'a tasty omelette'\n",
        "    return omelette\n",
        "\n",
        "def make_pancake():\n",
        "    print('Mixing the ingredients')\n",
        "    print('Pouring the mixture into a frying pan')\n",
        "    print('Cooking the first side')\n",
        "    print('Flipping it!')\n",
        "    print('Cooking the other side')\n",
        "    pancake = 'a delicious pancake'\n",
        "    return pancake"
      ],
      "execution_count": null,
      "outputs": []
    },
    {
      "cell_type": "code",
      "metadata": {
        "colab": {
          "base_uri": "https://localhost:8080/"
        },
        "id": "XkbGQ1PTs4n3",
        "outputId": "4bdea547-861e-4a50-a5c7-0e48d3fd27ca"
      },
      "source": [
        "make_omelette()"
      ],
      "execution_count": null,
      "outputs": [
        {
          "output_type": "stream",
          "text": [
            "Mixing the ingredients\n",
            "Pouring the mixture into a frying pan\n",
            "Cooking the first side\n",
            "Flipping it!\n",
            "Cooking the other side\n"
          ],
          "name": "stdout"
        },
        {
          "output_type": "execute_result",
          "data": {
            "application/vnd.google.colaboratory.intrinsic+json": {
              "type": "string"
            },
            "text/plain": [
              "'a tasty omelette'"
            ]
          },
          "metadata": {
            "tags": []
          },
          "execution_count": 15
        }
      ]
    },
    {
      "cell_type": "code",
      "metadata": {
        "colab": {
          "base_uri": "https://localhost:8080/"
        },
        "id": "MT90MNmRtBGP",
        "outputId": "9ba80fd3-6e10-498a-e3e1-3b9ffa0a5c51"
      },
      "source": [
        "make_pancake()"
      ],
      "execution_count": null,
      "outputs": [
        {
          "output_type": "stream",
          "text": [
            "Mixing the ingredients\n",
            "Pouring the mixture into a frying pan\n",
            "Cooking the first side\n",
            "Flipping it!\n",
            "Cooking the other side\n"
          ],
          "name": "stdout"
        },
        {
          "output_type": "execute_result",
          "data": {
            "application/vnd.google.colaboratory.intrinsic+json": {
              "type": "string"
            },
            "text/plain": [
              "'a delicious pancake'"
            ]
          },
          "metadata": {
            "tags": []
          },
          "execution_count": 16
        }
      ]
    },
    {
      "cell_type": "code",
      "metadata": {
        "id": "VgYFIsBxrhOH"
      },
      "source": [
        "'''A Functional Breakfast '''\n",
        "\n",
        "def mix_and_cook():\n",
        "    print('Mixing the ingredients')\n",
        "    print('Pouring the mixture into a frying pan')\n",
        "    print('Cooking the first side')\n",
        "    print('Flipping it!')\n",
        "    print('Cooking the other side')\n",
        "\n",
        "def make_omelette():\n",
        "    mix_and_cook()\n",
        "    omelette = 'a tasty omelette'\n",
        "    return omelette\n",
        "\n",
        "def make_pancake():\n",
        "    mix_and_cook()\n",
        "    pancake = 'a delicious pancake'\n",
        "    return pancake"
      ],
      "execution_count": null,
      "outputs": []
    },
    {
      "cell_type": "code",
      "metadata": {
        "colab": {
          "base_uri": "https://localhost:8080/"
        },
        "id": "CG82Z7i5tIVQ",
        "outputId": "6744fd7d-f887-490b-df06-7e6d8fac2105"
      },
      "source": [
        "print( make_omelette() )\n",
        "print()\n",
        "print( make_pancake() )"
      ],
      "execution_count": null,
      "outputs": [
        {
          "output_type": "stream",
          "text": [
            "Mixing the ingredients\n",
            "Pouring the mixture into a frying pan\n",
            "Cooking the first side\n",
            "Flipping it!\n",
            "Cooking the other side\n",
            "a tasty omelette\n",
            "\n",
            "Mixing the ingredients\n",
            "Pouring the mixture into a frying pan\n",
            "Cooking the first side\n",
            "Flipping it!\n",
            "Cooking the other side\n",
            "a delicious pancake\n"
          ],
          "name": "stdout"
        }
      ]
    },
    {
      "cell_type": "code",
      "metadata": {
        "id": "Y8j1OjaptTEC"
      },
      "source": [
        "# add another step into: Greasing the frying pan\n",
        "\n",
        "def mix_and_cook():\n",
        "    print('Mixing the ingredients')\n",
        "    print('Greasing the frying pan')\n",
        "    print('Pouring the mixture into a frying pan')\n",
        "    print('Cooking the first side')\n",
        "    print('Flipping it!')\n",
        "    print('Cooking the other side')\n",
        "\n",
        "def make_omelette():\n",
        "    mix_and_cook()\n",
        "    omelette = 'a tasty omelette'\n",
        "    return omelette\n",
        "\n",
        "def make_pancake():\n",
        "    mix_and_cook()\n",
        "    pancake = 'a delicious pancake'\n",
        "    return pancake"
      ],
      "execution_count": null,
      "outputs": []
    },
    {
      "cell_type": "code",
      "metadata": {
        "colab": {
          "base_uri": "https://localhost:8080/"
        },
        "id": "Zg3f3sgKuVXY",
        "outputId": "263a19e4-bb8a-4050-996f-92e7980fc95b"
      },
      "source": [
        "print( make_omelette() )\n",
        "print()\n",
        "print( make_pancake() )"
      ],
      "execution_count": null,
      "outputs": [
        {
          "output_type": "stream",
          "text": [
            "Mixing the ingredients\n",
            "Greasing the frying pan\n",
            "Pouring the mixture into a frying pan\n",
            "Cooking the first side\n",
            "Flipping it!\n",
            "Cooking the other side\n",
            "a tasty omelette\n",
            "\n",
            "Mixing the ingredients\n",
            "Greasing the frying pan\n",
            "Pouring the mixture into a frying pan\n",
            "Cooking the first side\n",
            "Flipping it!\n",
            "Cooking the other side\n",
            "a delicious pancake\n"
          ],
          "name": "stdout"
        }
      ]
    },
    {
      "cell_type": "code",
      "metadata": {
        "id": "AAgUdvbFuW0I"
      },
      "source": [
        "def make_omelette(ingredient):\n",
        "    mix_and_cook()\n",
        "    omelette = 'a {} omelette'.format(ingredient)\n",
        "    return omelette"
      ],
      "execution_count": null,
      "outputs": []
    },
    {
      "cell_type": "code",
      "metadata": {
        "colab": {
          "base_uri": "https://localhost:8080/",
          "height": 137
        },
        "id": "FAITOkxNut_Z",
        "outputId": "a8f0cd2a-7b09-4478-8e54-59a5e8db4990"
      },
      "source": [
        "make_omelette('bacon')"
      ],
      "execution_count": null,
      "outputs": [
        {
          "output_type": "stream",
          "text": [
            "Mixing the ingredients\n",
            "Greasing the frying pan\n",
            "Pouring the mixture into a frying pan\n",
            "Cooking the first side\n",
            "Flipping it!\n",
            "Cooking the other side\n"
          ],
          "name": "stdout"
        },
        {
          "output_type": "execute_result",
          "data": {
            "application/vnd.google.colaboratory.intrinsic+json": {
              "type": "string"
            },
            "text/plain": [
              "'a bacon omelette'"
            ]
          },
          "metadata": {
            "tags": []
          },
          "execution_count": 6
        }
      ]
    },
    {
      "cell_type": "code",
      "metadata": {
        "id": "Jnkzpd4DvZi5"
      },
      "source": [
        "# Lets talk about: Parameter vs Argument\n",
        "# make_omelette('bacon'), Bacon is an Argument\n",
        "#\n",
        "# def make_omelette(ingredient), Ingredient is a Parameter\n",
        "# Parameter != Argument"
      ],
      "execution_count": null,
      "outputs": []
    },
    {
      "cell_type": "code",
      "metadata": {
        "id": "gJWiHA9AvaXS"
      },
      "source": [
        "def fancy_omelette(*ingredients):\n",
        "    mix_and_cook()\n",
        "    omelette = 'a fancy omelette with {} ingredients'.format(len(ingredients))\n",
        "    return omelette"
      ],
      "execution_count": null,
      "outputs": []
    },
    {
      "cell_type": "code",
      "metadata": {
        "colab": {
          "base_uri": "https://localhost:8080/"
        },
        "id": "cCFL_QC1w_wR",
        "outputId": "3739a565-aac6-4c82-e882-f0f0fac87438"
      },
      "source": [
        "print( fancy_omelette('bacon','mushroom','onion','garlic','pepperoni') )"
      ],
      "execution_count": null,
      "outputs": [
        {
          "output_type": "stream",
          "text": [
            "Mixing the ingredients\n",
            "Greasing the frying pan\n",
            "Pouring the mixture into a frying pan\n",
            "Cooking the first side\n",
            "Flipping it!\n",
            "Cooking the other side\n",
            "a fancy omelette with 5 ingredients\n"
          ],
          "name": "stdout"
        }
      ]
    },
    {
      "cell_type": "code",
      "metadata": {
        "id": "18VBUoRExPXi"
      },
      "source": [
        "#Local Variable in Functions\n",
        "#Parameters\n",
        "#Variables created in functions"
      ],
      "execution_count": null,
      "outputs": []
    },
    {
      "cell_type": "markdown",
      "metadata": {
        "id": "P5KHrnqz2cMm"
      },
      "source": [
        "I'll demonstrate that by accessing the ingredient parameter, which is defined in the make omelette function inside of the make pancake function to modify the output pancake stream. Now, if I save and run that script, I can use the make omelette function the same way as before to make a bacon omelette, but if I try using the make pancake function which does not have an input parameter named ingredient, Python throws a name error because I'm trying to access a variable named ingredient which has not been defined within the scope of the make pancake function. When I called make omelette, it temporarily created a variable named ingredient to use inside that function and then when that function finished, that variable went away. So, even though I just ran the make omelette function, if I try to access the ingredient variable by typing ingredient into the shell, Python politely let's me know the name ingredient is not defined. It only existed as a local variable while the make omelette function was executing. In the kitchen, the cheese in the fridge was a shared resource that existed in the global scope of the kitchen. "
      ]
    },
    {
      "cell_type": "code",
      "metadata": {
        "id": "_NLgGstO1zwl"
      },
      "source": [
        "def mix_and_cook():\n",
        "    print('Mixing the ingredients')\n",
        "    print('Greasing the frying pan')\n",
        "    print('Pouring the mixture into a frying pan')\n",
        "    print('Cooking the first side')\n",
        "    print('Flipping it!')\n",
        "    print('Cooking the other side')\n",
        "\n",
        "def make_omelette(ingredient):\n",
        "    mix_and_cook()\n",
        "    omelette = 'a {} omelette'.format(ingredient)\n",
        "    return omelette\n",
        "\n",
        "def make_pancake():\n",
        "    mix_and_cook()\n",
        "    pancake = 'a {} pancake'.format(ingredient)\n",
        "    return pancake"
      ],
      "execution_count": null,
      "outputs": []
    },
    {
      "cell_type": "code",
      "metadata": {
        "colab": {
          "base_uri": "https://localhost:8080/",
          "height": 137
        },
        "id": "bQhGtfcF2hFc",
        "outputId": "dbc7b8e9-8271-4185-a29b-2e0311ce221c"
      },
      "source": [
        "make_omelette('bacon')"
      ],
      "execution_count": null,
      "outputs": [
        {
          "output_type": "stream",
          "text": [
            "Mixing the ingredients\n",
            "Greasing the frying pan\n",
            "Pouring the mixture into a frying pan\n",
            "Cooking the first side\n",
            "Flipping it!\n",
            "Cooking the other side\n"
          ],
          "name": "stdout"
        },
        {
          "output_type": "execute_result",
          "data": {
            "application/vnd.google.colaboratory.intrinsic+json": {
              "type": "string"
            },
            "text/plain": [
              "'a bacon omelette'"
            ]
          },
          "metadata": {
            "tags": []
          },
          "execution_count": 9
        }
      ]
    },
    {
      "cell_type": "code",
      "metadata": {
        "colab": {
          "base_uri": "https://localhost:8080/",
          "height": 367
        },
        "id": "8vOGFTEo2kpr",
        "outputId": "0c9d6dcb-a70f-4762-b2dc-c33ee1084b95"
      },
      "source": [
        "make_pancake()"
      ],
      "execution_count": null,
      "outputs": [
        {
          "output_type": "stream",
          "text": [
            "Mixing the ingredients\n",
            "Greasing the frying pan\n",
            "Pouring the mixture into a frying pan\n",
            "Cooking the first side\n",
            "Flipping it!\n",
            "Cooking the other side\n"
          ],
          "name": "stdout"
        },
        {
          "output_type": "error",
          "ename": "NameError",
          "evalue": "ignored",
          "traceback": [
            "\u001b[0;31m---------------------------------------------------------------------------\u001b[0m",
            "\u001b[0;31mNameError\u001b[0m                                 Traceback (most recent call last)",
            "\u001b[0;32m<ipython-input-10-a177aeab10bc>\u001b[0m in \u001b[0;36m<module>\u001b[0;34m()\u001b[0m\n\u001b[0;32m----> 1\u001b[0;31m \u001b[0mmake_pancake\u001b[0m\u001b[0;34m(\u001b[0m\u001b[0;34m)\u001b[0m\u001b[0;34m\u001b[0m\u001b[0;34m\u001b[0m\u001b[0m\n\u001b[0m",
            "\u001b[0;32m<ipython-input-8-0b15d0435684>\u001b[0m in \u001b[0;36mmake_pancake\u001b[0;34m()\u001b[0m\n\u001b[1;32m     14\u001b[0m \u001b[0;32mdef\u001b[0m \u001b[0mmake_pancake\u001b[0m\u001b[0;34m(\u001b[0m\u001b[0;34m)\u001b[0m\u001b[0;34m:\u001b[0m\u001b[0;34m\u001b[0m\u001b[0;34m\u001b[0m\u001b[0m\n\u001b[1;32m     15\u001b[0m     \u001b[0mmix_and_cook\u001b[0m\u001b[0;34m(\u001b[0m\u001b[0;34m)\u001b[0m\u001b[0;34m\u001b[0m\u001b[0;34m\u001b[0m\u001b[0m\n\u001b[0;32m---> 16\u001b[0;31m     \u001b[0mpancake\u001b[0m \u001b[0;34m=\u001b[0m \u001b[0;34m'a {} pancake'\u001b[0m\u001b[0;34m.\u001b[0m\u001b[0mformat\u001b[0m\u001b[0;34m(\u001b[0m\u001b[0mingredient\u001b[0m\u001b[0;34m)\u001b[0m\u001b[0;34m\u001b[0m\u001b[0;34m\u001b[0m\u001b[0m\n\u001b[0m\u001b[1;32m     17\u001b[0m     \u001b[0;32mreturn\u001b[0m \u001b[0mpancake\u001b[0m\u001b[0;34m\u001b[0m\u001b[0;34m\u001b[0m\u001b[0m\n",
            "\u001b[0;31mNameError\u001b[0m: name 'ingredient' is not defined"
          ]
        }
      ]
    },
    {
      "cell_type": "code",
      "metadata": {
        "id": "YRtvCpcS3I9d"
      },
      "source": [
        "# Global Variable, variable created in the main body of the program"
      ],
      "execution_count": null,
      "outputs": []
    },
    {
      "cell_type": "code",
      "metadata": {
        "id": "dSPrJBNg3x6M"
      },
      "source": [
        "cheese = 'cheddar'\n",
        "\n",
        "def mix_and_cook():\n",
        "    print('Mixing the ingredients')\n",
        "    print('Greasing the frying pan')\n",
        "    print('Pouring the mixture into a frying pan')\n",
        "    print('Cooking the first side')\n",
        "    print('Flipping it!')\n",
        "    print('Cooking the other side')\n",
        "\n",
        "def make_omelette():\n",
        "    mix_and_cook()\n",
        "    omelette = 'a {} omelette'.format(cheese)\n",
        "    return omelette\n",
        "\n",
        "def make_pancake():\n",
        "    mix_and_cook()\n",
        "    pancake = 'a {} pancake'.format(cheese)\n",
        "    return pancake"
      ],
      "execution_count": null,
      "outputs": []
    },
    {
      "cell_type": "code",
      "metadata": {
        "colab": {
          "base_uri": "https://localhost:8080/",
          "height": 35
        },
        "id": "OQURQOix31O8",
        "outputId": "b4f8029b-eead-4526-980a-d7c0d84b3001"
      },
      "source": [
        "cheese"
      ],
      "execution_count": null,
      "outputs": [
        {
          "output_type": "execute_result",
          "data": {
            "application/vnd.google.colaboratory.intrinsic+json": {
              "type": "string"
            },
            "text/plain": [
              "'cheddar'"
            ]
          },
          "metadata": {
            "tags": []
          },
          "execution_count": 12
        }
      ]
    },
    {
      "cell_type": "code",
      "metadata": {
        "colab": {
          "base_uri": "https://localhost:8080/"
        },
        "id": "iPQM4_Yw342N",
        "outputId": "d704fb2d-362b-4f57-f070-8d5428e8448f"
      },
      "source": [
        "print( make_omelette() )\n",
        "print()\n",
        "print( make_pancake() )"
      ],
      "execution_count": null,
      "outputs": [
        {
          "output_type": "stream",
          "text": [
            "Mixing the ingredients\n",
            "Greasing the frying pan\n",
            "Pouring the mixture into a frying pan\n",
            "Cooking the first side\n",
            "Flipping it!\n",
            "Cooking the other side\n",
            "a cheddar omelette\n",
            "\n",
            "Mixing the ingredients\n",
            "Greasing the frying pan\n",
            "Pouring the mixture into a frying pan\n",
            "Cooking the first side\n",
            "Flipping it!\n",
            "Cooking the other side\n",
            "a cheddar pancake\n"
          ],
          "name": "stdout"
        }
      ]
    },
    {
      "cell_type": "code",
      "metadata": {
        "colab": {
          "base_uri": "https://localhost:8080/"
        },
        "id": "z8AXCs9O4A-j",
        "outputId": "51c99166-231b-4197-f480-f365cc687d80"
      },
      "source": [
        "''' Functions search for variables locally first. If the variable is not the local\n",
        "    scope, it expands the search to the global scope\n",
        "'''\n",
        "\n",
        "cheese = 'cheddar'\n",
        "\n",
        "def mix_and_cook():\n",
        "    print('Mixing the ingredients')\n",
        "    print('Greasing the frying pan')\n",
        "    print('Pouring the mixture into a frying pan')\n",
        "    print('Cooking the first side')\n",
        "    print('Flipping it!')\n",
        "    print('Cooking the other side')\n",
        "\n",
        "def make_omelette():\n",
        "    cheese = 'swiss'\n",
        "    mix_and_cook()\n",
        "    omelette = 'a {} omelette'.format(cheese)\n",
        "    return omelette\n",
        "\n",
        "def make_pancake():\n",
        "    mix_and_cook()\n",
        "    pancake = 'a {} pancake'.format(cheese)\n",
        "    return pancake\n",
        "\n",
        "print( make_omelette() )\n",
        "print()\n",
        "print( make_pancake() )"
      ],
      "execution_count": null,
      "outputs": [
        {
          "output_type": "stream",
          "text": [
            "Mixing the ingredients\n",
            "Greasing the frying pan\n",
            "Pouring the mixture into a frying pan\n",
            "Cooking the first side\n",
            "Flipping it!\n",
            "Cooking the other side\n",
            "a swiss omelette\n",
            "\n",
            "Mixing the ingredients\n",
            "Greasing the frying pan\n",
            "Pouring the mixture into a frying pan\n",
            "Cooking the first side\n",
            "Flipping it!\n",
            "Cooking the other side\n",
            "a cheddar pancake\n"
          ],
          "name": "stdout"
        }
      ]
    },
    {
      "cell_type": "markdown",
      "metadata": {
        "id": "MCF87Rht5wVd"
      },
      "source": [
        "In Python, if I want to change the value of a global variable from within a function, then I have to explicitly tell Python that I want to change that global variable. I can do that by adding the line global cheese at the beginning of the make omelette function. This tells Python that when I refer to the variable named cheese inside of the make omelette function, I'm actually referring to the global cheese. I don't want it to make a local version of cheese. I'll save and run the script. If I type cheese, we can see that the global variable has its initial value of cheddar just like before. Now, when I call the make omelette function, it will change the value of the global cheese variable to be Swiss and then use that to make a Swiss omelette. If I check the value of the global cheese variable again, you can see that it's been changed to Swiss. Which means if I call the make pancake function now, it'll create a Swiss pancake. Ugh! Python is designed this way to prevent you from accidentally changing a global variable by using the same name for a variable inside of a function. It forces you to explicitly say you're changing a global variable from within the scope of a function. Other programming languages use different policies or mechanisms to differentiate between local and global variables. If you're using a language other than Python, be sure to check out how that language handles local and global scope so you don't unintentionally change or use the wrong variables."
      ]
    },
    {
      "cell_type": "code",
      "metadata": {
        "colab": {
          "base_uri": "https://localhost:8080/"
        },
        "id": "1aZdOJWh5Hjf",
        "outputId": "64c84048-f378-4fe7-8f2d-e26307591a53"
      },
      "source": [
        "cheese = 'cheddar'\n",
        "\n",
        "def mix_and_cook():\n",
        "    print('Mixing the ingredients')\n",
        "    print('Greasing the frying pan')\n",
        "    print('Pouring the mixture into a frying pan')\n",
        "    print('Cooking the first side')\n",
        "    print('Flipping it!')\n",
        "    print('Cooking the other side')\n",
        "\n",
        "def make_omelette():\n",
        "    global cheese\n",
        "    cheese = 'swiss'\n",
        "    mix_and_cook()\n",
        "    omelette = 'a {} omelette'.format(cheese)\n",
        "    return omelette\n",
        "\n",
        "def make_pancake():\n",
        "    mix_and_cook()\n",
        "    pancake = 'a {} pancake'.format(cheese)\n",
        "    return pancake\n",
        "\n",
        "print(cheese)\n",
        "print()\n",
        "print( make_omelette() )\n",
        "print()\n",
        "print( make_pancake() )"
      ],
      "execution_count": null,
      "outputs": [
        {
          "output_type": "stream",
          "text": [
            "cheddar\n",
            "\n",
            "Mixing the ingredients\n",
            "Greasing the frying pan\n",
            "Pouring the mixture into a frying pan\n",
            "Cooking the first side\n",
            "Flipping it!\n",
            "Cooking the other side\n",
            "a swiss omelette\n",
            "\n",
            "Mixing the ingredients\n",
            "Greasing the frying pan\n",
            "Pouring the mixture into a frying pan\n",
            "Cooking the first side\n",
            "Flipping it!\n",
            "Cooking the other side\n",
            "a swiss pancake\n"
          ],
          "name": "stdout"
        }
      ]
    },
    {
      "cell_type": "markdown",
      "metadata": {
        "id": "JoSqZxJIpPw-"
      },
      "source": [
        "# 2.Objects"
      ]
    },
    {
      "cell_type": "markdown",
      "metadata": {
        "id": "K-jkep0d6K-8"
      },
      "source": [
        ""
      ]
    },
    {
      "cell_type": "code",
      "metadata": {
        "id": "UcGqDnGb6LJc"
      },
      "source": [
        "class jeans:\n",
        "    def __init__(self, waist, length, color):\n",
        "        self.waist = waist\n",
        "        self.length = length\n",
        "        self.color = color\n",
        "        self.wearing = False\n",
        "\n",
        "    def put_on(self):\n",
        "        print('Putting on {} x {} {} jeans'.format(self.waist, self.length, self.color))\n",
        "        self.wearing = True\n",
        "\n",
        "    def take_off(self):\n",
        "        print('Taking off {} x {} {} jeans'.format(self.waist, self.length, self.color))\n",
        "        self.wearing = False"
      ],
      "execution_count": null,
      "outputs": []
    },
    {
      "cell_type": "code",
      "metadata": {
        "id": "MpvZxXZd9xz8"
      },
      "source": [
        "# When a method is called on an object, Python automatically passes that object the first argument."
      ],
      "execution_count": null,
      "outputs": []
    },
    {
      "cell_type": "code",
      "metadata": {
        "id": "vLIobz9m94L1"
      },
      "source": [
        "my_jeans = jeans(31, 32, 'blue')"
      ],
      "execution_count": null,
      "outputs": []
    },
    {
      "cell_type": "code",
      "metadata": {
        "colab": {
          "base_uri": "https://localhost:8080/"
        },
        "id": "03cVToBM-eWB",
        "outputId": "da5e8dc3-567b-4cdd-ba01-f57d57ef41f6"
      },
      "source": [
        "print( type(my_jeans) )\n",
        "print()\n",
        "dir(my_jeans)"
      ],
      "execution_count": null,
      "outputs": [
        {
          "output_type": "stream",
          "text": [
            "<class '__main__.jeans'>\n",
            "\n"
          ],
          "name": "stdout"
        },
        {
          "output_type": "execute_result",
          "data": {
            "text/plain": [
              "['__class__',\n",
              " '__delattr__',\n",
              " '__dict__',\n",
              " '__dir__',\n",
              " '__doc__',\n",
              " '__eq__',\n",
              " '__format__',\n",
              " '__ge__',\n",
              " '__getattribute__',\n",
              " '__gt__',\n",
              " '__hash__',\n",
              " '__init__',\n",
              " '__init_subclass__',\n",
              " '__le__',\n",
              " '__lt__',\n",
              " '__module__',\n",
              " '__ne__',\n",
              " '__new__',\n",
              " '__reduce__',\n",
              " '__reduce_ex__',\n",
              " '__repr__',\n",
              " '__setattr__',\n",
              " '__sizeof__',\n",
              " '__str__',\n",
              " '__subclasshook__',\n",
              " '__weakref__',\n",
              " 'color',\n",
              " 'length',\n",
              " 'put_on',\n",
              " 'take_off',\n",
              " 'waist',\n",
              " 'wearing']"
            ]
          },
          "metadata": {
            "tags": []
          },
          "execution_count": 21
        }
      ]
    },
    {
      "cell_type": "code",
      "metadata": {
        "colab": {
          "base_uri": "https://localhost:8080/"
        },
        "id": "nVxCS72_-nBx",
        "outputId": "559559f6-ec26-4cb8-b23f-bc23eca76b52"
      },
      "source": [
        "my_jeans.put_on()\n",
        "\n",
        "print(my_jeans.wearing)\n",
        "\n",
        "my_jeans.take_off()\n",
        "\n",
        "print(my_jeans.wearing)"
      ],
      "execution_count": null,
      "outputs": [
        {
          "output_type": "stream",
          "text": [
            "Putting on 31 x 32 blue jeans\n",
            "True\n",
            "Taking off 31 x 32 blue jeans\n",
            "False\n"
          ],
          "name": "stdout"
        }
      ]
    },
    {
      "cell_type": "code",
      "metadata": {
        "id": "27bd9wGu-4qC"
      },
      "source": [
        "''' Two Names, One Shirt '''\n",
        "\n",
        "class shirt:\n",
        "   \n",
        "    def __init__(self):\n",
        "        self.clean = True\n",
        "\n",
        "    def make_dirty(self):\n",
        "        self.clean = False\n",
        "\n",
        "    def make_clean(self):\n",
        "        self.clean = True"
      ],
      "execution_count": null,
      "outputs": []
    },
    {
      "cell_type": "code",
      "metadata": {
        "colab": {
          "base_uri": "https://localhost:8080/"
        },
        "id": "qC6Qq3E5Aw3k",
        "outputId": "082eb32f-c863-4abf-be1b-ecfc43e57cc1"
      },
      "source": [
        "red = shirt()\n",
        "crimson = red\n",
        "\n",
        "print ( id(red) )\n",
        "print( id(crimson) )"
      ],
      "execution_count": null,
      "outputs": [
        {
          "output_type": "stream",
          "text": [
            "140381852010960\n",
            "140381852010960\n"
          ],
          "name": "stdout"
        }
      ]
    },
    {
      "cell_type": "code",
      "metadata": {
        "colab": {
          "base_uri": "https://localhost:8080/"
        },
        "id": "WIekK8BLBDJC",
        "outputId": "a215d741-fe1a-48dc-cc75-af8ff319ebd3"
      },
      "source": [
        "print(red.clean)\n",
        "print(crimson.clean)\n",
        "\n",
        "red.make_dirty()"
      ],
      "execution_count": null,
      "outputs": [
        {
          "output_type": "stream",
          "text": [
            "False\n",
            "False\n"
          ],
          "name": "stdout"
        }
      ]
    },
    {
      "cell_type": "code",
      "metadata": {
        "colab": {
          "base_uri": "https://localhost:8080/"
        },
        "id": "nf3-QchhBRmi",
        "outputId": "880848a7-53c0-4ffe-bfd7-105908105822"
      },
      "source": [
        "print( red.clean )\n",
        "print( crimson.clean )"
      ],
      "execution_count": null,
      "outputs": [
        {
          "output_type": "stream",
          "text": [
            "False\n",
            "False\n"
          ],
          "name": "stdout"
        }
      ]
    },
    {
      "cell_type": "code",
      "metadata": {
        "colab": {
          "base_uri": "https://localhost:8080/"
        },
        "id": "wOLoqPf6BZQe",
        "outputId": "7960f042-7e6a-46f7-8393-dc1d9df293ce"
      },
      "source": [
        "red is crimson"
      ],
      "execution_count": null,
      "outputs": [
        {
          "output_type": "execute_result",
          "data": {
            "text/plain": [
              "True"
            ]
          },
          "metadata": {
            "tags": []
          },
          "execution_count": 38
        }
      ]
    },
    {
      "cell_type": "code",
      "metadata": {
        "id": "qVJhvD2KBcC4"
      },
      "source": [
        "crimson = shirt()"
      ],
      "execution_count": null,
      "outputs": []
    },
    {
      "cell_type": "code",
      "metadata": {
        "colab": {
          "base_uri": "https://localhost:8080/"
        },
        "id": "B4d8XpeXBeuo",
        "outputId": "1dd728a0-75dd-482a-a512-5b69d9e5b59a"
      },
      "source": [
        "print ( id(red) )\n",
        "print( id(crimson) )"
      ],
      "execution_count": null,
      "outputs": [
        {
          "output_type": "stream",
          "text": [
            "140381852010960\n",
            "140381851512720\n"
          ],
          "name": "stdout"
        }
      ]
    },
    {
      "cell_type": "code",
      "metadata": {
        "colab": {
          "base_uri": "https://localhost:8080/"
        },
        "id": "Jj6k0WF7BkTE",
        "outputId": "f59014bd-e727-4cf4-cccd-2585c5526538"
      },
      "source": [
        "crimson.clean"
      ],
      "execution_count": null,
      "outputs": [
        {
          "output_type": "execute_result",
          "data": {
            "text/plain": [
              "True"
            ]
          },
          "metadata": {
            "tags": []
          },
          "execution_count": 44
        }
      ]
    },
    {
      "cell_type": "code",
      "metadata": {
        "colab": {
          "base_uri": "https://localhost:8080/"
        },
        "id": "uzHH1KhWBpk4",
        "outputId": "cd35e218-7405-47eb-ed0e-aa9afd03f1aa"
      },
      "source": [
        "red.make_clean()\n",
        "\n",
        "print( red.clean )\n",
        "print( crimson.clean )"
      ],
      "execution_count": null,
      "outputs": [
        {
          "output_type": "stream",
          "text": [
            "True\n",
            "True\n"
          ],
          "name": "stdout"
        }
      ]
    },
    {
      "cell_type": "code",
      "metadata": {
        "colab": {
          "base_uri": "https://localhost:8080/"
        },
        "id": "RmhxmnZwB0CI",
        "outputId": "d1ba742b-841a-47c7-906e-953a6235d237"
      },
      "source": [
        "red is crimson"
      ],
      "execution_count": null,
      "outputs": [
        {
          "output_type": "execute_result",
          "data": {
            "text/plain": [
              "False"
            ]
          },
          "metadata": {
            "tags": []
          },
          "execution_count": 46
        }
      ]
    },
    {
      "cell_type": "code",
      "metadata": {
        "colab": {
          "base_uri": "https://localhost:8080/"
        },
        "id": "71vbLkfaD0-_",
        "outputId": "1c250113-777b-4bbe-d2d7-e7637a48cddb"
      },
      "source": [
        "closet = ['shirt','hat','pants','jacket','socks']\n",
        "print(closet)\n",
        "\n",
        "id(closet)"
      ],
      "execution_count": null,
      "outputs": [
        {
          "output_type": "stream",
          "text": [
            "['shirt', 'hat', 'pants', 'jacket', 'socks']\n"
          ],
          "name": "stdout"
        },
        {
          "output_type": "execute_result",
          "data": {
            "text/plain": [
              "140381851516192"
            ]
          },
          "metadata": {
            "tags": []
          },
          "execution_count": 48
        }
      ]
    },
    {
      "cell_type": "code",
      "metadata": {
        "colab": {
          "base_uri": "https://localhost:8080/"
        },
        "id": "6ZlFxkqvD9YF",
        "outputId": "fa547a35-5d4e-49bc-dc97-bbc48763dcb8"
      },
      "source": [
        "closet.remove('hat')\n",
        "closet"
      ],
      "execution_count": null,
      "outputs": [
        {
          "output_type": "execute_result",
          "data": {
            "text/plain": [
              "['shirt', 'pants', 'jacket', 'socks']"
            ]
          },
          "metadata": {
            "tags": []
          },
          "execution_count": 49
        }
      ]
    },
    {
      "cell_type": "code",
      "metadata": {
        "colab": {
          "base_uri": "https://localhost:8080/"
        },
        "id": "srYd5JLUD_TB",
        "outputId": "55936061-bd4f-4a97-f8ae-a117db973955"
      },
      "source": [
        "id(closet)"
      ],
      "execution_count": null,
      "outputs": [
        {
          "output_type": "execute_result",
          "data": {
            "text/plain": [
              "140381851516192"
            ]
          },
          "metadata": {
            "tags": []
          },
          "execution_count": 50
        }
      ]
    },
    {
      "cell_type": "code",
      "metadata": {
        "colab": {
          "base_uri": "https://localhost:8080/"
        },
        "id": "-PjvZWb0EBWY",
        "outputId": "f64e9977-6226-4049-d913-1b044f594944"
      },
      "source": [
        "words = 'You are wearing that'\n",
        "print(words)\n",
        "\n",
        "id(words)"
      ],
      "execution_count": null,
      "outputs": [
        {
          "output_type": "stream",
          "text": [
            "You are wearing that\n"
          ],
          "name": "stdout"
        },
        {
          "output_type": "execute_result",
          "data": {
            "text/plain": [
              "140381851973312"
            ]
          },
          "metadata": {
            "tags": []
          },
          "execution_count": 52
        }
      ]
    },
    {
      "cell_type": "code",
      "metadata": {
        "colab": {
          "base_uri": "https://localhost:8080/"
        },
        "id": "Ly1noaC2EH7Q",
        "outputId": "880068db-95e2-49c1-c00b-6a63ad493ddb"
      },
      "source": [
        "# In python, the plus operator creates a new string containing the concatenated phrase, and binds the new object to the name words\n",
        "\n",
        "words = words + 'because you look great'\n",
        "print(words)\n",
        "id(words)"
      ],
      "execution_count": null,
      "outputs": [
        {
          "output_type": "stream",
          "text": [
            "You are wearing thatbecause you look greatbecause you look great\n"
          ],
          "name": "stdout"
        },
        {
          "output_type": "execute_result",
          "data": {
            "text/plain": [
              "140381851634096"
            ]
          },
          "metadata": {
            "tags": []
          },
          "execution_count": 54
        }
      ]
    },
    {
      "cell_type": "markdown",
      "metadata": {
        "id": "U30Yv0GAEOLh"
      },
      "source": [
        "# 3.Classes Inheriting"
      ]
    },
    {
      "cell_type": "code",
      "metadata": {
        "id": "WKxFLTQNEQqq"
      },
      "source": [
        "'''A Garage Full of Glassy Vehicles'''\n",
        "\n",
        "class Vehicle: # Base Vehicle class\n",
        "\n",
        "    def __init__(self, color, manuf): # attributes\n",
        "        self.color = color\n",
        "        self.manuf = manuf\n",
        "        self.gas = 4 # a full tank of gas\n",
        "\n",
        "    def drive(self): # Method\n",
        "        if self.gas > 0:\n",
        "            self.gas -= 1\n",
        "            print('The {} {} goes VROOOM!'.format(self.color, self.manuf))\n",
        "        else:\n",
        "            print('The {} {} sputters out of gas'.format(self.color, self.manuf))\n",
        "\n",
        "class Car(Vehicle): # Inherits from Vehicle class\n",
        "\n",
        "    # turn the radio on\n",
        "    def radio(self):\n",
        "        print('Rockin Tunes!')\n",
        "\n",
        "    # open the window\n",
        "    def window(self):\n",
        "        print('Ahhh... fresh air!')\n",
        "\n",
        "class Motorcycle(Vehicle): # Inherits from Vehicle class\n",
        "\n",
        "    # put on motocycle helmet\n",
        "    def helmet(self):\n",
        "        print('Nice and safe')"
      ],
      "execution_count": null,
      "outputs": []
    },
    {
      "cell_type": "code",
      "metadata": {
        "colab": {
          "base_uri": "https://localhost:8080/"
        },
        "id": "lWLxb1aOQkK_",
        "outputId": "042bd5a9-b409-490e-9091-af9cbfcf4abc"
      },
      "source": [
        "my_car = Car('red','Mercedes')\n",
        "my_mc = Motorcycle('silver','Harley')\n",
        "\n",
        "my_mc.drive()\n",
        "my_mc.drive()\n",
        "my_mc.drive()\n",
        "my_mc.drive()\n",
        "my_mc.drive()"
      ],
      "execution_count": null,
      "outputs": [
        {
          "output_type": "stream",
          "text": [
            "The silver Harley goes VROOOM!\n",
            "The silver Harley goes VROOOM!\n",
            "The silver Harley goes VROOOM!\n",
            "The silver Harley goes VROOOM!\n",
            "The silver Harley sputters out of gas\n"
          ],
          "name": "stdout"
        }
      ]
    },
    {
      "cell_type": "code",
      "metadata": {
        "colab": {
          "base_uri": "https://localhost:8080/"
        },
        "id": "ppW7YSFHSkiu",
        "outputId": "3fc8fb89-0375-470d-a6bd-e19a8a4f1dfc"
      },
      "source": [
        "my_car.drive()\n",
        "my_car.radio()\n",
        "my_car.window()"
      ],
      "execution_count": null,
      "outputs": [
        {
          "output_type": "stream",
          "text": [
            "The red Mercedes goes VROOOM!\n",
            "Rockin Tunes!\n",
            "Ahhh... fresh air!\n"
          ],
          "name": "stdout"
        }
      ]
    },
    {
      "cell_type": "code",
      "metadata": {
        "colab": {
          "base_uri": "https://localhost:8080/"
        },
        "id": "IAdsj_VxS8VD",
        "outputId": "7d86a14d-a49c-4fc4-e073-4c7bd0421e55"
      },
      "source": [
        "my_mc.helmet()"
      ],
      "execution_count": null,
      "outputs": [
        {
          "output_type": "stream",
          "text": [
            "Nice and safe\n"
          ],
          "name": "stdout"
        }
      ]
    },
    {
      "cell_type": "code",
      "metadata": {
        "colab": {
          "base_uri": "https://localhost:8080/",
          "height": 163
        },
        "id": "MhNb0ve2TIxs",
        "outputId": "2f541fb5-a120-4781-f3f0-24b94c3e16e9"
      },
      "source": [
        "my_mc.window()"
      ],
      "execution_count": null,
      "outputs": [
        {
          "output_type": "error",
          "ename": "AttributeError",
          "evalue": "ignored",
          "traceback": [
            "\u001b[0;31m---------------------------------------------------------------------------\u001b[0m",
            "\u001b[0;31mAttributeError\u001b[0m                            Traceback (most recent call last)",
            "\u001b[0;32m<ipython-input-64-b195d0d40447>\u001b[0m in \u001b[0;36m<module>\u001b[0;34m()\u001b[0m\n\u001b[0;32m----> 1\u001b[0;31m \u001b[0mmy_mc\u001b[0m\u001b[0;34m.\u001b[0m\u001b[0mwindow\u001b[0m\u001b[0;34m(\u001b[0m\u001b[0;34m)\u001b[0m\u001b[0;34m\u001b[0m\u001b[0;34m\u001b[0m\u001b[0m\n\u001b[0m",
            "\u001b[0;31mAttributeError\u001b[0m: 'Motorcycle' object has no attribute 'window'"
          ]
        }
      ]
    },
    {
      "cell_type": "code",
      "metadata": {
        "id": "324WHLq6TJ5_"
      },
      "source": [
        "'''\n",
        "from\n",
        "\n",
        "Parent Class: Vehicle\n",
        "       Methods: __init__, string, drive\n",
        "Subclass: Car\n",
        "       Methods: window, radio\n",
        "Subclass: eCar\n",
        "       Methods: \n",
        "\n",
        "to\n",
        "Parent Class: Vehicle\n",
        "       Methods: __init__, string\n",
        "Subclass: Car\n",
        "       Methods: window, radio\n",
        "Subclass: eCar\n",
        "       Methods: drive\n",
        "'''\n",
        "\n",
        "class ECar(Car):\n",
        "\n",
        "    def drive(self):\n",
        "        print('The {} {} goes Shhhhhh!'.format(self.color, self.manuf))"
      ],
      "execution_count": null,
      "outputs": []
    },
    {
      "cell_type": "code",
      "metadata": {
        "colab": {
          "base_uri": "https://localhost:8080/"
        },
        "id": "zTUBFAk-UZyN",
        "outputId": "a26b12f6-7b3e-4731-d7f7-8da68f2e6912"
      },
      "source": [
        "my_ecar = ECar('white','Nissan')\n",
        "my_ecar.window()\n",
        "my_ecar.radio()\n",
        "my_ecar.drive()\n",
        "my_ecar.gas"
      ],
      "execution_count": null,
      "outputs": [
        {
          "output_type": "stream",
          "text": [
            "Ahhh... fresh air!\n",
            "Rockin Tunes!\n",
            "The white Nissan goes Shhhhhh!\n"
          ],
          "name": "stdout"
        },
        {
          "output_type": "execute_result",
          "data": {
            "text/plain": [
              "4"
            ]
          },
          "metadata": {
            "tags": []
          },
          "execution_count": 68
        }
      ]
    },
    {
      "cell_type": "code",
      "metadata": {
        "id": "lXlGVKV4VH1h"
      },
      "source": [
        "'''\n",
        "Inherited Attributes and Methods\n",
        "* keep large programs simple\n",
        "* easy-to-maintain code\n",
        "'''"
      ],
      "execution_count": null,
      "outputs": []
    },
    {
      "cell_type": "markdown",
      "metadata": {
        "id": "i2w6Bb9ZVKib"
      },
      "source": [
        "# 5.Lists and Tuples"
      ]
    },
    {
      "cell_type": "code",
      "metadata": {
        "colab": {
          "base_uri": "https://localhost:8080/"
        },
        "id": "_Chz2XxOXbz_",
        "outputId": "10d65ae8-04a9-43f0-e096-258db79fb2c6"
      },
      "source": [
        "row = ['Ford','Audi','BMW','Lexus']\n",
        "print(row)\n",
        "print()\n",
        "row.append('Mercedes')\n",
        "row"
      ],
      "execution_count": null,
      "outputs": [
        {
          "output_type": "stream",
          "text": [
            "['Ford', 'Audi', 'BMW', 'Lexus']\n",
            "\n"
          ],
          "name": "stdout"
        },
        {
          "output_type": "execute_result",
          "data": {
            "text/plain": [
              "['Ford', 'Audi', 'BMW', 'Lexus', 'Mercedes']"
            ]
          },
          "metadata": {
            "tags": []
          },
          "execution_count": 75
        }
      ]
    },
    {
      "cell_type": "code",
      "metadata": {
        "colab": {
          "base_uri": "https://localhost:8080/"
        },
        "id": "LZ--5eO7XoG5",
        "outputId": "1d594a82-57c5-4b65-d5ad-5e82146c4c86"
      },
      "source": [
        "print(row[4])\n",
        "row[2] = 'Jeep'\n",
        "row"
      ],
      "execution_count": null,
      "outputs": [
        {
          "output_type": "stream",
          "text": [
            "Mercedes\n"
          ],
          "name": "stdout"
        },
        {
          "output_type": "execute_result",
          "data": {
            "text/plain": [
              "['Ford', 'Audi', 'Jeep', 'Lexus', 'Mercedes']"
            ]
          },
          "metadata": {
            "tags": []
          },
          "execution_count": 76
        }
      ]
    },
    {
      "cell_type": "code",
      "metadata": {
        "colab": {
          "base_uri": "https://localhost:8080/"
        },
        "id": "r9WAODVxb4iG",
        "outputId": "3b2fcf4a-9a21-4a0c-f0f6-dbaaa84eee9d"
      },
      "source": [
        "row.append('Honda')\n",
        "row"
      ],
      "execution_count": null,
      "outputs": [
        {
          "output_type": "execute_result",
          "data": {
            "text/plain": [
              "['Ford', 'Audi', 'Jeep', 'Lexus', 'Mercedes', 'Honda']"
            ]
          },
          "metadata": {
            "tags": []
          },
          "execution_count": 77
        }
      ]
    },
    {
      "cell_type": "code",
      "metadata": {
        "colab": {
          "base_uri": "https://localhost:8080/"
        },
        "id": "f1glj_87b-Ab",
        "outputId": "b39216b2-25c3-42d9-b955-573bbc96ca90"
      },
      "source": [
        "print(row[4])\n",
        "row.insert(0, 'Kia')\n",
        "row"
      ],
      "execution_count": null,
      "outputs": [
        {
          "output_type": "stream",
          "text": [
            "Mercedes\n"
          ],
          "name": "stdout"
        },
        {
          "output_type": "execute_result",
          "data": {
            "text/plain": [
              "['Kia', 'Ford', 'Audi', 'Jeep', 'Lexus', 'Mercedes', 'Honda']"
            ]
          },
          "metadata": {
            "tags": []
          },
          "execution_count": 79
        }
      ]
    },
    {
      "cell_type": "code",
      "metadata": {
        "colab": {
          "base_uri": "https://localhost:8080/"
        },
        "id": "dFXShVTHcLm7",
        "outputId": "e09c32cd-4b04-4c18-ec72-77e954080c71"
      },
      "source": [
        "print(row[4])\n",
        "row.index('Mercedes')"
      ],
      "execution_count": null,
      "outputs": [
        {
          "output_type": "stream",
          "text": [
            "Lexus\n"
          ],
          "name": "stdout"
        },
        {
          "output_type": "execute_result",
          "data": {
            "text/plain": [
              "5"
            ]
          },
          "metadata": {
            "tags": []
          },
          "execution_count": 81
        }
      ]
    },
    {
      "cell_type": "code",
      "metadata": {
        "colab": {
          "base_uri": "https://localhost:8080/"
        },
        "id": "-9gbkDj2cUgl",
        "outputId": "be6140cb-9516-4f16-8eb5-0a0f27e8a3dc"
      },
      "source": [
        "row.pop(5)\n",
        "row"
      ],
      "execution_count": null,
      "outputs": [
        {
          "output_type": "execute_result",
          "data": {
            "text/plain": [
              "['Kia', 'Ford', 'Audi', 'Jeep', 'Lexus', 'Honda']"
            ]
          },
          "metadata": {
            "tags": []
          },
          "execution_count": 82
        }
      ]
    },
    {
      "cell_type": "code",
      "metadata": {
        "id": "HEiTjyRSc9V0",
        "colab": {
          "base_uri": "https://localhost:8080/"
        },
        "outputId": "39433bb7-4ca0-43f2-8e5e-81719d618c93"
      },
      "source": [
        "row.remove('Lexus')\n",
        "row"
      ],
      "execution_count": null,
      "outputs": [
        {
          "output_type": "execute_result",
          "data": {
            "text/plain": [
              "['Kia', 'Ford', 'Audi', 'Jeep', 'Honda']"
            ]
          },
          "metadata": {
            "tags": []
          },
          "execution_count": 83
        }
      ]
    },
    {
      "cell_type": "markdown",
      "metadata": {
        "id": "lQ23pz1fVMka"
      },
      "source": [
        "# 7.Sets"
      ]
    },
    {
      "cell_type": "code",
      "metadata": {
        "id": "l17zajFlyuP0"
      },
      "source": [
        "''' Creating and Combining Sets of Friends '''\n",
        "\n",
        "college  = set(['bill','katy','verne','dillon',\n",
        "                'bruc','oliv','jimmy','richar'])\n",
        "\n",
        "\n",
        "coworker = set(['aaron','bill','brandon','david',\n",
        "                'frank','connie','kyle','oliv'])\n",
        "\n",
        "family   = set(['garry','landon','larry','mark',\n",
        "                'oliv','katy','rae','tom'])"
      ],
      "execution_count": null,
      "outputs": []
    },
    {
      "cell_type": "code",
      "metadata": {
        "colab": {
          "base_uri": "https://localhost:8080/"
        },
        "id": "7guOLcS_0Pua",
        "outputId": "c3657fb4-cd4e-47fd-b825-7f9134c1f533"
      },
      "source": [
        "print(college)\n",
        "print(coworker)\n",
        "family"
      ],
      "execution_count": null,
      "outputs": [
        {
          "output_type": "stream",
          "text": [
            "{'jimmy', 'oliv', 'richar', 'bruc', 'bill', 'katy', 'dillon', 'verne'}\n",
            "{'oliv', 'connie', 'brandon', 'frank', 'kyle', 'aaron', 'david', 'bill'}\n"
          ],
          "name": "stdout"
        },
        {
          "output_type": "execute_result",
          "data": {
            "text/plain": [
              "{'garry', 'katy', 'landon', 'larry', 'mark', 'oliv', 'rae', 'tom'}"
            ]
          },
          "metadata": {
            "tags": []
          },
          "execution_count": 87
        }
      ]
    },
    {
      "cell_type": "code",
      "metadata": {
        "colab": {
          "base_uri": "https://localhost:8080/"
        },
        "id": "Vh7Gv_M00hOG",
        "outputId": "7868d4b1-9202-45b2-b9f9-800533ae9948"
      },
      "source": [
        "len(college), len(coworker), len(family)"
      ],
      "execution_count": null,
      "outputs": [
        {
          "output_type": "execute_result",
          "data": {
            "text/plain": [
              "(8, 8, 8)"
            ]
          },
          "metadata": {
            "tags": []
          },
          "execution_count": 88
        }
      ]
    },
    {
      "cell_type": "code",
      "metadata": {
        "colab": {
          "base_uri": "https://localhost:8080/"
        },
        "id": "b3k0KKGB0pwv",
        "outputId": "b42d3c22-a958-45af-fe75-ebd0351c9185"
      },
      "source": [
        "friends = college.union(coworker, family)\n",
        "print(friends)\n",
        "len(friends)"
      ],
      "execution_count": null,
      "outputs": [
        {
          "output_type": "stream",
          "text": [
            "{'rae', 'garry', 'connie', 'larry', 'frank', 'landon', 'kyle', 'tom', 'david', 'katy', 'jimmy', 'oliv', 'richar', 'bruc', 'brandon', 'aaron', 'verne', 'mark', 'dillon', 'bill'}\n"
          ],
          "name": "stdout"
        },
        {
          "output_type": "execute_result",
          "data": {
            "text/plain": [
              "20"
            ]
          },
          "metadata": {
            "tags": []
          },
          "execution_count": 89
        }
      ]
    },
    {
      "cell_type": "code",
      "metadata": {
        "colab": {
          "base_uri": "https://localhost:8080/"
        },
        "id": "-nO1gy5k1ETL",
        "outputId": "de3c0fa8-ec2e-426f-9023-acbdc3b24418"
      },
      "source": [
        "intersec = college.intersection(coworker)\n",
        "intersec"
      ],
      "execution_count": null,
      "outputs": [
        {
          "output_type": "execute_result",
          "data": {
            "text/plain": [
              "{'bill', 'oliv'}"
            ]
          },
          "metadata": {
            "tags": []
          },
          "execution_count": 92
        }
      ]
    },
    {
      "cell_type": "code",
      "metadata": {
        "colab": {
          "base_uri": "https://localhost:8080/"
        },
        "id": "tyAYIskt3RX0",
        "outputId": "c16d122e-37a3-42ee-ba9b-45500393b1ae"
      },
      "source": [
        "print(dir(intersec))"
      ],
      "execution_count": null,
      "outputs": [
        {
          "output_type": "stream",
          "text": [
            "['__and__', '__class__', '__contains__', '__delattr__', '__dir__', '__doc__', '__eq__', '__format__', '__ge__', '__getattribute__', '__gt__', '__hash__', '__iand__', '__init__', '__init_subclass__', '__ior__', '__isub__', '__iter__', '__ixor__', '__le__', '__len__', '__lt__', '__ne__', '__new__', '__or__', '__rand__', '__reduce__', '__reduce_ex__', '__repr__', '__ror__', '__rsub__', '__rxor__', '__setattr__', '__sizeof__', '__str__', '__sub__', '__subclasshook__', '__xor__', 'add', 'clear', 'copy', 'difference', 'difference_update', 'discard', 'intersection', 'intersection_update', 'isdisjoint', 'issubset', 'issuperset', 'pop', 'remove', 'symmetric_difference', 'symmetric_difference_update', 'union', 'update']\n"
          ],
          "name": "stdout"
        }
      ]
    },
    {
      "cell_type": "code",
      "metadata": {
        "colab": {
          "base_uri": "https://localhost:8080/"
        },
        "id": "KxQ03pvF2QMb",
        "outputId": "6bf52e2b-7d7e-45f6-e379-e1f94e0971b5"
      },
      "source": [
        "sym = college.symmetric_difference(coworker)\n",
        "print(sym, end=' ')"
      ],
      "execution_count": null,
      "outputs": [
        {
          "output_type": "stream",
          "text": [
            "{'jimmy', 'richar', 'bruc', 'katy', 'connie', 'brandon', 'frank', 'kyle', 'aaron', 'david', 'dillon', 'verne'} "
          ],
          "name": "stdout"
        }
      ]
    },
    {
      "cell_type": "code",
      "metadata": {
        "colab": {
          "base_uri": "https://localhost:8080/"
        },
        "id": "nUvSTLPb3c5W",
        "outputId": "5238159d-a612-475a-aed5-88a281ba5d05"
      },
      "source": [
        "print(dir(sym))"
      ],
      "execution_count": null,
      "outputs": [
        {
          "output_type": "stream",
          "text": [
            "['__and__', '__class__', '__contains__', '__delattr__', '__dir__', '__doc__', '__eq__', '__format__', '__ge__', '__getattribute__', '__gt__', '__hash__', '__iand__', '__init__', '__init_subclass__', '__ior__', '__isub__', '__iter__', '__ixor__', '__le__', '__len__', '__lt__', '__ne__', '__new__', '__or__', '__rand__', '__reduce__', '__reduce_ex__', '__repr__', '__ror__', '__rsub__', '__rxor__', '__setattr__', '__sizeof__', '__str__', '__sub__', '__subclasshook__', '__xor__', 'add', 'clear', 'copy', 'difference', 'difference_update', 'discard', 'intersection', 'intersection_update', 'isdisjoint', 'issubset', 'issuperset', 'pop', 'remove', 'symmetric_difference', 'symmetric_difference_update', 'union', 'update']\n"
          ],
          "name": "stdout"
        }
      ]
    },
    {
      "cell_type": "code",
      "metadata": {
        "id": "Y2VwJLNF6ywV"
      },
      "source": [
        "# dictionary of name/number pairs\n",
        "\n",
        "rolodex = {'aaron': 7777777,\n",
        "           'bill' : 6666666,\n",
        "           'dad'  : 5555555,\n",
        "           'david': 4444444,\n",
        "           'olivi': 3333333,\n",
        "           'gemma': 2222222, \n",
        "           'mom'  : 5555555}"
      ],
      "execution_count": null,
      "outputs": []
    },
    {
      "cell_type": "code",
      "metadata": {
        "colab": {
          "base_uri": "https://localhost:8080/"
        },
        "id": "y5IAFjN37uS7",
        "outputId": "0a03e3c5-e6b9-44f7-c1ee-b0dace2968f6"
      },
      "source": [
        "rolodex.items()"
      ],
      "execution_count": null,
      "outputs": [
        {
          "output_type": "execute_result",
          "data": {
            "text/plain": [
              "dict_items([('aaron', 7777777), ('bill', 6666666), ('dad', 5555555), ('david', 4444444), ('olivi', 3333333), ('gemma', 2222222), ('mom', 5555555)])"
            ]
          },
          "metadata": {
            "tags": []
          },
          "execution_count": 104
        }
      ]
    },
    {
      "cell_type": "code",
      "metadata": {
        "colab": {
          "base_uri": "https://localhost:8080/"
        },
        "id": "z0dprWfy82-Q",
        "outputId": "3bf2ba9e-0448-4bd5-e2f6-2c2ed2bc1e6e"
      },
      "source": [
        "rolodex.values()"
      ],
      "execution_count": null,
      "outputs": [
        {
          "output_type": "execute_result",
          "data": {
            "text/plain": [
              "dict_values([7777777, 6666666, 5555555, 4444444, 3333333, 2222222, 5555555])"
            ]
          },
          "metadata": {
            "tags": []
          },
          "execution_count": 123
        }
      ]
    },
    {
      "cell_type": "code",
      "metadata": {
        "colab": {
          "base_uri": "https://localhost:8080/",
          "height": 35
        },
        "id": "4ossWpnc61P-",
        "outputId": "8b1768fd-2218-4f17-f22b-48d459bfc42d"
      },
      "source": [
        "def caller_id(lookup_number):\n",
        "    for name, num in rolodex.items():\n",
        "        if num == lookup_number:\n",
        "           return name\n",
        "\n",
        "caller_id(5555555)    "
      ],
      "execution_count": null,
      "outputs": [
        {
          "output_type": "execute_result",
          "data": {
            "application/vnd.google.colaboratory.intrinsic+json": {
              "type": "string"
            },
            "text/plain": [
              "'dad'"
            ]
          },
          "metadata": {
            "tags": []
          },
          "execution_count": 161
        }
      ]
    },
    {
      "cell_type": "code",
      "metadata": {
        "colab": {
          "base_uri": "https://localhost:8080/",
          "height": 35
        },
        "id": "IVH4Fjmh99SE",
        "outputId": "9beccb91-0cc5-47d7-b182-903bdb8f1560"
      },
      "source": [
        "def caller_id(lookup_number):\n",
        "    for name, num in rolodex.items():\n",
        "        if num == lookup_number:\n",
        "           return name\n",
        "\n",
        "caller_id(5555555)  "
      ],
      "execution_count": null,
      "outputs": [
        {
          "output_type": "execute_result",
          "data": {
            "application/vnd.google.colaboratory.intrinsic+json": {
              "type": "string"
            },
            "text/plain": [
              "'dad'"
            ]
          },
          "metadata": {
            "tags": []
          },
          "execution_count": 168
        }
      ]
    },
    {
      "cell_type": "markdown",
      "metadata": {
        "id": "MlzcyWyc-m77"
      },
      "source": [
        "# 9.Conditional Execution"
      ]
    },
    {
      "cell_type": "code",
      "metadata": {
        "colab": {
          "base_uri": "https://localhost:8080/"
        },
        "id": "HkNPDfAS-pBV",
        "outputId": "b9cdb89e-300d-4e9f-fe54-1f42b2f4f952"
      },
      "source": [
        "''' Ordering A Pizza That Verne Can Eat '''\n",
        "\n",
        "# things that Verne does not eat\n",
        "diet_restrictions = set(['meat','cheese'])\n",
        "\n",
        "# decide which pizza to order\n",
        "if 'meat' in diet_restrictions: \n",
        "    print('Get a cheese pizza')\n",
        "elif 'meat' and 'cheese' in diet_restrictions: \n",
        "    print('Get a vegan pizza')\n",
        "else:\n",
        "    print('Get something else')"
      ],
      "execution_count": null,
      "outputs": [
        {
          "output_type": "stream",
          "text": [
            "Get a cheese pizza\n"
          ],
          "name": "stdout"
        }
      ]
    },
    {
      "cell_type": "code",
      "metadata": {
        "colab": {
          "base_uri": "https://localhost:8080/"
        },
        "id": "0CNZycMuB8mF",
        "outputId": "5b089394-301a-47f4-acaf-b894294b2057"
      },
      "source": [
        "# The most restrictive options should go near the top\n",
        "\n",
        "diet_restrictions = set(['meat','cheese'])\n",
        "\n",
        "# decide which pizza to order\n",
        "if 'meat' and 'cheese' in diet_restrictions: \n",
        "    print('Get a vegan pizza')\n",
        "elif 'meat' in diet_restrictions: \n",
        "    print('Get a cheese pizza')\n",
        "else:\n",
        "    print('Get something else')"
      ],
      "execution_count": null,
      "outputs": [
        {
          "output_type": "stream",
          "text": [
            "Get a vegan pizza\n"
          ],
          "name": "stdout"
        }
      ]
    },
    {
      "cell_type": "code",
      "metadata": {
        "colab": {
          "base_uri": "https://localhost:8080/"
        },
        "id": "ktCYD5bOFPb3",
        "outputId": "c800280a-ad16-4f19-86c0-e0f1d78665ca"
      },
      "source": [
        "today = 'Saturday'\n",
        "\n",
        "if today is 'Sunday':\n",
        "   print('Order the spinach pizza')\n",
        "elif today is 'Monday':\n",
        "   print('Order the mushroom pizza')\n",
        "elif today is 'Tuesday':\n",
        "   print('Order the pepperoni pizza')\n",
        "elif today is 'Wednesday':\n",
        "   print('Order the veggie pizza')\n",
        "elif today is 'Thursday':\n",
        "   print('Order the bbq chicken pizza')\n",
        "elif today is 'Friday':\n",
        "   print('Order the sausage pizza')\n",
        "elif today is 'Saturday':\n",
        "   print('Order the hawaiian pizza')"
      ],
      "execution_count": null,
      "outputs": [
        {
          "output_type": "stream",
          "text": [
            "Order the hawaiian pizza\n"
          ],
          "name": "stdout"
        }
      ]
    },
    {
      "cell_type": "code",
      "metadata": {
        "id": "S7-eSMNQHlQp"
      },
      "source": [
        "# dictionary hashing can be quicker than a long if/elif chain\n",
        "\n",
        "specials = {'sunday'   : 'spinach',\n",
        "            'monday'   : 'mushroom',\n",
        "            'tuesday'  : 'pepperoni',\n",
        "            'wednesday': 'veggie',\n",
        "            'thursday' : 'bbq chicken',\n",
        "            'friday'   : 'sausage',\n",
        "            'saturday' : 'hawaiian'\n",
        "            }\n",
        "\n",
        "def order(day):\n",
        "    pizza = specials[day]\n",
        "    print('Order the {} pizza'.format(pizza))"
      ],
      "execution_count": null,
      "outputs": []
    },
    {
      "cell_type": "code",
      "metadata": {
        "colab": {
          "base_uri": "https://localhost:8080/"
        },
        "id": "cN4pLxNyHnpU",
        "outputId": "dde6d9c4-38c3-4139-b639-8d26451c93a6"
      },
      "source": [
        "order('saturday')"
      ],
      "execution_count": null,
      "outputs": [
        {
          "output_type": "stream",
          "text": [
            "Order the hawaiian pizza\n"
          ],
          "name": "stdout"
        }
      ]
    },
    {
      "cell_type": "code",
      "metadata": {
        "colab": {
          "base_uri": "https://localhost:8080/",
          "height": 265
        },
        "id": "5XYb0BTkJEcd",
        "outputId": "593d4854-23e2-430c-a371-ab2f7046b933"
      },
      "source": [
        "order('saturdays')"
      ],
      "execution_count": null,
      "outputs": [
        {
          "output_type": "error",
          "ename": "KeyError",
          "evalue": "ignored",
          "traceback": [
            "\u001b[0;31m---------------------------------------------------------------------------\u001b[0m",
            "\u001b[0;31mKeyError\u001b[0m                                  Traceback (most recent call last)",
            "\u001b[0;32m<ipython-input-205-e651bc11f75e>\u001b[0m in \u001b[0;36m<module>\u001b[0;34m()\u001b[0m\n\u001b[0;32m----> 1\u001b[0;31m \u001b[0morder\u001b[0m\u001b[0;34m(\u001b[0m\u001b[0;34m'saturdays'\u001b[0m\u001b[0;34m)\u001b[0m\u001b[0;34m\u001b[0m\u001b[0;34m\u001b[0m\u001b[0m\n\u001b[0m",
            "\u001b[0;32m<ipython-input-203-cf7791d4a083>\u001b[0m in \u001b[0;36morder\u001b[0;34m(day)\u001b[0m\n\u001b[1;32m      9\u001b[0m \u001b[0;34m\u001b[0m\u001b[0m\n\u001b[1;32m     10\u001b[0m \u001b[0;32mdef\u001b[0m \u001b[0morder\u001b[0m\u001b[0;34m(\u001b[0m\u001b[0mday\u001b[0m\u001b[0;34m)\u001b[0m\u001b[0;34m:\u001b[0m\u001b[0;34m\u001b[0m\u001b[0;34m\u001b[0m\u001b[0m\n\u001b[0;32m---> 11\u001b[0;31m     \u001b[0mpizza\u001b[0m \u001b[0;34m=\u001b[0m \u001b[0mspecials\u001b[0m\u001b[0;34m[\u001b[0m\u001b[0mday\u001b[0m\u001b[0;34m]\u001b[0m\u001b[0;34m\u001b[0m\u001b[0;34m\u001b[0m\u001b[0m\n\u001b[0m\u001b[1;32m     12\u001b[0m     \u001b[0mprint\u001b[0m\u001b[0;34m(\u001b[0m\u001b[0;34m'Order the {} pizza'\u001b[0m\u001b[0;34m.\u001b[0m\u001b[0mformat\u001b[0m\u001b[0;34m(\u001b[0m\u001b[0mpizza\u001b[0m\u001b[0;34m)\u001b[0m\u001b[0;34m)\u001b[0m\u001b[0;34m\u001b[0m\u001b[0;34m\u001b[0m\u001b[0m\n",
            "\u001b[0;31mKeyError\u001b[0m: 'saturdays'"
          ]
        }
      ]
    },
    {
      "cell_type": "code",
      "metadata": {
        "id": "zkbFRS_LJHGX"
      },
      "source": [
        "def order(day):\n",
        "    try:\n",
        "       pizza = specials[day]\n",
        "       print('Order the {} pizza'.format(pizza))\n",
        "    except:\n",
        "       print('incorrect day')   "
      ],
      "execution_count": null,
      "outputs": []
    },
    {
      "cell_type": "code",
      "metadata": {
        "colab": {
          "base_uri": "https://localhost:8080/"
        },
        "id": "q06E9zLUJQQb",
        "outputId": "036211eb-b2ae-4b01-d623-ec2188a4fca3"
      },
      "source": [
        "order('saturday')"
      ],
      "execution_count": null,
      "outputs": [
        {
          "output_type": "stream",
          "text": [
            "Order the hawaiian pizza\n"
          ],
          "name": "stdout"
        }
      ]
    },
    {
      "cell_type": "code",
      "metadata": {
        "colab": {
          "base_uri": "https://localhost:8080/"
        },
        "id": "CSfkU9jNJSyS",
        "outputId": "a42b69fc-4912-4181-8b1f-0aa0b9ab1e05"
      },
      "source": [
        "order('saturdays')"
      ],
      "execution_count": null,
      "outputs": [
        {
          "output_type": "stream",
          "text": [
            "incorrect day\n"
          ],
          "name": "stdout"
        }
      ]
    },
    {
      "cell_type": "code",
      "metadata": {
        "colab": {
          "base_uri": "https://localhost:8080/"
        },
        "id": "X_rf5gMfFSIJ",
        "outputId": "5b2f1960-5a4b-49a5-93cc-f41f5858e9ea"
      },
      "source": [
        "def order1(lookup_pizza):\n",
        "    for day, pizza in specials.items():\n",
        "        if day == lookup_pizza:\n",
        "           return pizza        \n",
        "    print('incorrect day')\n",
        " \n",
        "order1('saturdays')"
      ],
      "execution_count": null,
      "outputs": [
        {
          "output_type": "stream",
          "text": [
            "incorrect day\n"
          ],
          "name": "stdout"
        }
      ]
    },
    {
      "cell_type": "markdown",
      "metadata": {
        "id": "NGF6u5IaJ9sa"
      },
      "source": [
        "# 10.Loops"
      ]
    },
    {
      "cell_type": "markdown",
      "metadata": {
        "id": "IC7eIV1cLED3"
      },
      "source": [
        "- Loops are programming constructs which repeatedly perform an operation or series of operations over and over and over. There are two types of loops, for loops and while loops. One of the key differences between them is that with a for loop, you know exactly how many times that loop is going to perform its operation before it even runs. Some languages do this by creating a variable that will count up to a certain value and for loops can also be used to iterate through items in a list. That list will have a certain number of items which will be the number of times the for loop executes. With a while loop, you don't know how many times a loop is going to be executed. Instead, as the loop is running, it's constantly checking and checking for a condition to determine whether or not it should execute one more time. I'll use loops to help me perform a complex operation that I'm very familiar with, doing the dishes. My kitchen is a little bit of a mess and I want to clean it up before my friends come over. I'll start by loading the dirty dishes from the sink into the dishwasher with a for loop. I know exactly how many dishes I'm going to move from the sink to the dishwasher before I start this task, because there are exactly three dirty dishes in my sink. And I won't stop loading the dishwasher until I've completed that task for all three of those dishes. So, I'll pick up the bowl and put it in the dishwasher. That's one item. Then I'll pick up the plate and put that in the dishwasher. That's two. And finally, I'll pick up the cup. Put that in the dishwasher, three. Now, after loading those three dishes, I've reached the end of my list. And since a for loop operates on each element in the list, I'm done. I'll never load more than three dishes because that's how many dishes were in the sink. This is the example script called start_11_01_for_dishes from the exercise files which represents the process of loading the dishwasher. I've created a list called sink which has three dirty dishes in it, the bowl, the plate, and the cup. Then I use a for loop to iterate through those dishes. For loops can be used to iterate through the items in a list or some other type of iterable object using this syntax. For each iteration of the loop, the name dish will point to a different object in the list and then print a statement to simulate the act of putting that dish into the dishwasher. Just like with function definitions, Python uses indentation to identify the lines of code that exist within a loop. When I run this script, it starts by putting away the bowl, then the plate, and finally the cup. This for loop will iterate through all of the dishes in the sink. It will always do the exact same thing, put away those three dishes. I'll never put away more or less dishes than that. Now, using a print statement to say that I'm putting away a dish is not really the same as removing that dish object from the sink. In fact, if I display the contents of the sink list, you'll see that after running that script, the sink is still full of dishes. The program didn't actually remove anything. So, let's modify the script so that when a dish goes into the dishwasher, it also removes that object from the sink list. I can do that by using the remove method on the sink list and passing it the dish to be removed. When I save and run the script, the print statements only put the bowl and the cup into the dishwasher. And if I check the sink, sure enough, the plate is still there. "
      ]
    },
    {
      "cell_type": "code",
      "metadata": {
        "colab": {
          "base_uri": "https://localhost:8080/"
        },
        "id": "82GOWiDuJ_gc",
        "outputId": "1186a7dd-083f-4afd-92e0-de33636c9bba"
      },
      "source": [
        "''' Loading the dishwasher '''\n",
        "\n",
        "# dirty dishes in the sink\n",
        "sink = ['bowl','plate','cup']\n",
        "\n",
        "for dish in sink:\n",
        "    print('Putting {} in the dishwasher'.format(dish))"
      ],
      "execution_count": null,
      "outputs": [
        {
          "output_type": "stream",
          "text": [
            "Putting bowl in the dishwasher\n",
            "Putting plate in the dishwasher\n",
            "Putting cup in the dishwasher\n"
          ],
          "name": "stdout"
        }
      ]
    },
    {
      "cell_type": "code",
      "metadata": {
        "colab": {
          "base_uri": "https://localhost:8080/"
        },
        "id": "UU_8v3Y9LH_d",
        "outputId": "414003e4-4787-46c3-8c42-838dd2d0d0d0"
      },
      "source": [
        "for dish in sink:\n",
        "    print('Putting {} in the dishwasher'.format(dish))\n",
        "    sink.remove(dish)"
      ],
      "execution_count": null,
      "outputs": [
        {
          "output_type": "stream",
          "text": [
            "Putting bowl in the dishwasher\n",
            "Putting cup in the dishwasher\n"
          ],
          "name": "stdout"
        }
      ]
    },
    {
      "cell_type": "code",
      "metadata": {
        "colab": {
          "base_uri": "https://localhost:8080/"
        },
        "id": "u9VMy724LXtL",
        "outputId": "d232ba90-bdc1-468f-a03c-9739375eb462"
      },
      "source": [
        "sink"
      ],
      "execution_count": null,
      "outputs": [
        {
          "output_type": "execute_result",
          "data": {
            "text/plain": [
              "['plate']"
            ]
          },
          "metadata": {
            "tags": []
          },
          "execution_count": 211
        }
      ]
    },
    {
      "cell_type": "markdown",
      "metadata": {
        "id": "yOCUpdKuLhEO"
      },
      "source": [
        "So what's going on? Well, what I've accidentally done here is make changes to the list that I'm iterating through by removing objects from it inside of the for loop. The first iteration through the loop grabs the first dish in the list which is the bowl and then removes it from the list. Now, the problem occurs in the next iteration of the for loop because it retrieves the second object in the sink list. But the second object in the list is no longer the plate. Now it's the cup. When the bowl was removed from the list in the first loop iteration, that caused everything to shift up in the list so now the plate is in the first postion and the cup is second. This is why you should be careful when adding or removing items from a list inside of a for loop that's iterating over the same list. It causes all sorts of confusion. So how can we get around this problem? Well, I need to remove items from the sink list inside of the for loop. So, rather than having the for loop iterate through that sink, I'll make a separate copy of the sink that the for loop can use to iterate. I can do that by calling the list function on sink in the for statement. This will create a copy of the sink list that the for loop will use to iterate through leaving the original sink free to modify as I need to. Now I'll save and run the script. It shows that all three dishes were put into the dishwasher. That's a good sign. And if I check the contents of the sink, it's an empty list which is what I want. The moral of the story is to avoid changing the contents of a list inside of a for loop that's iterating through that list. Create a second copy for the loop to use and you can do whatever you want to the original list."
      ]
    },
    {
      "cell_type": "code",
      "metadata": {
        "id": "FsV4L2A4MWtN"
      },
      "source": [
        "'''\n",
        "sink = bowl, plate, cup\n",
        "\n",
        "First iteration\n",
        "sink = bowl, plate, cup\n",
        "\n",
        "Second iteration\n",
        "sink = plate, cup\n",
        "\n",
        "'''"
      ],
      "execution_count": null,
      "outputs": []
    },
    {
      "cell_type": "code",
      "metadata": {
        "id": "iRbdNwRlMZU5"
      },
      "source": [
        "# Problems often occur when adding or removing items from a list with a for loop"
      ],
      "execution_count": null,
      "outputs": []
    },
    {
      "cell_type": "code",
      "metadata": {
        "colab": {
          "base_uri": "https://localhost:8080/"
        },
        "id": "32Axh647LqT1",
        "outputId": "77cf8e4d-2172-4d3e-a932-91a4a7598520"
      },
      "source": [
        "''' Loading the dishwasher '''\n",
        "\n",
        "# dirty dishes in the sink\n",
        "sink = ['bowl','plate','cup']\n",
        "\n",
        "for dish in list(sink):\n",
        "    print('Putting {} in the dishwasher'.format(dish))\n",
        "    sink.remove(dish)"
      ],
      "execution_count": null,
      "outputs": [
        {
          "output_type": "stream",
          "text": [
            "Putting bowl in the dishwasher\n",
            "Putting plate in the dishwasher\n",
            "Putting cup in the dishwasher\n"
          ],
          "name": "stdout"
        }
      ]
    },
    {
      "cell_type": "code",
      "metadata": {
        "id": "E7ltW61PMcnB",
        "colab": {
          "base_uri": "https://localhost:8080/"
        },
        "outputId": "defc8edd-4d9d-4e8c-b7db-09b47b83e0ab"
      },
      "source": [
        "sink"
      ],
      "execution_count": null,
      "outputs": [
        {
          "output_type": "execute_result",
          "data": {
            "text/plain": [
              "[]"
            ]
          },
          "metadata": {
            "tags": []
          },
          "execution_count": 213
        }
      ]
    },
    {
      "cell_type": "markdown",
      "metadata": {
        "id": "7Gx97VjCD0bt"
      },
      "source": [
        "**While loops**\n",
        "\n",
        "The dishwasher just finished running so I'm ready to put away the dishes into the cabinet. Uh-oh. Most of the dishes in there look clean, but this pan had some burnt food stuck to it that the dishwasher couldn't get off. I guess I'll have to clean it the old fashioned way. The process of scrubbing this pan belongs in a while loop because I don't know how many times I'm going to have to scrub it to get it clean. Rather than specifying how many times I'm going to scrub it before I begin, like you would with a for loop, I'll just start scrubbing this pan and I'll continue scrubbing until a specific condition is met. If the pan's clean and then I can finally stop. Each round of the scrubbing is a two step process. First, I scrub the pan with a sponge. Then I give it a quick rinse so I can see whether or not it's clean. Now I check it. Nope, still dirty. So repeat that process again and I'll continue this process on and on and on until the pan is finally clean. Now I'm only checking the condition of the pan at the end of the two step cleaning process. I'm not checking if the pan is clean during the middle of the operation when it's covered in soap. So if I give this pan a good scrub, and that's what finally get it clean, I would still have to complete the second half of that operation which is to rinse the pan off so I can check and see that it was finally clean and stop scrubbing. This script from the exercise files called start_10_02_while dirty simulates the process of scrubbing that stubborn pan. I've created a boolean variable called dirty which represents whether or not the pan is still dirty and I've also created a variable called scrub_count to keep track of the number of times I have to scrub the pan to finally get it clean. This while loop is configured to continue looping as long as the pan is still dirty by checking that the dirty variable is true. Each time through the loop I'll increment the scrub_count and then print a message which displays the number of times I've scrubbed it. After that, I'll rinse the pan and check whether or not it's finally clean. To determine whether or not it's clean, I've decided to use the randint function from the random module to get a random number between zero and nine. If that number is zero, then this expression will evaluate to true so I'll print out that the pan is clean and change the dirty variable to false. Otherwise, the pan will stay dirty. I'll run the script. And this time through, I had to scrub the pan six times to get it clean. This number was determined randomly inside the loop by that randint function. If I run the exact same script again, the loop might execute for a different number of cycles. This time I had to scrub the pan 14 times to get it clean. Every time I run this script, it'll take a new, random number of scrubs to clean the pan. The fact that we don't know how many times I need to scrub the pan before I actually run the script is why we need to use a while loop for this program rather than a for loop. If I had really bad luck, I could be stuck scrubbing this pan forever. I want to point out that this while loop only checks whether or not the dirty variable is still true at the end of each loop iteration. That means if the value of dirty changes in the middle of the loop code then the rest of the loop code will still execute to complete that iteration. To demonstrate that, I'll copy and paste the section of code that randomly changes whether or not the pan is clean from the end of the loop body to between the print statements. Then if I run the script again, the state of the dirty variable is changed to clean immediately after I scrub the pan for the ninth time. But I still execute the rinse and check process because the while loop has to finish everything inside of it before it can check to see that the dirty variable has changed to false."
      ]
    },
    {
      "cell_type": "code",
      "metadata": {
        "colab": {
          "base_uri": "https://localhost:8080/"
        },
        "id": "1NlFiJOvDSH7",
        "outputId": "0e6ba2e5-98c9-414d-da81-a6b382473c59"
      },
      "source": [
        "''' Scrubbing A Stuborn Pan '''\n",
        "\n",
        "import random\n",
        "\n",
        "dirty = True    # state of the pan\n",
        "scrub_count = 0 # number of scrubs\n",
        "\n",
        "while(dirty):\n",
        "    scrub_count += 1\n",
        "    print('Scrub the pan: {}'.format(scrub_count))\n",
        "\n",
        "    print('Rinse & check if the pan is clean')\n",
        "\n",
        "    if not random.randint(0,9):\n",
        "       print('All clean')\n",
        "       dirty = False\n",
        "    else:\n",
        "       print('Still dirty...')"
      ],
      "execution_count": 3,
      "outputs": [
        {
          "output_type": "stream",
          "text": [
            "Scrub the pan: 1\n",
            "Rinse & check if the pan is clean\n",
            "Still dirty...\n",
            "Scrub the pan: 2\n",
            "Rinse & check if the pan is clean\n",
            "Still dirty...\n",
            "Scrub the pan: 3\n",
            "Rinse & check if the pan is clean\n",
            "Still dirty...\n",
            "Scrub the pan: 4\n",
            "Rinse & check if the pan is clean\n",
            "Still dirty...\n",
            "Scrub the pan: 5\n",
            "Rinse & check if the pan is clean\n",
            "Still dirty...\n",
            "Scrub the pan: 6\n",
            "Rinse & check if the pan is clean\n",
            "Still dirty...\n",
            "Scrub the pan: 7\n",
            "Rinse & check if the pan is clean\n",
            "Still dirty...\n",
            "Scrub the pan: 8\n",
            "Rinse & check if the pan is clean\n",
            "All clean\n"
          ],
          "name": "stdout"
        }
      ]
    },
    {
      "cell_type": "code",
      "metadata": {
        "colab": {
          "base_uri": "https://localhost:8080/"
        },
        "id": "7mU_qHDfDaxb",
        "outputId": "a0f7803c-548e-4eeb-c603-a857159cf5f9"
      },
      "source": [
        "''' Scrubbing A Stuborn Pan '''\n",
        "\n",
        "import random\n",
        "\n",
        "dirty = True    # state of the pan\n",
        "scrub_count = 0 # number of scrubs\n",
        "\n",
        "while(dirty):\n",
        "    scrub_count += 1\n",
        "    print('Scrub the pan: {}'.format(scrub_count))\n",
        "\n",
        "    if not random.randint(0,9):\n",
        "       print('All clean')\n",
        "       dirty = False\n",
        "    else:\n",
        "       print('Still dirty...')\n",
        "       \n",
        "    print('Rinse & check if the pan is clean')"
      ],
      "execution_count": 17,
      "outputs": [
        {
          "output_type": "stream",
          "text": [
            "Scrub the pan: 1\n",
            "Still dirty...\n",
            "Rinse & check if the pan is clean\n",
            "Scrub the pan: 2\n",
            "Still dirty...\n",
            "Rinse & check if the pan is clean\n",
            "Scrub the pan: 3\n",
            "Still dirty...\n",
            "Rinse & check if the pan is clean\n",
            "Scrub the pan: 4\n",
            "Still dirty...\n",
            "Rinse & check if the pan is clean\n",
            "Scrub the pan: 5\n",
            "All clean\n",
            "Rinse & check if the pan is clean\n"
          ],
          "name": "stdout"
        }
      ]
    },
    {
      "cell_type": "code",
      "metadata": {
        "colab": {
          "base_uri": "https://localhost:8080/"
        },
        "id": "5TinPH0oGSOr",
        "outputId": "e6b39b5a-5f39-4b82-cb20-55d669514610"
      },
      "source": [
        "''' Putting Away Clean Dishes '''\n",
        "\n",
        "import random\n",
        "\n",
        "# 20 clean dishes in dishwasher\n",
        "dishwasher = ['plate', 'bowl', 'cup', 'knife', 'fork',\n",
        "              'spoon', 'plate', 'spoon', 'bowl', 'cup',\n",
        "              'knife', 'cup', 'cup', 'fork', 'bowl',\n",
        "              'fork', 'plate', 'cup', 'spoon', 'knife']\n",
        "\n",
        "for dish in list(dishwasher):\n",
        "\n",
        "    #check space left in cabinet\n",
        "    if not random.randint(0,19):\n",
        "       print('Out of space!')\n",
        "       break\n",
        "    else:\n",
        "       print('Putting {} in the cabinet'.format(dish))\n",
        "       dishwasher.remove(dish)"
      ],
      "execution_count": 18,
      "outputs": [
        {
          "output_type": "stream",
          "text": [
            "Putting plate in the cabinet\n",
            "Putting bowl in the cabinet\n",
            "Putting cup in the cabinet\n",
            "Putting knife in the cabinet\n",
            "Putting fork in the cabinet\n",
            "Putting spoon in the cabinet\n",
            "Putting plate in the cabinet\n",
            "Putting spoon in the cabinet\n",
            "Out of space!\n"
          ],
          "name": "stdout"
        }
      ]
    },
    {
      "cell_type": "code",
      "metadata": {
        "id": "928PWLvuGV6o"
      },
      "source": [
        "'''\n",
        "For vs While\n",
        "\n",
        "for: runs 20 times, or until cabinet is full\n",
        "\n",
        "while: runs until cabinet is full\n",
        "'''"
      ],
      "execution_count": null,
      "outputs": []
    },
    {
      "cell_type": "markdown",
      "metadata": {
        "id": "_lmgT5SxByVD"
      },
      "source": [
        "#11.Error Handling"
      ]
    },
    {
      "cell_type": "code",
      "metadata": {
        "colab": {
          "base_uri": "https://localhost:8080/"
        },
        "id": "ggnA-Np_GaJG",
        "outputId": "7b17106e-e5f2-438f-eb35-a4cb1674089d"
      },
      "source": [
        "''' Trying to Download Things That Dont Exist '''\n",
        "\n",
        "import urllib.request\n",
        "\n",
        "webpage = urllib.request.urlopen('http://www.google.com')\n",
        "\n",
        "for line in webpage:\n",
        "    print(line)"
      ],
      "execution_count": 19,
      "outputs": [
        {
          "output_type": "stream",
          "text": [
            "b'<!doctype html><html itemscope=\"\" itemtype=\"http://schema.org/WebPage\" lang=\"en\"><head><meta content=\"Search the world\\'s information, including webpages, images, videos and more. Google has many special features to help you find exactly what you\\'re looking for.\" name=\"description\"><meta content=\"noodp\" name=\"robots\"><meta content=\"text/html; charset=UTF-8\" http-equiv=\"Content-Type\"><meta content=\"/images/branding/googleg/1x/googleg_standard_color_128dp.png\" itemprop=\"image\"><title>Google</title><script nonce=\"C+1nZIFQTrYfjVsc5qkFQQ==\">(function(){window.google={kEI:\\'MaTEYKSiMZaUtAbpxLmYAQ\\',kEXPI:\\'0,772215,1,530320,56873,954,5105,206,4804,2316,383,246,5,304,1050,4936,315,16231,10,1106274,1233,1196478,571,44,328941,51224,16114,28684,17572,4858,1362,9291,3021,4753,12834,4020,978,13228,3847,4192,6430,1142,13385,235,4282,2778,919,5081,1593,1279,2212,239,291,149,1103,840,1983,4314,109,3405,606,2023,2297,14670,2273,1,953,2845,7,5599,6755,5096,7877,3747,1181,108,1483,1924,908,2,941,2614,2397,7468,1,2844,432,3,1590,1,5444,149,5990,5333,2652,4,1253,275,2304,1236,5803,74,1717,266,2627,2014,4067,7434,3824,3050,2658,4243,518,2595,31,3854,7558,2216,1591,714,638,37,1457,5586,9765,770,665,5815,2542,4094,18,3120,6,908,3,3541,1,4174,1175,4596,4765,1,1813,283,913,5991,3472,3282,432,552,4788,2,1394,756,653,1,115,8,1,1272,1715,2,3057,2015,3246,894,627,4,32,4,1341,1462,2584,4,91,592,442,342,255,55,4,434,356,1097,1017,30,167,119,2014,115,1160,1076,421,2675,406,2095,537,1065,1173,1793,685,108,1807,63,94,3,364,676,1160,2292,775,1626,1,3,424,270,1308,504,102,693,142,279,478,1286,237,1,233,2975,958,664,2,254,2,324,2,305,204,3,37,982,1368,138,595,1973,54,323,16,511,184,752,321,1629,111,326,448,83,219,38,362,463,264,11,245,284,1644,89,2,85,173,1,8,79,217,190,628,634,514,5633055,101,93,32,63,134,21,2,44,15,5996289,521,45,2800651,882,444,1,2,80,1,1796,1,9,2,2551,1,748,141,795,563,1,4265,1,1,2,1331,3299,843,2609,155,17,13,72,139,4,2,20,2,169,13,19,46,5,39,96,284,4,4,4,4,4,4,8,4,4,4,24,196,29,2,2,1,2,1,2,2,7,4,1,2,2,2,2,2,2,353,468,45,3,58,35,4,10,1,4,28,3,24,1,23955192,4010273,268,1835,24965,1499,2,195,7,2175,3,120,3,6,338,3,2339,75\\',kBL:\\'BUvK\\'};google.sn=\\'webhp\\';google.kHL=\\'en\\';})();(function(){\\n'\n",
            "b'var f=this||self;var h,k=[];function l(a){for(var b;a&&(!a.getAttribute||!(b=a.getAttribute(\"eid\")));)a=a.parentNode;return b||h}function m(a){for(var b=null;a&&(!a.getAttribute||!(b=a.getAttribute(\"leid\")));)a=a.parentNode;return b}\\n'\n",
            "b'function n(a,b,c,d,g){var e=\"\";c||-1!==b.search(\"&ei=\")||(e=\"&ei=\"+l(d),-1===b.search(\"&lei=\")&&(d=m(d))&&(e+=\"&lei=\"+d));d=\"\";!c&&f._cshid&&-1===b.search(\"&cshid=\")&&\"slh\"!==a&&(d=\"&cshid=\"+f._cshid);c=c||\"/\"+(g||\"gen_204\")+\"?atyp=i&ct=\"+a+\"&cad=\"+b+e+\"&zx=\"+Date.now()+d;/^http:/i.test(c)&&\"https:\"===window.location.protocol&&(google.ml&&google.ml(Error(\"a\"),!1,{src:c,glmm:1}),c=\"\");return c};h=google.kEI;google.getEI=l;google.getLEI=m;google.ml=function(){return null};google.log=function(a,b,c,d,g){if(c=n(a,b,c,d,g)){a=new Image;var e=k.length;k[e]=a;a.onerror=a.onload=a.onabort=function(){delete k[e]};a.src=c}};google.logUrl=n;}).call(this);(function(){\\n'\n",
            "b'google.y={};google.sy=[];google.x=function(a,b){if(a)var c=a.id;else{do c=Math.random();while(google.y[c])}google.y[c]=[a,b];return!1};google.sx=function(a){google.sy.push(a)};google.lm=[];google.plm=function(a){google.lm.push.apply(google.lm,a)};google.lq=[];google.load=function(a,b,c){google.lq.push([[a],b,c])};google.loadAll=function(a,b){google.lq.push([a,b])};google.bx=!1;google.lx=function(){};}).call(this);google.f={};(function(){\\n'\n",
            "b'document.documentElement.addEventListener(\"submit\",function(b){var a;if(a=b.target){var c=a.getAttribute(\"data-submitfalse\");a=\"1\"==c||\"q\"==c&&!a.elements.q.value?!0:!1}else a=!1;a&&(b.preventDefault(),b.stopPropagation())},!0);document.documentElement.addEventListener(\"click\",function(b){var a;a:{for(a=b.target;a&&a!=document.documentElement;a=a.parentElement)if(\"A\"==a.tagName){a=\"1\"==a.getAttribute(\"data-nohref\");break a}a=!1}a&&b.preventDefault()},!0);}).call(this);</script><style>#gbar,#guser{font-size:13px;padding-top:1px !important;}#gbar{height:22px}#guser{padding-bottom:7px !important;text-align:right}.gbh,.gbd{border-top:1px solid #c9d7f1;font-size:1px}.gbh{height:0;position:absolute;top:24px;width:100%}@media all{.gb1{height:22px;margin-right:.5em;vertical-align:top}#gbar{float:left}}a.gb1,a.gb4{text-decoration:underline !important}a.gb1,a.gb4{color:#00c !important}.gbi .gb4{color:#dd8e27 !important}.gbf .gb4{color:#900 !important}\\n'\n",
            "b'</style><style>body,td,a,p,.h{font-family:arial,sans-serif}body{margin:0;overflow-y:scroll}#gog{padding:3px 8px 0}td{line-height:.8em}.gac_m td{line-height:17px}form{margin-bottom:20px}.h{color:#1558d6}em{font-weight:bold;font-style:normal}.lst{height:25px;width:496px}.gsfi,.lst{font:18px arial,sans-serif}.gsfs{font:17px arial,sans-serif}.ds{display:inline-box;display:inline-block;margin:3px 0 4px;margin-left:4px}input{font-family:inherit}body{background:#fff;color:#000}a{color:#4b11a8;text-decoration:none}a:hover,a:active{text-decoration:underline}.fl a{color:#1558d6}a:visited{color:#4b11a8}.sblc{padding-top:5px}.sblc a{display:block;margin:2px 0;margin-left:13px;font-size:11px}.lsbb{background:#f8f9fa;border:solid 1px;border-color:#dadce0 #70757a #70757a #dadce0;height:30px}.lsbb{display:block}#WqQANb a{display:inline-block;margin:0 12px}.lsb{background:url(/images/nav_logo229.png) 0 -261px repeat-x;border:none;color:#000;cursor:pointer;height:30px;margin:0;outline:0;font:15px arial,sans-serif;vertical-align:top}.lsb:active{background:#dadce0}.lst:focus{outline:none}</style><script nonce=\"C+1nZIFQTrYfjVsc5qkFQQ==\"></script></head><body bgcolor=\"#fff\"><script nonce=\"C+1nZIFQTrYfjVsc5qkFQQ==\">(function(){var src=\\'/images/nav_logo229.png\\';var iesg=false;document.body.onload = function(){window.n && window.n();if (document.images){new Image().src=src;}\\n'\n",
            "b'if (!iesg){document.f&&document.f.q.focus();document.gbqf&&document.gbqf.q.focus();}\\n'\n",
            "b'}\\n'\n",
            "b'})();</script><div id=\"mngb\"><div id=gbar><nobr><b class=gb1>Search</b> <a class=gb1 href=\"http://www.google.com/imghp?hl=en&tab=wi\">Images</a> <a class=gb1 href=\"http://maps.google.com/maps?hl=en&tab=wl\">Maps</a> <a class=gb1 href=\"https://play.google.com/?hl=en&tab=w8\">Play</a> <a class=gb1 href=\"http://www.youtube.com/?gl=US&tab=w1\">YouTube</a> <a class=gb1 href=\"https://news.google.com/?tab=wn\">News</a> <a class=gb1 href=\"https://mail.google.com/mail/?tab=wm\">Gmail</a> <a class=gb1 href=\"https://drive.google.com/?tab=wo\">Drive</a> <a class=gb1 style=\"text-decoration:none\" href=\"https://www.google.com/intl/en/about/products?tab=wh\"><u>More</u> &raquo;</a></nobr></div><div id=guser width=100%><nobr><span id=gbn class=gbi></span><span id=gbf class=gbf></span><span id=gbe></span><a href=\"http://www.google.com/history/optout?hl=en\" class=gb4>Web History</a> | <a  href=\"/preferences?hl=en\" class=gb4>Settings</a> | <a target=_top id=gb_70 href=\"https://accounts.google.com/ServiceLogin?hl=en&passive=true&continue=http://www.google.com/&ec=GAZAAQ\" class=gb4>Sign in</a></nobr></div><div class=gbh style=left:0></div><div class=gbh style=right:0></div></div><center><br clear=\"all\" id=\"lgpd\"><div id=\"lga\"><img alt=\"Google\" height=\"92\" src=\"/images/branding/googlelogo/1x/googlelogo_white_background_color_272x92dp.png\" style=\"padding:28px 0 14px\" width=\"272\" id=\"hplogo\"><br><br></div><form action=\"/search\" name=\"f\"><table cellpadding=\"0\" cellspacing=\"0\"><tr valign=\"top\"><td width=\"25%\">&nbsp;</td><td align=\"center\" nowrap=\"\"><input name=\"ie\" value=\"ISO-8859-1\" type=\"hidden\"><input value=\"en\" name=\"hl\" type=\"hidden\"><input name=\"source\" type=\"hidden\" value=\"hp\"><input name=\"biw\" type=\"hidden\"><input name=\"bih\" type=\"hidden\"><div class=\"ds\" style=\"height:32px;margin:4px 0\"><input class=\"lst\" style=\"margin:0;padding:5px 8px 0 6px;vertical-align:top;color:#000\" autocomplete=\"off\" value=\"\" title=\"Google Search\" maxlength=\"2048\" name=\"q\" size=\"57\"></div><br style=\"line-height:0\"><span class=\"ds\"><span class=\"lsbb\"><input class=\"lsb\" value=\"Google Search\" name=\"btnG\" type=\"submit\"></span></span><span class=\"ds\"><span class=\"lsbb\"><input class=\"lsb\" id=\"tsuid1\" value=\"I\\'m Feeling Lucky\" name=\"btnI\" type=\"submit\"><script nonce=\"C+1nZIFQTrYfjVsc5qkFQQ==\">(function(){var id=\\'tsuid1\\';document.getElementById(id).onclick = function(){if (this.form.q.value){this.checked = 1;if (this.form.iflsig)this.form.iflsig.disabled = false;}\\n'\n",
            "b'else top.location=\\'/doodles/\\';};})();</script><input value=\"AINFCbYAAAAAYMSyQT1NJdoFbNEf-0gmiuyLNDsH6iXN\" name=\"iflsig\" type=\"hidden\"></span></span></td><td class=\"fl sblc\" align=\"left\" nowrap=\"\" width=\"25%\"><a href=\"/advanced_search?hl=en&amp;authuser=0\">Advanced search</a></td></tr></table><input id=\"gbv\" name=\"gbv\" type=\"hidden\" value=\"1\"><script nonce=\"C+1nZIFQTrYfjVsc5qkFQQ==\">(function(){\\n'\n",
            "b'var a,b=\"1\";if(document&&document.getElementById)if(\"undefined\"!=typeof XMLHttpRequest)b=\"2\";else if(\"undefined\"!=typeof ActiveXObject){var c,d,e=[\"MSXML2.XMLHTTP.6.0\",\"MSXML2.XMLHTTP.3.0\",\"MSXML2.XMLHTTP\",\"Microsoft.XMLHTTP\"];for(c=0;d=e[c++];)try{new ActiveXObject(d),b=\"2\"}catch(h){}}a=b;if(\"2\"==a&&-1==location.search.indexOf(\"&gbv=2\")){var f=google.gbvu,g=document.getElementById(\"gbv\");g&&(g.value=a);f&&window.setTimeout(function(){location.href=f},0)};}).call(this);</script></form><div id=\"gac_scont\"></div><div style=\"font-size:83%;min-height:3.5em\"><br></div><span id=\"footer\"><div style=\"font-size:10pt\"><div style=\"margin:19px auto;text-align:center\" id=\"WqQANb\"><a href=\"/intl/en/ads/\">Advertising\\xa0Programs</a><a href=\"/services/\">Business Solutions</a><a href=\"/intl/en/about.html\">About Google</a></div></div><p style=\"font-size:8pt;color:#70757a\">&copy; 2021 - <a href=\"/intl/en/policies/privacy/\">Privacy</a> - <a href=\"/intl/en/policies/terms/\">Terms</a></p></span></center><script nonce=\"C+1nZIFQTrYfjVsc5qkFQQ==\">(function(){window.google.cdo={height:0,width:0};(function(){\\n'\n",
            "b'var a=window.innerWidth,b=window.innerHeight;if(!a||!b){var c=window.document,d=\"CSS1Compat\"==c.compatMode?c.documentElement:c.body;a=d.clientWidth;b=d.clientHeight}a&&b&&(a!=google.cdo.width||b!=google.cdo.height)&&google.log(\"\",\"\",\"/client_204?&atyp=i&biw=\"+a+\"&bih=\"+b+\"&ei=\"+google.kEI);}).call(this);})();</script> <script nonce=\"C+1nZIFQTrYfjVsc5qkFQQ==\">(function(){google.xjs={ck:\\'\\',cs:\\'\\',excm:[],pml:false};})();</script>  <script nonce=\"C+1nZIFQTrYfjVsc5qkFQQ==\">(function(){var u=\\'/xjs/_/js/k\\\\x3dxjs.hp.en_US.vVX_yy3nFpc.O/m\\\\x3dsb_he,d/am\\\\x3dAHgCLA/d\\\\x3d1/ed\\\\x3d1/rs\\\\x3dACT90oHmb46LeyS9PJehslyMs99QMUJqRQ\\';\\n'\n",
            "b'var e=this||self,f=function(a){return a};var g;var l=function(a,b){this.g=b===h?a:\"\"};l.prototype.toString=function(){return this.g+\"\"};var h={};function m(){var a=u;google.lx=function(){n(a);google.lx=function(){}};google.bx||google.lx()}\\n'\n",
            "b'function n(a){google.timers&&google.timers.load&&google.tick&&google.tick(\"load\",\"xjsls\");var b=document;var c=\"SCRIPT\";\"application/xhtml+xml\"===b.contentType&&(c=c.toLowerCase());c=b.createElement(c);if(void 0===g){b=null;var k=e.trustedTypes;if(k&&k.createPolicy){try{b=k.createPolicy(\"goog#html\",{createHTML:f,createScript:f,createScriptURL:f})}catch(p){e.console&&e.console.error(p.message)}g=b}else g=b}a=(b=g)?b.createScriptURL(a):a;a=new l(a,h);c.src=a instanceof l&&a.constructor===l?a.g:\"type_error:TrustedResourceUrl\";var d;a=(c.ownerDocument&&c.ownerDocument.defaultView||window).document;(d=(a=null===(d=a.querySelector)||void 0===d?void 0:d.call(a,\"script[nonce]\"))?a.nonce||a.getAttribute(\"nonce\")||\"\":\"\")&&c.setAttribute(\"nonce\",d);document.body.appendChild(c);google.psa=!0};setTimeout(function(){m()},0);})();(function(){window.google.xjsu=\\'/xjs/_/js/k\\\\x3dxjs.hp.en_US.vVX_yy3nFpc.O/m\\\\x3dsb_he,d/am\\\\x3dAHgCLA/d\\\\x3d1/ed\\\\x3d1/rs\\\\x3dACT90oHmb46LeyS9PJehslyMs99QMUJqRQ\\';})();function _DumpException(e){throw e;}\\n'\n",
            "b'function _F_installCss(c){}\\n'\n",
            "b\"(function(){google.jl={attn:false,blt:'none',dw:false,emtn:0,ine:false,lls:'default',pdt:0,snet:true,ubm:false,uwp:true};})();(function(){var pmc='{\\\\x22d\\\\x22:{},\\\\x22sb_he\\\\x22:{\\\\x22agen\\\\x22:true,\\\\x22cgen\\\\x22:true,\\\\x22client\\\\x22:\\\\x22heirloom-hp\\\\x22,\\\\x22dh\\\\x22:true,\\\\x22dhqt\\\\x22:true,\\\\x22ds\\\\x22:\\\\x22\\\\x22,\\\\x22ffql\\\\x22:\\\\x22en\\\\x22,\\\\x22fl\\\\x22:true,\\\\x22host\\\\x22:\\\\x22google.com\\\\x22,\\\\x22isbh\\\\x22:28,\\\\x22jsonp\\\\x22:true,\\\\x22msgs\\\\x22:{\\\\x22cibl\\\\x22:\\\\x22Clear Search\\\\x22,\\\\x22dym\\\\x22:\\\\x22Did you mean:\\\\x22,\\\\x22lcky\\\\x22:\\\\x22I\\\\\\\\u0026#39;m Feeling Lucky\\\\x22,\\\\x22lml\\\\x22:\\\\x22Learn more\\\\x22,\\\\x22oskt\\\\x22:\\\\x22Input tools\\\\x22,\\\\x22psrc\\\\x22:\\\\x22This search was removed from your \\\\\\\\u003Ca href\\\\x3d\\\\\\\\\\\\x22/history\\\\\\\\\\\\x22\\\\\\\\u003EWeb History\\\\\\\\u003C/a\\\\\\\\u003E\\\\x22,\\\\x22psrl\\\\x22:\\\\x22Remove\\\\x22,\\\\x22sbit\\\\x22:\\\\x22Search by image\\\\x22,\\\\x22srch\\\\x22:\\\\x22Google Search\\\\x22},\\\\x22nrft\\\\x22:false,\\\\x22ovr\\\\x22:{},\\\\x22pq\\\\x22:\\\\x22\\\\x22,\\\\x22refpd\\\\x22:true,\\\\x22rfs\\\\x22:[],\\\\x22sbas\\\\x22:\\\\x220 3px 8px 0 rgba(0,0,0,0.2),0 0 0 1px rgba(0,0,0,0.08)\\\\x22,\\\\x22sbpl\\\\x22:16,\\\\x22sbpr\\\\x22:16,\\\\x22scd\\\\x22:10,\\\\x22stok\\\\x22:\\\\x22nZ7t-kx4qWdQGaIlzVcGlMxf824\\\\x22,\\\\x22uhde\\\\x22:false}}';google.pmc=JSON.parse(pmc);})();</script>        </body></html>\"\n"
          ],
          "name": "stdout"
        }
      ]
    },
    {
      "cell_type": "code",
      "metadata": {
        "colab": {
          "base_uri": "https://localhost:8080/"
        },
        "id": "G8KTkVgQIwxQ",
        "outputId": "3f54c766-f891-4848-9372-ab0a6d9d3a07"
      },
      "source": [
        "try:\n",
        "    webpage = urllib.request.urlopen('http://www.google.com')\n",
        "except:\n",
        "    print('Could not access webpage\"')\n",
        "\n",
        "for line in webpage:\n",
        "    print(line)"
      ],
      "execution_count": 27,
      "outputs": [
        {
          "output_type": "stream",
          "text": [
            "b'<!doctype html><html itemscope=\"\" itemtype=\"http://schema.org/WebPage\" lang=\"en\"><head><meta content=\"Search the world\\'s information, including webpages, images, videos and more. Google has many special features to help you find exactly what you\\'re looking for.\" name=\"description\"><meta content=\"noodp\" name=\"robots\"><meta content=\"text/html; charset=UTF-8\" http-equiv=\"Content-Type\"><meta content=\"/images/branding/googleg/1x/googleg_standard_color_128dp.png\" itemprop=\"image\"><title>Google</title><script nonce=\"v6XqccCCnERxVK9y5PbDWA==\">(function(){window.google={kEI:\\'K6XEYKTVNZbWtQax0oH4Aw\\',kEXPI:\\'0,772215,1,530320,56873,954,5104,207,2414,2390,2316,383,246,5,1354,4936,315,6385,9846,10,1106274,1233,1196524,134,391,44,328941,51223,16115,28684,17572,4858,1362,9291,3022,17586,4020,978,13228,8039,6434,1138,11582,1803,4518,2779,917,262,4819,1593,1279,2212,530,149,1103,840,1983,213,4101,109,3405,606,2023,1777,520,14670,3227,2845,7,5599,6755,5096,7877,4928,108,1483,1924,908,2,940,2615,2398,7469,1,2842,432,3,1590,1,5445,148,5990,5333,2652,4,1528,2304,1236,5803,74,1717,266,2627,2014,4067,7434,3824,3050,2658,4243,56,462,2596,30,3854,9774,2305,638,37,1457,5586,5425,1841,2499,770,665,2522,3302,2533,4094,20,3118,6,908,3,3541,1,5349,7015,2346,1,1813,283,38,351,1,2,2,518,5992,6754,432,552,4609,179,2,1394,756,769,8,1,1272,712,1003,2,3035,22,483,1532,3246,894,627,4,32,4,1341,902,2,2941,201,4,683,442,342,254,56,4,434,356,2114,30,168,2133,114,1160,1497,2675,406,1576,3,516,1588,1798,960,222,687,106,1377,587,3,1040,1160,1926,366,226,553,1622,1,3,2002,214,290,101,235,602,32,2250,1,231,2993,936,923,2,318,2,311,204,3,56,964,584,783,139,2621,16,307,16,692,755,321,1740,326,448,83,219,38,586,235,56,212,10,252,276,2,617,1101,2,101,123,49,1,8,28,1,8,41,409,610,17,468,961,5632774,194,32,63,155,2,59,5996810,45,2800651,882,444,1,2,80,1,1796,1,9,2,2551,1,748,141,795,563,1,4265,1,1,2,1331,3299,843,2609,155,17,13,72,139,4,2,20,2,169,13,19,46,5,39,96,284,4,4,4,4,4,4,8,4,4,4,24,196,29,2,2,1,2,1,2,2,7,4,1,2,2,2,2,2,2,353,468,45,3,58,35,4,10,1,4,28,27,1,23955191,4010274,268,1835,24965,1499,2,195,7,2175,3,120,3,6,338,3,2340,74\\',kBL:\\'BUvK\\'};google.sn=\\'webhp\\';google.kHL=\\'en\\';})();(function(){\\n'\n",
            "b'var f=this||self;var h,k=[];function l(a){for(var b;a&&(!a.getAttribute||!(b=a.getAttribute(\"eid\")));)a=a.parentNode;return b||h}function m(a){for(var b=null;a&&(!a.getAttribute||!(b=a.getAttribute(\"leid\")));)a=a.parentNode;return b}\\n'\n",
            "b'function n(a,b,c,d,g){var e=\"\";c||-1!==b.search(\"&ei=\")||(e=\"&ei=\"+l(d),-1===b.search(\"&lei=\")&&(d=m(d))&&(e+=\"&lei=\"+d));d=\"\";!c&&f._cshid&&-1===b.search(\"&cshid=\")&&\"slh\"!==a&&(d=\"&cshid=\"+f._cshid);c=c||\"/\"+(g||\"gen_204\")+\"?atyp=i&ct=\"+a+\"&cad=\"+b+e+\"&zx=\"+Date.now()+d;/^http:/i.test(c)&&\"https:\"===window.location.protocol&&(google.ml&&google.ml(Error(\"a\"),!1,{src:c,glmm:1}),c=\"\");return c};h=google.kEI;google.getEI=l;google.getLEI=m;google.ml=function(){return null};google.log=function(a,b,c,d,g){if(c=n(a,b,c,d,g)){a=new Image;var e=k.length;k[e]=a;a.onerror=a.onload=a.onabort=function(){delete k[e]};a.src=c}};google.logUrl=n;}).call(this);(function(){\\n'\n",
            "b'google.y={};google.sy=[];google.x=function(a,b){if(a)var c=a.id;else{do c=Math.random();while(google.y[c])}google.y[c]=[a,b];return!1};google.sx=function(a){google.sy.push(a)};google.lm=[];google.plm=function(a){google.lm.push.apply(google.lm,a)};google.lq=[];google.load=function(a,b,c){google.lq.push([[a],b,c])};google.loadAll=function(a,b){google.lq.push([a,b])};google.bx=!1;google.lx=function(){};}).call(this);google.f={};(function(){\\n'\n",
            "b'document.documentElement.addEventListener(\"submit\",function(b){var a;if(a=b.target){var c=a.getAttribute(\"data-submitfalse\");a=\"1\"==c||\"q\"==c&&!a.elements.q.value?!0:!1}else a=!1;a&&(b.preventDefault(),b.stopPropagation())},!0);document.documentElement.addEventListener(\"click\",function(b){var a;a:{for(a=b.target;a&&a!=document.documentElement;a=a.parentElement)if(\"A\"==a.tagName){a=\"1\"==a.getAttribute(\"data-nohref\");break a}a=!1}a&&b.preventDefault()},!0);}).call(this);</script><style>#gbar,#guser{font-size:13px;padding-top:1px !important;}#gbar{height:22px}#guser{padding-bottom:7px !important;text-align:right}.gbh,.gbd{border-top:1px solid #c9d7f1;font-size:1px}.gbh{height:0;position:absolute;top:24px;width:100%}@media all{.gb1{height:22px;margin-right:.5em;vertical-align:top}#gbar{float:left}}a.gb1,a.gb4{text-decoration:underline !important}a.gb1,a.gb4{color:#00c !important}.gbi .gb4{color:#dd8e27 !important}.gbf .gb4{color:#900 !important}\\n'\n",
            "b'</style><style>body,td,a,p,.h{font-family:arial,sans-serif}body{margin:0;overflow-y:scroll}#gog{padding:3px 8px 0}td{line-height:.8em}.gac_m td{line-height:17px}form{margin-bottom:20px}.h{color:#1558d6}em{font-weight:bold;font-style:normal}.lst{height:25px;width:496px}.gsfi,.lst{font:18px arial,sans-serif}.gsfs{font:17px arial,sans-serif}.ds{display:inline-box;display:inline-block;margin:3px 0 4px;margin-left:4px}input{font-family:inherit}body{background:#fff;color:#000}a{color:#4b11a8;text-decoration:none}a:hover,a:active{text-decoration:underline}.fl a{color:#1558d6}a:visited{color:#4b11a8}.sblc{padding-top:5px}.sblc a{display:block;margin:2px 0;margin-left:13px;font-size:11px}.lsbb{background:#f8f9fa;border:solid 1px;border-color:#dadce0 #70757a #70757a #dadce0;height:30px}.lsbb{display:block}#WqQANb a{display:inline-block;margin:0 12px}.lsb{background:url(/images/nav_logo229.png) 0 -261px repeat-x;border:none;color:#000;cursor:pointer;height:30px;margin:0;outline:0;font:15px arial,sans-serif;vertical-align:top}.lsb:active{background:#dadce0}.lst:focus{outline:none}</style><script nonce=\"v6XqccCCnERxVK9y5PbDWA==\"></script></head><body bgcolor=\"#fff\"><script nonce=\"v6XqccCCnERxVK9y5PbDWA==\">(function(){var src=\\'/images/nav_logo229.png\\';var iesg=false;document.body.onload = function(){window.n && window.n();if (document.images){new Image().src=src;}\\n'\n",
            "b'if (!iesg){document.f&&document.f.q.focus();document.gbqf&&document.gbqf.q.focus();}\\n'\n",
            "b'}\\n'\n",
            "b'})();</script><div id=\"mngb\"><div id=gbar><nobr><b class=gb1>Search</b> <a class=gb1 href=\"http://www.google.com/imghp?hl=en&tab=wi\">Images</a> <a class=gb1 href=\"http://maps.google.com/maps?hl=en&tab=wl\">Maps</a> <a class=gb1 href=\"https://play.google.com/?hl=en&tab=w8\">Play</a> <a class=gb1 href=\"http://www.youtube.com/?gl=US&tab=w1\">YouTube</a> <a class=gb1 href=\"https://news.google.com/?tab=wn\">News</a> <a class=gb1 href=\"https://mail.google.com/mail/?tab=wm\">Gmail</a> <a class=gb1 href=\"https://drive.google.com/?tab=wo\">Drive</a> <a class=gb1 style=\"text-decoration:none\" href=\"https://www.google.com/intl/en/about/products?tab=wh\"><u>More</u> &raquo;</a></nobr></div><div id=guser width=100%><nobr><span id=gbn class=gbi></span><span id=gbf class=gbf></span><span id=gbe></span><a href=\"http://www.google.com/history/optout?hl=en\" class=gb4>Web History</a> | <a  href=\"/preferences?hl=en\" class=gb4>Settings</a> | <a target=_top id=gb_70 href=\"https://accounts.google.com/ServiceLogin?hl=en&passive=true&continue=http://www.google.com/&ec=GAZAAQ\" class=gb4>Sign in</a></nobr></div><div class=gbh style=left:0></div><div class=gbh style=right:0></div></div><center><br clear=\"all\" id=\"lgpd\"><div id=\"lga\"><img alt=\"Google\" height=\"92\" src=\"/images/branding/googlelogo/1x/googlelogo_white_background_color_272x92dp.png\" style=\"padding:28px 0 14px\" width=\"272\" id=\"hplogo\"><br><br></div><form action=\"/search\" name=\"f\"><table cellpadding=\"0\" cellspacing=\"0\"><tr valign=\"top\"><td width=\"25%\">&nbsp;</td><td align=\"center\" nowrap=\"\"><input name=\"ie\" value=\"ISO-8859-1\" type=\"hidden\"><input value=\"en\" name=\"hl\" type=\"hidden\"><input name=\"source\" type=\"hidden\" value=\"hp\"><input name=\"biw\" type=\"hidden\"><input name=\"bih\" type=\"hidden\"><div class=\"ds\" style=\"height:32px;margin:4px 0\"><input class=\"lst\" style=\"margin:0;padding:5px 8px 0 6px;vertical-align:top;color:#000\" autocomplete=\"off\" value=\"\" title=\"Google Search\" maxlength=\"2048\" name=\"q\" size=\"57\"></div><br style=\"line-height:0\"><span class=\"ds\"><span class=\"lsbb\"><input class=\"lsb\" value=\"Google Search\" name=\"btnG\" type=\"submit\"></span></span><span class=\"ds\"><span class=\"lsbb\"><input class=\"lsb\" id=\"tsuid1\" value=\"I\\'m Feeling Lucky\" name=\"btnI\" type=\"submit\"><script nonce=\"v6XqccCCnERxVK9y5PbDWA==\">(function(){var id=\\'tsuid1\\';document.getElementById(id).onclick = function(){if (this.form.q.value){this.checked = 1;if (this.form.iflsig)this.form.iflsig.disabled = false;}\\n'\n",
            "b'else top.location=\\'/doodles/\\';};})();</script><input value=\"AINFCbYAAAAAYMSzO4yIdKFmPi0MHCy8toYU3PnEzl_d\" name=\"iflsig\" type=\"hidden\"></span></span></td><td class=\"fl sblc\" align=\"left\" nowrap=\"\" width=\"25%\"><a href=\"/advanced_search?hl=en&amp;authuser=0\">Advanced search</a></td></tr></table><input id=\"gbv\" name=\"gbv\" type=\"hidden\" value=\"1\"><script nonce=\"v6XqccCCnERxVK9y5PbDWA==\">(function(){\\n'\n",
            "b'var a,b=\"1\";if(document&&document.getElementById)if(\"undefined\"!=typeof XMLHttpRequest)b=\"2\";else if(\"undefined\"!=typeof ActiveXObject){var c,d,e=[\"MSXML2.XMLHTTP.6.0\",\"MSXML2.XMLHTTP.3.0\",\"MSXML2.XMLHTTP\",\"Microsoft.XMLHTTP\"];for(c=0;d=e[c++];)try{new ActiveXObject(d),b=\"2\"}catch(h){}}a=b;if(\"2\"==a&&-1==location.search.indexOf(\"&gbv=2\")){var f=google.gbvu,g=document.getElementById(\"gbv\");g&&(g.value=a);f&&window.setTimeout(function(){location.href=f},0)};}).call(this);</script></form><div id=\"gac_scont\"></div><div style=\"font-size:83%;min-height:3.5em\"><br></div><span id=\"footer\"><div style=\"font-size:10pt\"><div style=\"margin:19px auto;text-align:center\" id=\"WqQANb\"><a href=\"/intl/en/ads/\">Advertising\\xa0Programs</a><a href=\"/services/\">Business Solutions</a><a href=\"/intl/en/about.html\">About Google</a></div></div><p style=\"font-size:8pt;color:#70757a\">&copy; 2021 - <a href=\"/intl/en/policies/privacy/\">Privacy</a> - <a href=\"/intl/en/policies/terms/\">Terms</a></p></span></center><script nonce=\"v6XqccCCnERxVK9y5PbDWA==\">(function(){window.google.cdo={height:0,width:0};(function(){\\n'\n",
            "b'var a=window.innerWidth,b=window.innerHeight;if(!a||!b){var c=window.document,d=\"CSS1Compat\"==c.compatMode?c.documentElement:c.body;a=d.clientWidth;b=d.clientHeight}a&&b&&(a!=google.cdo.width||b!=google.cdo.height)&&google.log(\"\",\"\",\"/client_204?&atyp=i&biw=\"+a+\"&bih=\"+b+\"&ei=\"+google.kEI);}).call(this);})();</script> <script nonce=\"v6XqccCCnERxVK9y5PbDWA==\">(function(){google.xjs={ck:\\'\\',cs:\\'\\',excm:[],pml:false};})();</script>  <script nonce=\"v6XqccCCnERxVK9y5PbDWA==\">(function(){var u=\\'/xjs/_/js/k\\\\x3dxjs.hp.en_US.vVX_yy3nFpc.O/m\\\\x3dsb_he,d/am\\\\x3dAHgCLA/d\\\\x3d1/ed\\\\x3d1/rs\\\\x3dACT90oHmb46LeyS9PJehslyMs99QMUJqRQ\\';\\n'\n",
            "b'var e=this||self,f=function(a){return a};var g;var l=function(a,b){this.g=b===h?a:\"\"};l.prototype.toString=function(){return this.g+\"\"};var h={};function m(){var a=u;google.lx=function(){n(a);google.lx=function(){}};google.bx||google.lx()}\\n'\n",
            "b'function n(a){google.timers&&google.timers.load&&google.tick&&google.tick(\"load\",\"xjsls\");var b=document;var c=\"SCRIPT\";\"application/xhtml+xml\"===b.contentType&&(c=c.toLowerCase());c=b.createElement(c);if(void 0===g){b=null;var k=e.trustedTypes;if(k&&k.createPolicy){try{b=k.createPolicy(\"goog#html\",{createHTML:f,createScript:f,createScriptURL:f})}catch(p){e.console&&e.console.error(p.message)}g=b}else g=b}a=(b=g)?b.createScriptURL(a):a;a=new l(a,h);c.src=a instanceof l&&a.constructor===l?a.g:\"type_error:TrustedResourceUrl\";var d;a=(c.ownerDocument&&c.ownerDocument.defaultView||window).document;(d=(a=null===(d=a.querySelector)||void 0===d?void 0:d.call(a,\"script[nonce]\"))?a.nonce||a.getAttribute(\"nonce\")||\"\":\"\")&&c.setAttribute(\"nonce\",d);document.body.appendChild(c);google.psa=!0};setTimeout(function(){m()},0);})();(function(){window.google.xjsu=\\'/xjs/_/js/k\\\\x3dxjs.hp.en_US.vVX_yy3nFpc.O/m\\\\x3dsb_he,d/am\\\\x3dAHgCLA/d\\\\x3d1/ed\\\\x3d1/rs\\\\x3dACT90oHmb46LeyS9PJehslyMs99QMUJqRQ\\';})();function _DumpException(e){throw e;}\\n'\n",
            "b'function _F_installCss(c){}\\n'\n",
            "b\"(function(){google.jl={attn:false,blt:'none',dw:false,emtn:0,ine:false,lls:'default',pdt:0,snet:true,ubm:false,uwp:true};})();(function(){var pmc='{\\\\x22d\\\\x22:{},\\\\x22sb_he\\\\x22:{\\\\x22agen\\\\x22:true,\\\\x22cgen\\\\x22:true,\\\\x22client\\\\x22:\\\\x22heirloom-hp\\\\x22,\\\\x22dh\\\\x22:true,\\\\x22dhqt\\\\x22:true,\\\\x22ds\\\\x22:\\\\x22\\\\x22,\\\\x22ffql\\\\x22:\\\\x22en\\\\x22,\\\\x22fl\\\\x22:true,\\\\x22host\\\\x22:\\\\x22google.com\\\\x22,\\\\x22isbh\\\\x22:28,\\\\x22jsonp\\\\x22:true,\\\\x22msgs\\\\x22:{\\\\x22cibl\\\\x22:\\\\x22Clear Search\\\\x22,\\\\x22dym\\\\x22:\\\\x22Did you mean:\\\\x22,\\\\x22lcky\\\\x22:\\\\x22I\\\\\\\\u0026#39;m Feeling Lucky\\\\x22,\\\\x22lml\\\\x22:\\\\x22Learn more\\\\x22,\\\\x22oskt\\\\x22:\\\\x22Input tools\\\\x22,\\\\x22psrc\\\\x22:\\\\x22This search was removed from your \\\\\\\\u003Ca href\\\\x3d\\\\\\\\\\\\x22/history\\\\\\\\\\\\x22\\\\\\\\u003EWeb History\\\\\\\\u003C/a\\\\\\\\u003E\\\\x22,\\\\x22psrl\\\\x22:\\\\x22Remove\\\\x22,\\\\x22sbit\\\\x22:\\\\x22Search by image\\\\x22,\\\\x22srch\\\\x22:\\\\x22Google Search\\\\x22},\\\\x22nrft\\\\x22:false,\\\\x22ovr\\\\x22:{},\\\\x22pq\\\\x22:\\\\x22\\\\x22,\\\\x22refpd\\\\x22:true,\\\\x22rfs\\\\x22:[],\\\\x22sbas\\\\x22:\\\\x220 3px 8px 0 rgba(0,0,0,0.2),0 0 0 1px rgba(0,0,0,0.08)\\\\x22,\\\\x22sbpl\\\\x22:16,\\\\x22sbpr\\\\x22:16,\\\\x22scd\\\\x22:10,\\\\x22stok\\\\x22:\\\\x228OOaoZy3uHaXnlBCnK38wRjRFSE\\\\x22,\\\\x22uhde\\\\x22:false}}';google.pmc=JSON.parse(pmc);})();</script>        </body></html>\"\n"
          ],
          "name": "stdout"
        }
      ]
    },
    {
      "cell_type": "code",
      "metadata": {
        "colab": {
          "base_uri": "https://localhost:8080/"
        },
        "id": "82JG_IAnKFaE",
        "outputId": "ff4d235c-2309-4bc7-cafb-7ddcaa797d5c"
      },
      "source": [
        "try:\n",
        "    webpage = urllib.request.urlopen('http://www.google.com')\n",
        "except:\n",
        "    print('Could not access webpage\"')\n",
        "else:\n",
        "    for line in webpage:\n",
        "        print(line)"
      ],
      "execution_count": 29,
      "outputs": [
        {
          "output_type": "stream",
          "text": [
            "b'<!doctype html><html itemscope=\"\" itemtype=\"http://schema.org/WebPage\" lang=\"en\"><head><meta content=\"Search the world\\'s information, including webpages, images, videos and more. Google has many special features to help you find exactly what you\\'re looking for.\" name=\"description\"><meta content=\"noodp\" name=\"robots\"><meta content=\"text/html; charset=UTF-8\" http-equiv=\"Content-Type\"><meta content=\"/images/branding/googleg/1x/googleg_standard_color_128dp.png\" itemprop=\"image\"><title>Google</title><script nonce=\"56Ja7ivP+qniLJ3YVTZRSw==\">(function(){window.google={kEI:\\'n6XEYMCiJ5i-tAacxYLIAg\\',kEXPI:\\'0,772215,1,530320,56873,954,756,4349,206,4804,2316,383,246,5,1354,4936,314,16232,10,1106274,1197726,526,30,328985,51223,16115,28684,17572,4858,1362,283,9007,3021,2824,1929,12835,4020,978,13226,3849,4192,6430,1142,13386,4516,2778,919,6674,1279,2212,532,147,1103,840,1983,4314,108,3406,606,2025,1731,43,521,14670,3227,2845,7,12354,5096,7876,4929,108,1483,1924,908,2,3555,2397,7470,1,2842,432,3,1590,1,5444,149,5992,5331,991,1661,4,1528,2304,1236,5803,74,1717,266,1523,1104,2014,4067,7434,2110,1714,3050,2658,4164,597,2596,30,3878,2998,6752,2306,637,37,1457,5586,5424,1842,2499,770,665,5815,2542,4094,17,2239,882,6,908,3,3541,1,4174,922,1,2,2,248,726,3870,4771,1,1807,283,912,5994,4855,1897,432,552,4788,2,1394,756,769,8,1,1272,1715,2,3037,20,483,249,2,1281,3246,894,627,4,32,4,1342,1461,2584,4,683,442,342,254,66,4,424,356,1097,1017,30,167,2134,116,1158,327,3845,406,2091,1606,3759,1377,430,157,3,365,675,1160,2293,770,352,1,1270,1,3,707,1303,213,290,101,837,278,798,1206,1,230,2972,961,578,342,2,631,204,3,75,945,581,787,138,950,1671,269,57,13,689,759,320,1739,328,113,674,586,239,265,247,14,278,1141,816,1,8,115,217,100,91,627,468,56,624,59,590,832,1,2,5631571,194,32,63,155,2,43,15,5996811,45,2800651,882,444,1,2,80,1,1796,1,9,2,2551,1,748,141,795,563,1,4265,1,1,2,1331,3299,843,2609,155,17,13,72,139,4,2,20,2,169,13,19,46,5,39,96,284,4,4,4,4,4,4,8,4,4,4,24,196,29,2,2,1,2,1,2,2,7,4,1,2,2,2,2,2,2,353,468,45,5,56,35,4,10,1,4,28,27,1,23955192,4010273,268,1835,24965,1499,2,2377,3,120,3,6,338,3,2339,75\\',kBL:\\'BUvK\\'};google.sn=\\'webhp\\';google.kHL=\\'en\\';})();(function(){\\n'\n",
            "b'var f=this||self;var h,k=[];function l(a){for(var b;a&&(!a.getAttribute||!(b=a.getAttribute(\"eid\")));)a=a.parentNode;return b||h}function m(a){for(var b=null;a&&(!a.getAttribute||!(b=a.getAttribute(\"leid\")));)a=a.parentNode;return b}\\n'\n",
            "b'function n(a,b,c,d,g){var e=\"\";c||-1!==b.search(\"&ei=\")||(e=\"&ei=\"+l(d),-1===b.search(\"&lei=\")&&(d=m(d))&&(e+=\"&lei=\"+d));d=\"\";!c&&f._cshid&&-1===b.search(\"&cshid=\")&&\"slh\"!==a&&(d=\"&cshid=\"+f._cshid);c=c||\"/\"+(g||\"gen_204\")+\"?atyp=i&ct=\"+a+\"&cad=\"+b+e+\"&zx=\"+Date.now()+d;/^http:/i.test(c)&&\"https:\"===window.location.protocol&&(google.ml&&google.ml(Error(\"a\"),!1,{src:c,glmm:1}),c=\"\");return c};h=google.kEI;google.getEI=l;google.getLEI=m;google.ml=function(){return null};google.log=function(a,b,c,d,g){if(c=n(a,b,c,d,g)){a=new Image;var e=k.length;k[e]=a;a.onerror=a.onload=a.onabort=function(){delete k[e]};a.src=c}};google.logUrl=n;}).call(this);(function(){\\n'\n",
            "b'google.y={};google.sy=[];google.x=function(a,b){if(a)var c=a.id;else{do c=Math.random();while(google.y[c])}google.y[c]=[a,b];return!1};google.sx=function(a){google.sy.push(a)};google.lm=[];google.plm=function(a){google.lm.push.apply(google.lm,a)};google.lq=[];google.load=function(a,b,c){google.lq.push([[a],b,c])};google.loadAll=function(a,b){google.lq.push([a,b])};google.bx=!1;google.lx=function(){};}).call(this);google.f={};(function(){\\n'\n",
            "b'document.documentElement.addEventListener(\"submit\",function(b){var a;if(a=b.target){var c=a.getAttribute(\"data-submitfalse\");a=\"1\"==c||\"q\"==c&&!a.elements.q.value?!0:!1}else a=!1;a&&(b.preventDefault(),b.stopPropagation())},!0);document.documentElement.addEventListener(\"click\",function(b){var a;a:{for(a=b.target;a&&a!=document.documentElement;a=a.parentElement)if(\"A\"==a.tagName){a=\"1\"==a.getAttribute(\"data-nohref\");break a}a=!1}a&&b.preventDefault()},!0);}).call(this);</script><style>#gbar,#guser{font-size:13px;padding-top:1px !important;}#gbar{height:22px}#guser{padding-bottom:7px !important;text-align:right}.gbh,.gbd{border-top:1px solid #c9d7f1;font-size:1px}.gbh{height:0;position:absolute;top:24px;width:100%}@media all{.gb1{height:22px;margin-right:.5em;vertical-align:top}#gbar{float:left}}a.gb1,a.gb4{text-decoration:underline !important}a.gb1,a.gb4{color:#00c !important}.gbi .gb4{color:#dd8e27 !important}.gbf .gb4{color:#900 !important}\\n'\n",
            "b'</style><style>body,td,a,p,.h{font-family:arial,sans-serif}body{margin:0;overflow-y:scroll}#gog{padding:3px 8px 0}td{line-height:.8em}.gac_m td{line-height:17px}form{margin-bottom:20px}.h{color:#1558d6}em{font-weight:bold;font-style:normal}.lst{height:25px;width:496px}.gsfi,.lst{font:18px arial,sans-serif}.gsfs{font:17px arial,sans-serif}.ds{display:inline-box;display:inline-block;margin:3px 0 4px;margin-left:4px}input{font-family:inherit}body{background:#fff;color:#000}a{color:#4b11a8;text-decoration:none}a:hover,a:active{text-decoration:underline}.fl a{color:#1558d6}a:visited{color:#4b11a8}.sblc{padding-top:5px}.sblc a{display:block;margin:2px 0;margin-left:13px;font-size:11px}.lsbb{background:#f8f9fa;border:solid 1px;border-color:#dadce0 #70757a #70757a #dadce0;height:30px}.lsbb{display:block}#WqQANb a{display:inline-block;margin:0 12px}.lsb{background:url(/images/nav_logo229.png) 0 -261px repeat-x;border:none;color:#000;cursor:pointer;height:30px;margin:0;outline:0;font:15px arial,sans-serif;vertical-align:top}.lsb:active{background:#dadce0}.lst:focus{outline:none}</style><script nonce=\"56Ja7ivP+qniLJ3YVTZRSw==\"></script></head><body bgcolor=\"#fff\"><script nonce=\"56Ja7ivP+qniLJ3YVTZRSw==\">(function(){var src=\\'/images/nav_logo229.png\\';var iesg=false;document.body.onload = function(){window.n && window.n();if (document.images){new Image().src=src;}\\n'\n",
            "b'if (!iesg){document.f&&document.f.q.focus();document.gbqf&&document.gbqf.q.focus();}\\n'\n",
            "b'}\\n'\n",
            "b'})();</script><div id=\"mngb\"><div id=gbar><nobr><b class=gb1>Search</b> <a class=gb1 href=\"http://www.google.com/imghp?hl=en&tab=wi\">Images</a> <a class=gb1 href=\"http://maps.google.com/maps?hl=en&tab=wl\">Maps</a> <a class=gb1 href=\"https://play.google.com/?hl=en&tab=w8\">Play</a> <a class=gb1 href=\"http://www.youtube.com/?gl=US&tab=w1\">YouTube</a> <a class=gb1 href=\"https://news.google.com/?tab=wn\">News</a> <a class=gb1 href=\"https://mail.google.com/mail/?tab=wm\">Gmail</a> <a class=gb1 href=\"https://drive.google.com/?tab=wo\">Drive</a> <a class=gb1 style=\"text-decoration:none\" href=\"https://www.google.com/intl/en/about/products?tab=wh\"><u>More</u> &raquo;</a></nobr></div><div id=guser width=100%><nobr><span id=gbn class=gbi></span><span id=gbf class=gbf></span><span id=gbe></span><a href=\"http://www.google.com/history/optout?hl=en\" class=gb4>Web History</a> | <a  href=\"/preferences?hl=en\" class=gb4>Settings</a> | <a target=_top id=gb_70 href=\"https://accounts.google.com/ServiceLogin?hl=en&passive=true&continue=http://www.google.com/&ec=GAZAAQ\" class=gb4>Sign in</a></nobr></div><div class=gbh style=left:0></div><div class=gbh style=right:0></div></div><center><br clear=\"all\" id=\"lgpd\"><div id=\"lga\"><img alt=\"Google\" height=\"92\" src=\"/images/branding/googlelogo/1x/googlelogo_white_background_color_272x92dp.png\" style=\"padding:28px 0 14px\" width=\"272\" id=\"hplogo\"><br><br></div><form action=\"/search\" name=\"f\"><table cellpadding=\"0\" cellspacing=\"0\"><tr valign=\"top\"><td width=\"25%\">&nbsp;</td><td align=\"center\" nowrap=\"\"><input name=\"ie\" value=\"ISO-8859-1\" type=\"hidden\"><input value=\"en\" name=\"hl\" type=\"hidden\"><input name=\"source\" type=\"hidden\" value=\"hp\"><input name=\"biw\" type=\"hidden\"><input name=\"bih\" type=\"hidden\"><div class=\"ds\" style=\"height:32px;margin:4px 0\"><input class=\"lst\" style=\"margin:0;padding:5px 8px 0 6px;vertical-align:top;color:#000\" autocomplete=\"off\" value=\"\" title=\"Google Search\" maxlength=\"2048\" name=\"q\" size=\"57\"></div><br style=\"line-height:0\"><span class=\"ds\"><span class=\"lsbb\"><input class=\"lsb\" value=\"Google Search\" name=\"btnG\" type=\"submit\"></span></span><span class=\"ds\"><span class=\"lsbb\"><input class=\"lsb\" id=\"tsuid1\" value=\"I\\'m Feeling Lucky\" name=\"btnI\" type=\"submit\"><script nonce=\"56Ja7ivP+qniLJ3YVTZRSw==\">(function(){var id=\\'tsuid1\\';document.getElementById(id).onclick = function(){if (this.form.q.value){this.checked = 1;if (this.form.iflsig)this.form.iflsig.disabled = false;}\\n'\n",
            "b'else top.location=\\'/doodles/\\';};})();</script><input value=\"AINFCbYAAAAAYMSzr62vA2BvNi91gp1Ioft0PjEX0AX-\" name=\"iflsig\" type=\"hidden\"></span></span></td><td class=\"fl sblc\" align=\"left\" nowrap=\"\" width=\"25%\"><a href=\"/advanced_search?hl=en&amp;authuser=0\">Advanced search</a></td></tr></table><input id=\"gbv\" name=\"gbv\" type=\"hidden\" value=\"1\"><script nonce=\"56Ja7ivP+qniLJ3YVTZRSw==\">(function(){\\n'\n",
            "b'var a,b=\"1\";if(document&&document.getElementById)if(\"undefined\"!=typeof XMLHttpRequest)b=\"2\";else if(\"undefined\"!=typeof ActiveXObject){var c,d,e=[\"MSXML2.XMLHTTP.6.0\",\"MSXML2.XMLHTTP.3.0\",\"MSXML2.XMLHTTP\",\"Microsoft.XMLHTTP\"];for(c=0;d=e[c++];)try{new ActiveXObject(d),b=\"2\"}catch(h){}}a=b;if(\"2\"==a&&-1==location.search.indexOf(\"&gbv=2\")){var f=google.gbvu,g=document.getElementById(\"gbv\");g&&(g.value=a);f&&window.setTimeout(function(){location.href=f},0)};}).call(this);</script></form><div id=\"gac_scont\"></div><div style=\"font-size:83%;min-height:3.5em\"><br></div><span id=\"footer\"><div style=\"font-size:10pt\"><div style=\"margin:19px auto;text-align:center\" id=\"WqQANb\"><a href=\"/intl/en/ads/\">Advertising\\xa0Programs</a><a href=\"/services/\">Business Solutions</a><a href=\"/intl/en/about.html\">About Google</a></div></div><p style=\"font-size:8pt;color:#70757a\">&copy; 2021 - <a href=\"/intl/en/policies/privacy/\">Privacy</a> - <a href=\"/intl/en/policies/terms/\">Terms</a></p></span></center><script nonce=\"56Ja7ivP+qniLJ3YVTZRSw==\">(function(){window.google.cdo={height:0,width:0};(function(){\\n'\n",
            "b'var a=window.innerWidth,b=window.innerHeight;if(!a||!b){var c=window.document,d=\"CSS1Compat\"==c.compatMode?c.documentElement:c.body;a=d.clientWidth;b=d.clientHeight}a&&b&&(a!=google.cdo.width||b!=google.cdo.height)&&google.log(\"\",\"\",\"/client_204?&atyp=i&biw=\"+a+\"&bih=\"+b+\"&ei=\"+google.kEI);}).call(this);})();</script> <script nonce=\"56Ja7ivP+qniLJ3YVTZRSw==\">(function(){google.xjs={ck:\\'\\',cs:\\'\\',excm:[],pml:false};})();</script>  <script nonce=\"56Ja7ivP+qniLJ3YVTZRSw==\">(function(){var u=\\'/xjs/_/js/k\\\\x3dxjs.hp.en_US.vVX_yy3nFpc.O/m\\\\x3dsb_he,d/am\\\\x3dAHgCLA/d\\\\x3d1/ed\\\\x3d1/rs\\\\x3dACT90oHmb46LeyS9PJehslyMs99QMUJqRQ\\';\\n'\n",
            "b'var e=this||self,f=function(a){return a};var g;var l=function(a,b){this.g=b===h?a:\"\"};l.prototype.toString=function(){return this.g+\"\"};var h={};function m(){var a=u;google.lx=function(){n(a);google.lx=function(){}};google.bx||google.lx()}\\n'\n",
            "b'function n(a){google.timers&&google.timers.load&&google.tick&&google.tick(\"load\",\"xjsls\");var b=document;var c=\"SCRIPT\";\"application/xhtml+xml\"===b.contentType&&(c=c.toLowerCase());c=b.createElement(c);if(void 0===g){b=null;var k=e.trustedTypes;if(k&&k.createPolicy){try{b=k.createPolicy(\"goog#html\",{createHTML:f,createScript:f,createScriptURL:f})}catch(p){e.console&&e.console.error(p.message)}g=b}else g=b}a=(b=g)?b.createScriptURL(a):a;a=new l(a,h);c.src=a instanceof l&&a.constructor===l?a.g:\"type_error:TrustedResourceUrl\";var d;a=(c.ownerDocument&&c.ownerDocument.defaultView||window).document;(d=(a=null===(d=a.querySelector)||void 0===d?void 0:d.call(a,\"script[nonce]\"))?a.nonce||a.getAttribute(\"nonce\")||\"\":\"\")&&c.setAttribute(\"nonce\",d);document.body.appendChild(c);google.psa=!0};setTimeout(function(){m()},0);})();(function(){window.google.xjsu=\\'/xjs/_/js/k\\\\x3dxjs.hp.en_US.vVX_yy3nFpc.O/m\\\\x3dsb_he,d/am\\\\x3dAHgCLA/d\\\\x3d1/ed\\\\x3d1/rs\\\\x3dACT90oHmb46LeyS9PJehslyMs99QMUJqRQ\\';})();function _DumpException(e){throw e;}\\n'\n",
            "b'function _F_installCss(c){}\\n'\n",
            "b\"(function(){google.jl={attn:false,blt:'none',dw:false,emtn:0,ine:false,lls:'default',pdt:0,snet:true,ubm:false,uwp:true};})();(function(){var pmc='{\\\\x22d\\\\x22:{},\\\\x22sb_he\\\\x22:{\\\\x22agen\\\\x22:true,\\\\x22cgen\\\\x22:true,\\\\x22client\\\\x22:\\\\x22heirloom-hp\\\\x22,\\\\x22dh\\\\x22:true,\\\\x22dhqt\\\\x22:true,\\\\x22ds\\\\x22:\\\\x22\\\\x22,\\\\x22ffql\\\\x22:\\\\x22en\\\\x22,\\\\x22fl\\\\x22:true,\\\\x22host\\\\x22:\\\\x22google.com\\\\x22,\\\\x22isbh\\\\x22:28,\\\\x22jsonp\\\\x22:true,\\\\x22msgs\\\\x22:{\\\\x22cibl\\\\x22:\\\\x22Clear Search\\\\x22,\\\\x22dym\\\\x22:\\\\x22Did you mean:\\\\x22,\\\\x22lcky\\\\x22:\\\\x22I\\\\\\\\u0026#39;m Feeling Lucky\\\\x22,\\\\x22lml\\\\x22:\\\\x22Learn more\\\\x22,\\\\x22oskt\\\\x22:\\\\x22Input tools\\\\x22,\\\\x22psrc\\\\x22:\\\\x22This search was removed from your \\\\\\\\u003Ca href\\\\x3d\\\\\\\\\\\\x22/history\\\\\\\\\\\\x22\\\\\\\\u003EWeb History\\\\\\\\u003C/a\\\\\\\\u003E\\\\x22,\\\\x22psrl\\\\x22:\\\\x22Remove\\\\x22,\\\\x22sbit\\\\x22:\\\\x22Search by image\\\\x22,\\\\x22srch\\\\x22:\\\\x22Google Search\\\\x22},\\\\x22nrft\\\\x22:false,\\\\x22ovr\\\\x22:{},\\\\x22pq\\\\x22:\\\\x22\\\\x22,\\\\x22refpd\\\\x22:true,\\\\x22rfs\\\\x22:[],\\\\x22sbas\\\\x22:\\\\x220 3px 8px 0 rgba(0,0,0,0.2),0 0 0 1px rgba(0,0,0,0.08)\\\\x22,\\\\x22sbpl\\\\x22:16,\\\\x22sbpr\\\\x22:16,\\\\x22scd\\\\x22:10,\\\\x22stok\\\\x22:\\\\x22d_IajBzcSctEQjivxV_0-IzMCGs\\\\x22,\\\\x22uhde\\\\x22:false}}';google.pmc=JSON.parse(pmc);})();</script>        </body></html>\"\n"
          ],
          "name": "stdout"
        }
      ]
    },
    {
      "cell_type": "code",
      "metadata": {
        "id": "flM93SdKOa87"
      },
      "source": [
        "''' Overloading a circuit breaker '''\n",
        "\n",
        "class CircuitBreaker:\n",
        "\n",
        "    def __init__(self, max_amps):\n",
        "        self.capacity = max_amps # max capacity in amps\n",
        "        self.load = 0            # present load in amps\n",
        "\n",
        "    def connect(self, amps):\n",
        "        self.load += amps\n",
        "\n",
        "# create a 20A circuit breaker\n",
        "cb = CircuitBreaker(20)"
      ],
      "execution_count": 31,
      "outputs": []
    },
    {
      "cell_type": "code",
      "metadata": {
        "colab": {
          "base_uri": "https://localhost:8080/"
        },
        "id": "FgUU95ZyOiLC",
        "outputId": "a60dd762-6be1-4794-e60a-5f2b765f9a56"
      },
      "source": [
        "cb.load"
      ],
      "execution_count": 32,
      "outputs": [
        {
          "output_type": "execute_result",
          "data": {
            "text/plain": [
              "0"
            ]
          },
          "metadata": {
            "tags": []
          },
          "execution_count": 32
        }
      ]
    },
    {
      "cell_type": "code",
      "metadata": {
        "id": "-Y1t8LcoOp1Z"
      },
      "source": [
        "cb.connect(10)\n",
        "cb.connect(10)\n",
        "cb.connect(10)"
      ],
      "execution_count": 33,
      "outputs": []
    },
    {
      "cell_type": "code",
      "metadata": {
        "colab": {
          "base_uri": "https://localhost:8080/"
        },
        "id": "IxJLqnsyOxbe",
        "outputId": "f93c8c17-4b4c-4219-8a8d-e3e7265d115f"
      },
      "source": [
        "cb.load"
      ],
      "execution_count": 34,
      "outputs": [
        {
          "output_type": "execute_result",
          "data": {
            "text/plain": [
              "30"
            ]
          },
          "metadata": {
            "tags": []
          },
          "execution_count": 34
        }
      ]
    },
    {
      "cell_type": "code",
      "metadata": {
        "id": "lCS6aXJlOzWW"
      },
      "source": [
        "''' Overloading a circuit breaker '''\n",
        "\n",
        "class CircuitBreaker:\n",
        "\n",
        "    def __init__(self, max_amps):\n",
        "        self.capacity = max_amps # max capacity in amps\n",
        "        self.load = 0            # present load in amps\n",
        "\n",
        "    def connect(self, amps):\n",
        "        if self.load + amps > self.capacity:\n",
        "           raise Exception\n",
        "        elif self.load + amps < 0:\n",
        "           raise Exception\n",
        "        else:\n",
        "           self.load += amps\n",
        "\n",
        "# create a 20A circuit breaker\n",
        "cb = CircuitBreaker(20)"
      ],
      "execution_count": 36,
      "outputs": []
    },
    {
      "cell_type": "code",
      "metadata": {
        "colab": {
          "base_uri": "https://localhost:8080/"
        },
        "id": "fozCk58qPUkq",
        "outputId": "e5bc0b2b-c3e5-4c36-976f-21b6ea8cb82f"
      },
      "source": [
        "cb.load"
      ],
      "execution_count": 37,
      "outputs": [
        {
          "output_type": "execute_result",
          "data": {
            "text/plain": [
              "0"
            ]
          },
          "metadata": {
            "tags": []
          },
          "execution_count": 37
        }
      ]
    },
    {
      "cell_type": "code",
      "metadata": {
        "colab": {
          "base_uri": "https://localhost:8080/",
          "height": 282
        },
        "id": "EvoZiaGLPW7h",
        "outputId": "03a38ccd-138b-418e-fbdf-d3a1a673cb24"
      },
      "source": [
        "cb.connect(30)"
      ],
      "execution_count": 38,
      "outputs": [
        {
          "output_type": "error",
          "ename": "Exception",
          "evalue": "ignored",
          "traceback": [
            "\u001b[0;31m---------------------------------------------------------------------------\u001b[0m",
            "\u001b[0;31mException\u001b[0m                                 Traceback (most recent call last)",
            "\u001b[0;32m<ipython-input-38-5d4598969532>\u001b[0m in \u001b[0;36m<module>\u001b[0;34m()\u001b[0m\n\u001b[0;32m----> 1\u001b[0;31m \u001b[0mcb\u001b[0m\u001b[0;34m.\u001b[0m\u001b[0mconnect\u001b[0m\u001b[0;34m(\u001b[0m\u001b[0;36m30\u001b[0m\u001b[0;34m)\u001b[0m\u001b[0;34m\u001b[0m\u001b[0;34m\u001b[0m\u001b[0m\n\u001b[0m",
            "\u001b[0;32m<ipython-input-36-2cf374cba909>\u001b[0m in \u001b[0;36mconnect\u001b[0;34m(self, amps)\u001b[0m\n\u001b[1;32m      9\u001b[0m     \u001b[0;32mdef\u001b[0m \u001b[0mconnect\u001b[0m\u001b[0;34m(\u001b[0m\u001b[0mself\u001b[0m\u001b[0;34m,\u001b[0m \u001b[0mamps\u001b[0m\u001b[0;34m)\u001b[0m\u001b[0;34m:\u001b[0m\u001b[0;34m\u001b[0m\u001b[0;34m\u001b[0m\u001b[0m\n\u001b[1;32m     10\u001b[0m         \u001b[0;32mif\u001b[0m \u001b[0mself\u001b[0m\u001b[0;34m.\u001b[0m\u001b[0mload\u001b[0m \u001b[0;34m+\u001b[0m \u001b[0mamps\u001b[0m \u001b[0;34m>\u001b[0m \u001b[0mself\u001b[0m\u001b[0;34m.\u001b[0m\u001b[0mcapacity\u001b[0m\u001b[0;34m:\u001b[0m\u001b[0;34m\u001b[0m\u001b[0;34m\u001b[0m\u001b[0m\n\u001b[0;32m---> 11\u001b[0;31m            \u001b[0;32mraise\u001b[0m \u001b[0mException\u001b[0m\u001b[0;34m\u001b[0m\u001b[0;34m\u001b[0m\u001b[0m\n\u001b[0m\u001b[1;32m     12\u001b[0m         \u001b[0;32melif\u001b[0m \u001b[0mself\u001b[0m\u001b[0;34m.\u001b[0m\u001b[0mload\u001b[0m \u001b[0;34m+\u001b[0m \u001b[0mamps\u001b[0m \u001b[0;34m<\u001b[0m \u001b[0;36m0\u001b[0m\u001b[0;34m:\u001b[0m\u001b[0;34m\u001b[0m\u001b[0;34m\u001b[0m\u001b[0m\n\u001b[1;32m     13\u001b[0m            \u001b[0;32mraise\u001b[0m \u001b[0mException\u001b[0m\u001b[0;34m\u001b[0m\u001b[0;34m\u001b[0m\u001b[0m\n",
            "\u001b[0;31mException\u001b[0m: "
          ]
        }
      ]
    },
    {
      "cell_type": "code",
      "metadata": {
        "colab": {
          "base_uri": "https://localhost:8080/",
          "height": 282
        },
        "id": "OyRL8wbBP7et",
        "outputId": "5c61680a-4854-448b-b840-616d1bb3b7e9"
      },
      "source": [
        "cb.connect(-10)"
      ],
      "execution_count": 39,
      "outputs": [
        {
          "output_type": "error",
          "ename": "Exception",
          "evalue": "ignored",
          "traceback": [
            "\u001b[0;31m---------------------------------------------------------------------------\u001b[0m",
            "\u001b[0;31mException\u001b[0m                                 Traceback (most recent call last)",
            "\u001b[0;32m<ipython-input-39-bf5db450f433>\u001b[0m in \u001b[0;36m<module>\u001b[0;34m()\u001b[0m\n\u001b[0;32m----> 1\u001b[0;31m \u001b[0mcb\u001b[0m\u001b[0;34m.\u001b[0m\u001b[0mconnect\u001b[0m\u001b[0;34m(\u001b[0m\u001b[0;34m-\u001b[0m\u001b[0;36m10\u001b[0m\u001b[0;34m)\u001b[0m\u001b[0;34m\u001b[0m\u001b[0;34m\u001b[0m\u001b[0m\n\u001b[0m",
            "\u001b[0;32m<ipython-input-36-2cf374cba909>\u001b[0m in \u001b[0;36mconnect\u001b[0;34m(self, amps)\u001b[0m\n\u001b[1;32m     11\u001b[0m            \u001b[0;32mraise\u001b[0m \u001b[0mException\u001b[0m\u001b[0;34m\u001b[0m\u001b[0;34m\u001b[0m\u001b[0m\n\u001b[1;32m     12\u001b[0m         \u001b[0;32melif\u001b[0m \u001b[0mself\u001b[0m\u001b[0;34m.\u001b[0m\u001b[0mload\u001b[0m \u001b[0;34m+\u001b[0m \u001b[0mamps\u001b[0m \u001b[0;34m<\u001b[0m \u001b[0;36m0\u001b[0m\u001b[0;34m:\u001b[0m\u001b[0;34m\u001b[0m\u001b[0;34m\u001b[0m\u001b[0m\n\u001b[0;32m---> 13\u001b[0;31m            \u001b[0;32mraise\u001b[0m \u001b[0mException\u001b[0m\u001b[0;34m\u001b[0m\u001b[0;34m\u001b[0m\u001b[0m\n\u001b[0m\u001b[1;32m     14\u001b[0m         \u001b[0;32melse\u001b[0m\u001b[0;34m:\u001b[0m\u001b[0;34m\u001b[0m\u001b[0;34m\u001b[0m\u001b[0m\n\u001b[1;32m     15\u001b[0m            \u001b[0mself\u001b[0m\u001b[0;34m.\u001b[0m\u001b[0mload\u001b[0m \u001b[0;34m+=\u001b[0m \u001b[0mamps\u001b[0m\u001b[0;34m\u001b[0m\u001b[0;34m\u001b[0m\u001b[0m\n",
            "\u001b[0;31mException\u001b[0m: "
          ]
        }
      ]
    },
    {
      "cell_type": "code",
      "metadata": {
        "id": "n11v9PHUP_7c"
      },
      "source": [
        "''' Overloading a circuit breaker '''\n",
        "\n",
        "class CircuitBreaker:\n",
        "\n",
        "    def __init__(self, max_amps):\n",
        "        self.capacity = max_amps # max capacity in amps\n",
        "        self.load = 0            # present load in amps\n",
        "\n",
        "    def connect(self, amps):\n",
        "        if self.load + amps > self.capacity:\n",
        "           raise Exception('connect will exceed capacity')\n",
        "        elif self.load + amps < 0:\n",
        "           raise Exception('connect will cause negative load')\n",
        "        else:\n",
        "           self.load += amps\n",
        "\n",
        "# create a 20A circuit breaker\n",
        "cb = CircuitBreaker(20)"
      ],
      "execution_count": 40,
      "outputs": []
    },
    {
      "cell_type": "code",
      "metadata": {
        "colab": {
          "base_uri": "https://localhost:8080/"
        },
        "id": "0RkQ4Vc4QV4N",
        "outputId": "e4f10036-be1a-47b7-961f-97d5ea16b59f"
      },
      "source": [
        "cb.load"
      ],
      "execution_count": 41,
      "outputs": [
        {
          "output_type": "execute_result",
          "data": {
            "text/plain": [
              "0"
            ]
          },
          "metadata": {
            "tags": []
          },
          "execution_count": 41
        }
      ]
    },
    {
      "cell_type": "code",
      "metadata": {
        "colab": {
          "base_uri": "https://localhost:8080/",
          "height": 282
        },
        "id": "O-yogKWcQXoQ",
        "outputId": "50789f45-3ae9-44dc-bed9-e8ca367f2a28"
      },
      "source": [
        "cb.connect(30)"
      ],
      "execution_count": 42,
      "outputs": [
        {
          "output_type": "error",
          "ename": "Exception",
          "evalue": "ignored",
          "traceback": [
            "\u001b[0;31m---------------------------------------------------------------------------\u001b[0m",
            "\u001b[0;31mException\u001b[0m                                 Traceback (most recent call last)",
            "\u001b[0;32m<ipython-input-42-5d4598969532>\u001b[0m in \u001b[0;36m<module>\u001b[0;34m()\u001b[0m\n\u001b[0;32m----> 1\u001b[0;31m \u001b[0mcb\u001b[0m\u001b[0;34m.\u001b[0m\u001b[0mconnect\u001b[0m\u001b[0;34m(\u001b[0m\u001b[0;36m30\u001b[0m\u001b[0;34m)\u001b[0m\u001b[0;34m\u001b[0m\u001b[0;34m\u001b[0m\u001b[0m\n\u001b[0m",
            "\u001b[0;32m<ipython-input-40-cf46bb08e21e>\u001b[0m in \u001b[0;36mconnect\u001b[0;34m(self, amps)\u001b[0m\n\u001b[1;32m      9\u001b[0m     \u001b[0;32mdef\u001b[0m \u001b[0mconnect\u001b[0m\u001b[0;34m(\u001b[0m\u001b[0mself\u001b[0m\u001b[0;34m,\u001b[0m \u001b[0mamps\u001b[0m\u001b[0;34m)\u001b[0m\u001b[0;34m:\u001b[0m\u001b[0;34m\u001b[0m\u001b[0;34m\u001b[0m\u001b[0m\n\u001b[1;32m     10\u001b[0m         \u001b[0;32mif\u001b[0m \u001b[0mself\u001b[0m\u001b[0;34m.\u001b[0m\u001b[0mload\u001b[0m \u001b[0;34m+\u001b[0m \u001b[0mamps\u001b[0m \u001b[0;34m>\u001b[0m \u001b[0mself\u001b[0m\u001b[0;34m.\u001b[0m\u001b[0mcapacity\u001b[0m\u001b[0;34m:\u001b[0m\u001b[0;34m\u001b[0m\u001b[0;34m\u001b[0m\u001b[0m\n\u001b[0;32m---> 11\u001b[0;31m            \u001b[0;32mraise\u001b[0m \u001b[0mException\u001b[0m\u001b[0;34m(\u001b[0m\u001b[0;34m'connect will exceed capacity'\u001b[0m\u001b[0;34m)\u001b[0m\u001b[0;34m\u001b[0m\u001b[0;34m\u001b[0m\u001b[0m\n\u001b[0m\u001b[1;32m     12\u001b[0m         \u001b[0;32melif\u001b[0m \u001b[0mself\u001b[0m\u001b[0;34m.\u001b[0m\u001b[0mload\u001b[0m \u001b[0;34m+\u001b[0m \u001b[0mamps\u001b[0m \u001b[0;34m<\u001b[0m \u001b[0;36m0\u001b[0m\u001b[0;34m:\u001b[0m\u001b[0;34m\u001b[0m\u001b[0;34m\u001b[0m\u001b[0m\n\u001b[1;32m     13\u001b[0m            \u001b[0;32mraise\u001b[0m \u001b[0mException\u001b[0m\u001b[0;34m(\u001b[0m\u001b[0;34m'connect will cause negative load'\u001b[0m\u001b[0;34m)\u001b[0m\u001b[0;34m\u001b[0m\u001b[0;34m\u001b[0m\u001b[0m\n",
            "\u001b[0;31mException\u001b[0m: connect will exceed capacity"
          ]
        }
      ]
    },
    {
      "cell_type": "code",
      "metadata": {
        "colab": {
          "base_uri": "https://localhost:8080/",
          "height": 282
        },
        "id": "WPKAMmfDQbX2",
        "outputId": "34b0fe97-fee5-4f4d-f3dc-1641ff6d349f"
      },
      "source": [
        "cb.connect(-20)"
      ],
      "execution_count": 43,
      "outputs": [
        {
          "output_type": "error",
          "ename": "Exception",
          "evalue": "ignored",
          "traceback": [
            "\u001b[0;31m---------------------------------------------------------------------------\u001b[0m",
            "\u001b[0;31mException\u001b[0m                                 Traceback (most recent call last)",
            "\u001b[0;32m<ipython-input-43-94284a42c2ce>\u001b[0m in \u001b[0;36m<module>\u001b[0;34m()\u001b[0m\n\u001b[0;32m----> 1\u001b[0;31m \u001b[0mcb\u001b[0m\u001b[0;34m.\u001b[0m\u001b[0mconnect\u001b[0m\u001b[0;34m(\u001b[0m\u001b[0;34m-\u001b[0m\u001b[0;36m20\u001b[0m\u001b[0;34m)\u001b[0m\u001b[0;34m\u001b[0m\u001b[0;34m\u001b[0m\u001b[0m\n\u001b[0m",
            "\u001b[0;32m<ipython-input-40-cf46bb08e21e>\u001b[0m in \u001b[0;36mconnect\u001b[0;34m(self, amps)\u001b[0m\n\u001b[1;32m     11\u001b[0m            \u001b[0;32mraise\u001b[0m \u001b[0mException\u001b[0m\u001b[0;34m(\u001b[0m\u001b[0;34m'connect will exceed capacity'\u001b[0m\u001b[0;34m)\u001b[0m\u001b[0;34m\u001b[0m\u001b[0;34m\u001b[0m\u001b[0m\n\u001b[1;32m     12\u001b[0m         \u001b[0;32melif\u001b[0m \u001b[0mself\u001b[0m\u001b[0;34m.\u001b[0m\u001b[0mload\u001b[0m \u001b[0;34m+\u001b[0m \u001b[0mamps\u001b[0m \u001b[0;34m<\u001b[0m \u001b[0;36m0\u001b[0m\u001b[0;34m:\u001b[0m\u001b[0;34m\u001b[0m\u001b[0;34m\u001b[0m\u001b[0m\n\u001b[0;32m---> 13\u001b[0;31m            \u001b[0;32mraise\u001b[0m \u001b[0mException\u001b[0m\u001b[0;34m(\u001b[0m\u001b[0;34m'connect will cause negative load'\u001b[0m\u001b[0;34m)\u001b[0m\u001b[0;34m\u001b[0m\u001b[0;34m\u001b[0m\u001b[0m\n\u001b[0m\u001b[1;32m     14\u001b[0m         \u001b[0;32melse\u001b[0m\u001b[0;34m:\u001b[0m\u001b[0;34m\u001b[0m\u001b[0;34m\u001b[0m\u001b[0m\n\u001b[1;32m     15\u001b[0m            \u001b[0mself\u001b[0m\u001b[0;34m.\u001b[0m\u001b[0mload\u001b[0m \u001b[0;34m+=\u001b[0m \u001b[0mamps\u001b[0m\u001b[0;34m\u001b[0m\u001b[0;34m\u001b[0m\u001b[0m\n",
            "\u001b[0;31mException\u001b[0m: connect will cause negative load"
          ]
        }
      ]
    },
    {
      "cell_type": "code",
      "metadata": {
        "colab": {
          "base_uri": "https://localhost:8080/",
          "height": 163
        },
        "id": "jYCo57CaRAV0",
        "outputId": "7ff5e91c-6078-4d81-c7df-7d90b0b417e6"
      },
      "source": [
        "1/0"
      ],
      "execution_count": 56,
      "outputs": [
        {
          "output_type": "error",
          "ename": "ZeroDivisionError",
          "evalue": "ignored",
          "traceback": [
            "\u001b[0;31m---------------------------------------------------------------------------\u001b[0m",
            "\u001b[0;31mZeroDivisionError\u001b[0m                         Traceback (most recent call last)",
            "\u001b[0;32m<ipython-input-56-9e1622b385b6>\u001b[0m in \u001b[0;36m<module>\u001b[0;34m()\u001b[0m\n\u001b[0;32m----> 1\u001b[0;31m \u001b[0;36m1\u001b[0m\u001b[0;34m/\u001b[0m\u001b[0;36m0\u001b[0m\u001b[0;34m\u001b[0m\u001b[0;34m\u001b[0m\u001b[0m\n\u001b[0m",
            "\u001b[0;31mZeroDivisionError\u001b[0m: division by zero"
          ]
        }
      ]
    },
    {
      "cell_type": "code",
      "metadata": {
        "colab": {
          "base_uri": "https://localhost:8080/",
          "height": 163
        },
        "id": "zEmDUzJhSkL6",
        "outputId": "c05568d9-120f-4e5e-e6ae-2fde17774df9"
      },
      "source": [
        "spam"
      ],
      "execution_count": 57,
      "outputs": [
        {
          "output_type": "error",
          "ename": "NameError",
          "evalue": "ignored",
          "traceback": [
            "\u001b[0;31m---------------------------------------------------------------------------\u001b[0m",
            "\u001b[0;31mNameError\u001b[0m                                 Traceback (most recent call last)",
            "\u001b[0;32m<ipython-input-57-69a5a1000f98>\u001b[0m in \u001b[0;36m<module>\u001b[0;34m()\u001b[0m\n\u001b[0;32m----> 1\u001b[0;31m \u001b[0mspam\u001b[0m\u001b[0;34m\u001b[0m\u001b[0;34m\u001b[0m\u001b[0m\n\u001b[0m",
            "\u001b[0;31mNameError\u001b[0m: name 'spam' is not defined"
          ]
        }
      ]
    },
    {
      "cell_type": "code",
      "metadata": {
        "colab": {
          "base_uri": "https://localhost:8080/",
          "height": 163
        },
        "id": "6pw2Bk6YSmM8",
        "outputId": "76e59983-0fa5-425b-b2b8-7adc70abad2f"
      },
      "source": [
        "'spam' + 1"
      ],
      "execution_count": 58,
      "outputs": [
        {
          "output_type": "error",
          "ename": "TypeError",
          "evalue": "ignored",
          "traceback": [
            "\u001b[0;31m---------------------------------------------------------------------------\u001b[0m",
            "\u001b[0;31mTypeError\u001b[0m                                 Traceback (most recent call last)",
            "\u001b[0;32m<ipython-input-58-02deb6ba8348>\u001b[0m in \u001b[0;36m<module>\u001b[0;34m()\u001b[0m\n\u001b[0;32m----> 1\u001b[0;31m \u001b[0;34m'spam'\u001b[0m \u001b[0;34m+\u001b[0m \u001b[0;36m1\u001b[0m\u001b[0;34m\u001b[0m\u001b[0;34m\u001b[0m\u001b[0m\n\u001b[0m",
            "\u001b[0;31mTypeError\u001b[0m: can only concatenate str (not \"int\") to str"
          ]
        }
      ]
    },
    {
      "cell_type": "code",
      "metadata": {
        "colab": {
          "base_uri": "https://localhost:8080/"
        },
        "id": "LQMqTYAZSnby",
        "outputId": "faa687c0-dde1-4951-890f-10f692797f8b"
      },
      "source": [
        "''' Handling Household Problems '''\n",
        "\n",
        "class EletricalError(Exception):\n",
        "\n",
        "    def __init__(self, device, problem):\n",
        "        self.device = device\n",
        "        self.problem = problem\n",
        "\n",
        "    def __str__(self):\n",
        "        return 'The {} is {}'.format(self.device, self.problem)\n",
        "\n",
        "class PlumbingError(Exception):\n",
        "\n",
        "    def __init__(self, device, problem):\n",
        "        self.device = device\n",
        "        self.problem = problem\n",
        "\n",
        "    def __str__(self):\n",
        "        return 'The {} is {}'.format(self.device, self.problem)\n",
        "\n",
        "def cause_error(error_type):\n",
        "    \n",
        "    if error_type == 'electrical':\n",
        "       raise EletricalError('circuit breaker','overload')\n",
        "\n",
        "    elif error_type == 'plumbing':\n",
        "       raise EletricalError('dishwasher','spraing water')\n",
        "\n",
        "try:\n",
        "    cause_error('electrical')\n",
        "except EletricalError as e:\n",
        "    print(e)\n",
        "    print('Fix it myself')\n",
        "except PlumbingError as e:\n",
        "    print(e)\n",
        "    print('Call the plumber')"
      ],
      "execution_count": 62,
      "outputs": [
        {
          "output_type": "stream",
          "text": [
            "The circuit breaker is overload\n",
            "Fix it myself\n"
          ],
          "name": "stdout"
        }
      ]
    },
    {
      "cell_type": "code",
      "metadata": {
        "colab": {
          "base_uri": "https://localhost:8080/"
        },
        "id": "kXgSKbhsfz-Y",
        "outputId": "a1b07665-4a35-4c04-eda7-fd3fad849ec1"
      },
      "source": [
        "try:\n",
        "    cause_error('plumbing')\n",
        "except EletricalError as e:\n",
        "    print(e)\n",
        "    print('Fix it myself')\n",
        "except PlumbingError as e:\n",
        "    print(e)\n",
        "    print('Call the plumber')"
      ],
      "execution_count": 63,
      "outputs": [
        {
          "output_type": "stream",
          "text": [
            "The dishwasher is spraing water\n",
            "Fix it myself\n"
          ],
          "name": "stdout"
        }
      ]
    },
    {
      "cell_type": "code",
      "metadata": {
        "colab": {
          "base_uri": "https://localhost:8080/",
          "height": 350
        },
        "id": "Xz3YnxAVgD9o",
        "outputId": "ef905518-ea05-470c-8965-c0929983b5d9"
      },
      "source": [
        "def cause_error(error_type):\n",
        "    \n",
        "    if error_type == 'electrical':\n",
        "       raise EletricalError('circuit breaker','overload')\n",
        "\n",
        "    elif error_type == 'plumbing':\n",
        "       raise EletricalError('dishwasher','spraing water')\n",
        "\n",
        "    else:\n",
        "       raise Exception('a generic household problem')\n",
        "\n",
        "try:\n",
        "    cause_error('yard')\n",
        "except EletricalError as e:\n",
        "    print(e)\n",
        "    print('Fix it myself')\n",
        "except PlumbingError as e:\n",
        "    print(e)\n",
        "    print('Call the plumber')"
      ],
      "execution_count": 64,
      "outputs": [
        {
          "output_type": "error",
          "ename": "Exception",
          "evalue": "ignored",
          "traceback": [
            "\u001b[0;31m---------------------------------------------------------------------------\u001b[0m",
            "\u001b[0;31mException\u001b[0m                                 Traceback (most recent call last)",
            "\u001b[0;32m<ipython-input-64-0806b67db992>\u001b[0m in \u001b[0;36m<module>\u001b[0;34m()\u001b[0m\n\u001b[1;32m     11\u001b[0m \u001b[0;34m\u001b[0m\u001b[0m\n\u001b[1;32m     12\u001b[0m \u001b[0;32mtry\u001b[0m\u001b[0;34m:\u001b[0m\u001b[0;34m\u001b[0m\u001b[0;34m\u001b[0m\u001b[0m\n\u001b[0;32m---> 13\u001b[0;31m     \u001b[0mcause_error\u001b[0m\u001b[0;34m(\u001b[0m\u001b[0;34m'yard'\u001b[0m\u001b[0;34m)\u001b[0m\u001b[0;34m\u001b[0m\u001b[0;34m\u001b[0m\u001b[0m\n\u001b[0m\u001b[1;32m     14\u001b[0m \u001b[0;32mexcept\u001b[0m \u001b[0mEletricalError\u001b[0m \u001b[0;32mas\u001b[0m \u001b[0me\u001b[0m\u001b[0;34m:\u001b[0m\u001b[0;34m\u001b[0m\u001b[0;34m\u001b[0m\u001b[0m\n\u001b[1;32m     15\u001b[0m     \u001b[0mprint\u001b[0m\u001b[0;34m(\u001b[0m\u001b[0me\u001b[0m\u001b[0;34m)\u001b[0m\u001b[0;34m\u001b[0m\u001b[0;34m\u001b[0m\u001b[0m\n",
            "\u001b[0;32m<ipython-input-64-0806b67db992>\u001b[0m in \u001b[0;36mcause_error\u001b[0;34m(error_type)\u001b[0m\n\u001b[1;32m      8\u001b[0m \u001b[0;34m\u001b[0m\u001b[0m\n\u001b[1;32m      9\u001b[0m     \u001b[0;32melse\u001b[0m\u001b[0;34m:\u001b[0m\u001b[0;34m\u001b[0m\u001b[0;34m\u001b[0m\u001b[0m\n\u001b[0;32m---> 10\u001b[0;31m        \u001b[0;32mraise\u001b[0m \u001b[0mException\u001b[0m\u001b[0;34m(\u001b[0m\u001b[0;34m'a generic household problem'\u001b[0m\u001b[0;34m)\u001b[0m\u001b[0;34m\u001b[0m\u001b[0;34m\u001b[0m\u001b[0m\n\u001b[0m\u001b[1;32m     11\u001b[0m \u001b[0;34m\u001b[0m\u001b[0m\n\u001b[1;32m     12\u001b[0m \u001b[0;32mtry\u001b[0m\u001b[0;34m:\u001b[0m\u001b[0;34m\u001b[0m\u001b[0;34m\u001b[0m\u001b[0m\n",
            "\u001b[0;31mException\u001b[0m: a generic household problem"
          ]
        }
      ]
    },
    {
      "cell_type": "markdown",
      "metadata": {
        "id": "LVNo581Xg6TE"
      },
      "source": [
        "Now, if I use the cause error function to cause another type of error, perhaps the grass in my yard is dying, and then run the script, it'll crash, because the try except block was only built to handle electrical and plumbing problems. When we do not catch and handle an exception, then Python with automatically raise it up to the next level in the program. It does that to allow higher level functions and opportunity to handle the error. However, I'm not using sub functions in this script so when the error gets raised, it causes the program to crash. This exception was a generic type of exception and the message states that it was a generic household problem. I can modify the try except block to handle all types of exceptions by adding a final default except statement that doesn't specify a specific type of error."
      ]
    },
    {
      "cell_type": "code",
      "metadata": {
        "colab": {
          "base_uri": "https://localhost:8080/"
        },
        "id": "Wkpp761Jgd1h",
        "outputId": "0d59c696-c383-4f80-b612-46208d9e8a77"
      },
      "source": [
        "try:\n",
        "    cause_error('yard')\n",
        "except EletricalError as e:\n",
        "    print(e)\n",
        "    print('Fix it myself')\n",
        "except PlumbingError as e:\n",
        "    print(e)\n",
        "    print('Call the plumber')\n",
        "except:\n",
        "    print('Call the landlord')"
      ],
      "execution_count": 66,
      "outputs": [
        {
          "output_type": "stream",
          "text": [
            "Call the landlord\n"
          ],
          "name": "stdout"
        }
      ]
    },
    {
      "cell_type": "code",
      "metadata": {
        "id": "SrfxulbwhT5c"
      },
      "source": [
        "'''\n",
        "Error Handling\n",
        "-important for creating robust code\n",
        "-often overlooked\n",
        "-can be trickier than syntax issues\n",
        "\n",
        "Error handling allows code to execute properly when unexpected events occur\n",
        "'''"
      ],
      "execution_count": null,
      "outputs": []
    }
  ]
}